{
 "cells": [
  {
   "cell_type": "markdown",
   "metadata": {},
   "source": [
    "# John Hopkins & Google Data COVID-19 Model\n",
    "\n",
    "Creating a functional machine learning model of the spread of COVID-19 based on Google's Community Mobility Reports "
   ]
  },
  {
   "cell_type": "code",
   "execution_count": 339,
   "metadata": {},
   "outputs": [],
   "source": [
    "# Load libraries\n",
    "import numpy as np\n",
    "import pandas as pd\n",
    "import matplotlib.pyplot as plt\n",
    "from matplotlib.lines import Line2D #to define a custom legend\n",
    "import seaborn as sns\n",
    "\n",
    "import datetime\n",
    "\n",
    "# Feature Engineering\n",
    "from scipy.signal import savgol_filter\n",
    "\n",
    "# Feature Selection\n",
    "from sklearn.feature_selection import SelectKBest\n",
    "from sklearn.feature_selection import f_regression\n",
    "\n",
    "# Model prep\n",
    "from sklearn.preprocessing import StandardScaler\n",
    "from sklearn.model_selection import train_test_split\n",
    "from sklearn.model_selection import KFold\n",
    "from sklearn.model_selection import cross_val_score\n",
    "\n",
    "# Algorithms\n",
    "from sklearn.linear_model import LinearRegression\n",
    "from sklearn.tree import DecisionTreeRegressor\n",
    "from sklearn.neighbors import KNeighborsRegressor\n",
    "from sklearn.svm import SVR\n",
    "from sklearn.linear_model import SGDRegressor\n",
    "from sklearn.gaussian_process import GaussianProcessRegressor\n",
    "from sklearn.neural_network import MLPRegressor\n",
    "\n",
    "# Evaluation\n",
    "from sklearn.metrics import mean_squared_error\n",
    "from sklearn.metrics import mean_absolute_error"
   ]
  },
  {
   "cell_type": "markdown",
   "metadata": {},
   "source": [
    "# Read in data"
   ]
  },
  {
   "cell_type": "code",
   "execution_count": 340,
   "metadata": {},
   "outputs": [],
   "source": [
    "dfJ_import = pd.read_csv('JH_2020-05-12.csv')\n",
    "dfG = pd.read_csv('Global_Mobility_Report_2020-05-12.csv', sep=',', low_memory=False)\n",
    "\n",
    "#dfJ.head()\n",
    "#dfG.head()"
   ]
  },
  {
   "cell_type": "markdown",
   "metadata": {},
   "source": [
    "## Rearrange John Hopkins data\n",
    "\n",
    "The John Hopkins dataset is not in 'Tidy Format' so here I have crudely manipulated it into a more useful format"
   ]
  },
  {
   "cell_type": "code",
   "execution_count": 341,
   "metadata": {},
   "outputs": [
    {
     "data": {
      "text/html": [
       "<div>\n",
       "<style scoped>\n",
       "    .dataframe tbody tr th:only-of-type {\n",
       "        vertical-align: middle;\n",
       "    }\n",
       "\n",
       "    .dataframe tbody tr th {\n",
       "        vertical-align: top;\n",
       "    }\n",
       "\n",
       "    .dataframe thead th {\n",
       "        text-align: right;\n",
       "    }\n",
       "</style>\n",
       "<table border=\"1\" class=\"dataframe\">\n",
       "  <thead>\n",
       "    <tr style=\"text-align: right;\">\n",
       "      <th></th>\n",
       "      <th>Province/State</th>\n",
       "      <th>Country/Region</th>\n",
       "      <th>Lat</th>\n",
       "      <th>Long</th>\n",
       "      <th>1/22/20</th>\n",
       "      <th>1/23/20</th>\n",
       "      <th>1/24/20</th>\n",
       "      <th>1/25/20</th>\n",
       "      <th>1/26/20</th>\n",
       "      <th>1/27/20</th>\n",
       "      <th>...</th>\n",
       "      <th>5/3/20</th>\n",
       "      <th>5/4/20</th>\n",
       "      <th>5/5/20</th>\n",
       "      <th>5/6/20</th>\n",
       "      <th>5/7/20</th>\n",
       "      <th>5/8/20</th>\n",
       "      <th>5/9/20</th>\n",
       "      <th>5/10/20</th>\n",
       "      <th>5/11/20</th>\n",
       "      <th>5/12/20</th>\n",
       "    </tr>\n",
       "  </thead>\n",
       "  <tbody>\n",
       "    <tr>\n",
       "      <td>0</td>\n",
       "      <td>NaN</td>\n",
       "      <td>Afghanistan</td>\n",
       "      <td>33.0000</td>\n",
       "      <td>65.0000</td>\n",
       "      <td>0</td>\n",
       "      <td>0</td>\n",
       "      <td>0</td>\n",
       "      <td>0</td>\n",
       "      <td>0</td>\n",
       "      <td>0</td>\n",
       "      <td>...</td>\n",
       "      <td>85</td>\n",
       "      <td>90</td>\n",
       "      <td>95</td>\n",
       "      <td>104</td>\n",
       "      <td>106</td>\n",
       "      <td>109</td>\n",
       "      <td>115</td>\n",
       "      <td>120</td>\n",
       "      <td>122</td>\n",
       "      <td>127</td>\n",
       "    </tr>\n",
       "    <tr>\n",
       "      <td>1</td>\n",
       "      <td>NaN</td>\n",
       "      <td>Albania</td>\n",
       "      <td>41.1533</td>\n",
       "      <td>20.1683</td>\n",
       "      <td>0</td>\n",
       "      <td>0</td>\n",
       "      <td>0</td>\n",
       "      <td>0</td>\n",
       "      <td>0</td>\n",
       "      <td>0</td>\n",
       "      <td>...</td>\n",
       "      <td>31</td>\n",
       "      <td>31</td>\n",
       "      <td>31</td>\n",
       "      <td>31</td>\n",
       "      <td>31</td>\n",
       "      <td>31</td>\n",
       "      <td>31</td>\n",
       "      <td>31</td>\n",
       "      <td>31</td>\n",
       "      <td>31</td>\n",
       "    </tr>\n",
       "    <tr>\n",
       "      <td>2</td>\n",
       "      <td>NaN</td>\n",
       "      <td>Algeria</td>\n",
       "      <td>28.0339</td>\n",
       "      <td>1.6596</td>\n",
       "      <td>0</td>\n",
       "      <td>0</td>\n",
       "      <td>0</td>\n",
       "      <td>0</td>\n",
       "      <td>0</td>\n",
       "      <td>0</td>\n",
       "      <td>...</td>\n",
       "      <td>463</td>\n",
       "      <td>465</td>\n",
       "      <td>470</td>\n",
       "      <td>476</td>\n",
       "      <td>483</td>\n",
       "      <td>488</td>\n",
       "      <td>494</td>\n",
       "      <td>502</td>\n",
       "      <td>507</td>\n",
       "      <td>515</td>\n",
       "    </tr>\n",
       "    <tr>\n",
       "      <td>3</td>\n",
       "      <td>NaN</td>\n",
       "      <td>Andorra</td>\n",
       "      <td>42.5063</td>\n",
       "      <td>1.5218</td>\n",
       "      <td>0</td>\n",
       "      <td>0</td>\n",
       "      <td>0</td>\n",
       "      <td>0</td>\n",
       "      <td>0</td>\n",
       "      <td>0</td>\n",
       "      <td>...</td>\n",
       "      <td>45</td>\n",
       "      <td>45</td>\n",
       "      <td>46</td>\n",
       "      <td>46</td>\n",
       "      <td>47</td>\n",
       "      <td>47</td>\n",
       "      <td>48</td>\n",
       "      <td>48</td>\n",
       "      <td>48</td>\n",
       "      <td>48</td>\n",
       "    </tr>\n",
       "    <tr>\n",
       "      <td>4</td>\n",
       "      <td>NaN</td>\n",
       "      <td>Angola</td>\n",
       "      <td>-11.2027</td>\n",
       "      <td>17.8739</td>\n",
       "      <td>0</td>\n",
       "      <td>0</td>\n",
       "      <td>0</td>\n",
       "      <td>0</td>\n",
       "      <td>0</td>\n",
       "      <td>0</td>\n",
       "      <td>...</td>\n",
       "      <td>2</td>\n",
       "      <td>2</td>\n",
       "      <td>2</td>\n",
       "      <td>2</td>\n",
       "      <td>2</td>\n",
       "      <td>2</td>\n",
       "      <td>2</td>\n",
       "      <td>2</td>\n",
       "      <td>2</td>\n",
       "      <td>2</td>\n",
       "    </tr>\n",
       "  </tbody>\n",
       "</table>\n",
       "<p>5 rows × 116 columns</p>\n",
       "</div>"
      ],
      "text/plain": [
       "  Province/State Country/Region      Lat     Long  1/22/20  1/23/20  1/24/20  \\\n",
       "0            NaN    Afghanistan  33.0000  65.0000        0        0        0   \n",
       "1            NaN        Albania  41.1533  20.1683        0        0        0   \n",
       "2            NaN        Algeria  28.0339   1.6596        0        0        0   \n",
       "3            NaN        Andorra  42.5063   1.5218        0        0        0   \n",
       "4            NaN         Angola -11.2027  17.8739        0        0        0   \n",
       "\n",
       "   1/25/20  1/26/20  1/27/20  ...  5/3/20  5/4/20  5/5/20  5/6/20  5/7/20  \\\n",
       "0        0        0        0  ...      85      90      95     104     106   \n",
       "1        0        0        0  ...      31      31      31      31      31   \n",
       "2        0        0        0  ...     463     465     470     476     483   \n",
       "3        0        0        0  ...      45      45      46      46      47   \n",
       "4        0        0        0  ...       2       2       2       2       2   \n",
       "\n",
       "   5/8/20  5/9/20  5/10/20  5/11/20  5/12/20  \n",
       "0     109     115      120      122      127  \n",
       "1      31      31       31       31       31  \n",
       "2     488     494      502      507      515  \n",
       "3      47      48       48       48       48  \n",
       "4       2       2        2        2        2  \n",
       "\n",
       "[5 rows x 116 columns]"
      ]
     },
     "execution_count": 341,
     "metadata": {},
     "output_type": "execute_result"
    }
   ],
   "source": [
    "dfJ_import.head()"
   ]
  },
  {
   "cell_type": "markdown",
   "metadata": {},
   "source": [
    "Get a list of contries with country level data (i.e. no Province/State data)"
   ]
  },
  {
   "cell_type": "code",
   "execution_count": 342,
   "metadata": {},
   "outputs": [],
   "source": [
    "index = pd.isnull(dfJ_import[['Province/State']]).any(1).to_numpy().nonzero()[0]"
   ]
  },
  {
   "cell_type": "markdown",
   "metadata": {},
   "source": [
    "And split the imported dataset into country level data (dfJ_t) and 'Province/State' level data (dfJ_import_r)"
   ]
  },
  {
   "cell_type": "code",
   "execution_count": 343,
   "metadata": {},
   "outputs": [
    {
     "data": {
      "text/html": [
       "<div>\n",
       "<style scoped>\n",
       "    .dataframe tbody tr th:only-of-type {\n",
       "        vertical-align: middle;\n",
       "    }\n",
       "\n",
       "    .dataframe tbody tr th {\n",
       "        vertical-align: top;\n",
       "    }\n",
       "\n",
       "    .dataframe thead th {\n",
       "        text-align: right;\n",
       "    }\n",
       "</style>\n",
       "<table border=\"1\" class=\"dataframe\">\n",
       "  <thead>\n",
       "    <tr style=\"text-align: right;\">\n",
       "      <th></th>\n",
       "      <th>Country/Region</th>\n",
       "      <th>1/22/20</th>\n",
       "      <th>1/23/20</th>\n",
       "      <th>1/24/20</th>\n",
       "      <th>1/25/20</th>\n",
       "      <th>1/26/20</th>\n",
       "      <th>1/27/20</th>\n",
       "      <th>1/28/20</th>\n",
       "      <th>1/29/20</th>\n",
       "      <th>1/30/20</th>\n",
       "      <th>...</th>\n",
       "      <th>5/3/20</th>\n",
       "      <th>5/4/20</th>\n",
       "      <th>5/5/20</th>\n",
       "      <th>5/6/20</th>\n",
       "      <th>5/7/20</th>\n",
       "      <th>5/8/20</th>\n",
       "      <th>5/9/20</th>\n",
       "      <th>5/10/20</th>\n",
       "      <th>5/11/20</th>\n",
       "      <th>5/12/20</th>\n",
       "    </tr>\n",
       "  </thead>\n",
       "  <tbody>\n",
       "    <tr>\n",
       "      <td>0</td>\n",
       "      <td>Afghanistan</td>\n",
       "      <td>0</td>\n",
       "      <td>0</td>\n",
       "      <td>0</td>\n",
       "      <td>0</td>\n",
       "      <td>0</td>\n",
       "      <td>0</td>\n",
       "      <td>0</td>\n",
       "      <td>0</td>\n",
       "      <td>0</td>\n",
       "      <td>...</td>\n",
       "      <td>85</td>\n",
       "      <td>90</td>\n",
       "      <td>95</td>\n",
       "      <td>104</td>\n",
       "      <td>106</td>\n",
       "      <td>109</td>\n",
       "      <td>115</td>\n",
       "      <td>120</td>\n",
       "      <td>122</td>\n",
       "      <td>127</td>\n",
       "    </tr>\n",
       "    <tr>\n",
       "      <td>1</td>\n",
       "      <td>Albania</td>\n",
       "      <td>0</td>\n",
       "      <td>0</td>\n",
       "      <td>0</td>\n",
       "      <td>0</td>\n",
       "      <td>0</td>\n",
       "      <td>0</td>\n",
       "      <td>0</td>\n",
       "      <td>0</td>\n",
       "      <td>0</td>\n",
       "      <td>...</td>\n",
       "      <td>31</td>\n",
       "      <td>31</td>\n",
       "      <td>31</td>\n",
       "      <td>31</td>\n",
       "      <td>31</td>\n",
       "      <td>31</td>\n",
       "      <td>31</td>\n",
       "      <td>31</td>\n",
       "      <td>31</td>\n",
       "      <td>31</td>\n",
       "    </tr>\n",
       "    <tr>\n",
       "      <td>2</td>\n",
       "      <td>Algeria</td>\n",
       "      <td>0</td>\n",
       "      <td>0</td>\n",
       "      <td>0</td>\n",
       "      <td>0</td>\n",
       "      <td>0</td>\n",
       "      <td>0</td>\n",
       "      <td>0</td>\n",
       "      <td>0</td>\n",
       "      <td>0</td>\n",
       "      <td>...</td>\n",
       "      <td>463</td>\n",
       "      <td>465</td>\n",
       "      <td>470</td>\n",
       "      <td>476</td>\n",
       "      <td>483</td>\n",
       "      <td>488</td>\n",
       "      <td>494</td>\n",
       "      <td>502</td>\n",
       "      <td>507</td>\n",
       "      <td>515</td>\n",
       "    </tr>\n",
       "    <tr>\n",
       "      <td>3</td>\n",
       "      <td>Andorra</td>\n",
       "      <td>0</td>\n",
       "      <td>0</td>\n",
       "      <td>0</td>\n",
       "      <td>0</td>\n",
       "      <td>0</td>\n",
       "      <td>0</td>\n",
       "      <td>0</td>\n",
       "      <td>0</td>\n",
       "      <td>0</td>\n",
       "      <td>...</td>\n",
       "      <td>45</td>\n",
       "      <td>45</td>\n",
       "      <td>46</td>\n",
       "      <td>46</td>\n",
       "      <td>47</td>\n",
       "      <td>47</td>\n",
       "      <td>48</td>\n",
       "      <td>48</td>\n",
       "      <td>48</td>\n",
       "      <td>48</td>\n",
       "    </tr>\n",
       "    <tr>\n",
       "      <td>4</td>\n",
       "      <td>Angola</td>\n",
       "      <td>0</td>\n",
       "      <td>0</td>\n",
       "      <td>0</td>\n",
       "      <td>0</td>\n",
       "      <td>0</td>\n",
       "      <td>0</td>\n",
       "      <td>0</td>\n",
       "      <td>0</td>\n",
       "      <td>0</td>\n",
       "      <td>...</td>\n",
       "      <td>2</td>\n",
       "      <td>2</td>\n",
       "      <td>2</td>\n",
       "      <td>2</td>\n",
       "      <td>2</td>\n",
       "      <td>2</td>\n",
       "      <td>2</td>\n",
       "      <td>2</td>\n",
       "      <td>2</td>\n",
       "      <td>2</td>\n",
       "    </tr>\n",
       "  </tbody>\n",
       "</table>\n",
       "<p>5 rows × 113 columns</p>\n",
       "</div>"
      ],
      "text/plain": [
       "  Country/Region  1/22/20  1/23/20  1/24/20  1/25/20  1/26/20  1/27/20  \\\n",
       "0    Afghanistan        0        0        0        0        0        0   \n",
       "1        Albania        0        0        0        0        0        0   \n",
       "2        Algeria        0        0        0        0        0        0   \n",
       "3        Andorra        0        0        0        0        0        0   \n",
       "4         Angola        0        0        0        0        0        0   \n",
       "\n",
       "   1/28/20  1/29/20  1/30/20  ...  5/3/20  5/4/20  5/5/20  5/6/20  5/7/20  \\\n",
       "0        0        0        0  ...      85      90      95     104     106   \n",
       "1        0        0        0  ...      31      31      31      31      31   \n",
       "2        0        0        0  ...     463     465     470     476     483   \n",
       "3        0        0        0  ...      45      45      46      46      47   \n",
       "4        0        0        0  ...       2       2       2       2       2   \n",
       "\n",
       "   5/8/20  5/9/20  5/10/20  5/11/20  5/12/20  \n",
       "0     109     115      120      122      127  \n",
       "1      31      31       31       31       31  \n",
       "2     488     494      502      507      515  \n",
       "3      47      48       48       48       48  \n",
       "4       2       2        2        2        2  \n",
       "\n",
       "[5 rows x 113 columns]"
      ]
     },
     "execution_count": 343,
     "metadata": {},
     "output_type": "execute_result"
    }
   ],
   "source": [
    "temp = pd.DataFrame()\n",
    "\n",
    "dfJ_t = dfJ_import.loc[index,:]\n",
    "dfJ_import_r = dfJ_import.drop(index)\n",
    "\n",
    "dfJ_t = dfJ_t.drop(columns = ['Province/State', 'Lat', 'Long']) #Not using these columns so drop them\n",
    "dfJ_t.head()"
   ]
  },
  {
   "cell_type": "markdown",
   "metadata": {},
   "source": [
    "If there is no country level data available for a 'State/Province' (e.g. China where the data is broken down to each individual state), sum the available data and append the country's name into dfJ, otherwise create a new 'Country/Region' to group all these 'State/Province's"
   ]
  },
  {
   "cell_type": "code",
   "execution_count": 344,
   "metadata": {},
   "outputs": [],
   "source": [
    "stateCountries = dfJ_import_r['Country/Region'].unique()\n",
    "\n",
    "temp = pd.DataFrame(columns = dfJ_t.columns)\n",
    "\n",
    "for x in stateCountries:\n",
    "    \n",
    "    if x in dfJ_t['Country/Region'].unique():\n",
    "    \n",
    "        temp.loc[0,'Country/Region'] = x + ' Overseas Territories' \n",
    "        #Apologies if 'Overseas Territories' is not an appropriate term in some cases.\n",
    "        #I've used it because 'British Overseas Territories' is the general term used for the UK countries so I've generalised\n",
    "    else:\n",
    "        temp.loc[0,'Country/Region'] = x\n",
    "    \n",
    "    for y in dfJ_t.columns[1:]:\n",
    "        temp.loc[0,y] = sum(dfJ_import_r[dfJ_import_r['Country/Region'] == x][y])\n",
    "    \n",
    "    dfJ_t = dfJ_t.append(temp, ignore_index=True)"
   ]
  },
  {
   "cell_type": "markdown",
   "metadata": {},
   "source": [
    "'Rotate' the data so that it's closer to 'Tidy Format' "
   ]
  },
  {
   "cell_type": "code",
   "execution_count": 345,
   "metadata": {},
   "outputs": [
    {
     "data": {
      "text/html": [
       "<div>\n",
       "<style scoped>\n",
       "    .dataframe tbody tr th:only-of-type {\n",
       "        vertical-align: middle;\n",
       "    }\n",
       "\n",
       "    .dataframe tbody tr th {\n",
       "        vertical-align: top;\n",
       "    }\n",
       "\n",
       "    .dataframe thead th {\n",
       "        text-align: right;\n",
       "    }\n",
       "</style>\n",
       "<table border=\"1\" class=\"dataframe\">\n",
       "  <thead>\n",
       "    <tr style=\"text-align: right;\">\n",
       "      <th></th>\n",
       "      <th>Date</th>\n",
       "      <th>Afghanistan</th>\n",
       "      <th>Albania</th>\n",
       "      <th>Algeria</th>\n",
       "      <th>Andorra</th>\n",
       "      <th>Angola</th>\n",
       "      <th>Antigua and Barbuda</th>\n",
       "      <th>Argentina</th>\n",
       "      <th>Armenia</th>\n",
       "      <th>Austria</th>\n",
       "      <th>...</th>\n",
       "      <th>Yemen</th>\n",
       "      <th>Comoros</th>\n",
       "      <th>Tajikistan</th>\n",
       "      <th>Australia</th>\n",
       "      <th>Canada</th>\n",
       "      <th>China</th>\n",
       "      <th>Denmark Overseas Territories</th>\n",
       "      <th>France Overseas Territories</th>\n",
       "      <th>Netherlands Overseas Territories</th>\n",
       "      <th>United Kingdom Overseas Territories</th>\n",
       "    </tr>\n",
       "  </thead>\n",
       "  <tbody>\n",
       "    <tr>\n",
       "      <td>0</td>\n",
       "      <td>1/22/20</td>\n",
       "      <td>0</td>\n",
       "      <td>0</td>\n",
       "      <td>0</td>\n",
       "      <td>0</td>\n",
       "      <td>0</td>\n",
       "      <td>0</td>\n",
       "      <td>0</td>\n",
       "      <td>0</td>\n",
       "      <td>0</td>\n",
       "      <td>...</td>\n",
       "      <td>0</td>\n",
       "      <td>0</td>\n",
       "      <td>0</td>\n",
       "      <td>0</td>\n",
       "      <td>0</td>\n",
       "      <td>17</td>\n",
       "      <td>0</td>\n",
       "      <td>0</td>\n",
       "      <td>0</td>\n",
       "      <td>0</td>\n",
       "    </tr>\n",
       "    <tr>\n",
       "      <td>1</td>\n",
       "      <td>1/23/20</td>\n",
       "      <td>0</td>\n",
       "      <td>0</td>\n",
       "      <td>0</td>\n",
       "      <td>0</td>\n",
       "      <td>0</td>\n",
       "      <td>0</td>\n",
       "      <td>0</td>\n",
       "      <td>0</td>\n",
       "      <td>0</td>\n",
       "      <td>...</td>\n",
       "      <td>0</td>\n",
       "      <td>0</td>\n",
       "      <td>0</td>\n",
       "      <td>0</td>\n",
       "      <td>0</td>\n",
       "      <td>18</td>\n",
       "      <td>0</td>\n",
       "      <td>0</td>\n",
       "      <td>0</td>\n",
       "      <td>0</td>\n",
       "    </tr>\n",
       "    <tr>\n",
       "      <td>2</td>\n",
       "      <td>1/24/20</td>\n",
       "      <td>0</td>\n",
       "      <td>0</td>\n",
       "      <td>0</td>\n",
       "      <td>0</td>\n",
       "      <td>0</td>\n",
       "      <td>0</td>\n",
       "      <td>0</td>\n",
       "      <td>0</td>\n",
       "      <td>0</td>\n",
       "      <td>...</td>\n",
       "      <td>0</td>\n",
       "      <td>0</td>\n",
       "      <td>0</td>\n",
       "      <td>0</td>\n",
       "      <td>0</td>\n",
       "      <td>26</td>\n",
       "      <td>0</td>\n",
       "      <td>0</td>\n",
       "      <td>0</td>\n",
       "      <td>0</td>\n",
       "    </tr>\n",
       "    <tr>\n",
       "      <td>3</td>\n",
       "      <td>1/25/20</td>\n",
       "      <td>0</td>\n",
       "      <td>0</td>\n",
       "      <td>0</td>\n",
       "      <td>0</td>\n",
       "      <td>0</td>\n",
       "      <td>0</td>\n",
       "      <td>0</td>\n",
       "      <td>0</td>\n",
       "      <td>0</td>\n",
       "      <td>...</td>\n",
       "      <td>0</td>\n",
       "      <td>0</td>\n",
       "      <td>0</td>\n",
       "      <td>0</td>\n",
       "      <td>0</td>\n",
       "      <td>42</td>\n",
       "      <td>0</td>\n",
       "      <td>0</td>\n",
       "      <td>0</td>\n",
       "      <td>0</td>\n",
       "    </tr>\n",
       "    <tr>\n",
       "      <td>4</td>\n",
       "      <td>1/26/20</td>\n",
       "      <td>0</td>\n",
       "      <td>0</td>\n",
       "      <td>0</td>\n",
       "      <td>0</td>\n",
       "      <td>0</td>\n",
       "      <td>0</td>\n",
       "      <td>0</td>\n",
       "      <td>0</td>\n",
       "      <td>0</td>\n",
       "      <td>...</td>\n",
       "      <td>0</td>\n",
       "      <td>0</td>\n",
       "      <td>0</td>\n",
       "      <td>0</td>\n",
       "      <td>0</td>\n",
       "      <td>56</td>\n",
       "      <td>0</td>\n",
       "      <td>0</td>\n",
       "      <td>0</td>\n",
       "      <td>0</td>\n",
       "    </tr>\n",
       "  </tbody>\n",
       "</table>\n",
       "<p>5 rows × 192 columns</p>\n",
       "</div>"
      ],
      "text/plain": [
       "      Date Afghanistan Albania Algeria Andorra Angola Antigua and Barbuda  \\\n",
       "0  1/22/20           0       0       0       0      0                   0   \n",
       "1  1/23/20           0       0       0       0      0                   0   \n",
       "2  1/24/20           0       0       0       0      0                   0   \n",
       "3  1/25/20           0       0       0       0      0                   0   \n",
       "4  1/26/20           0       0       0       0      0                   0   \n",
       "\n",
       "  Argentina Armenia Austria  ... Yemen Comoros Tajikistan Australia Canada  \\\n",
       "0         0       0       0  ...     0       0          0         0      0   \n",
       "1         0       0       0  ...     0       0          0         0      0   \n",
       "2         0       0       0  ...     0       0          0         0      0   \n",
       "3         0       0       0  ...     0       0          0         0      0   \n",
       "4         0       0       0  ...     0       0          0         0      0   \n",
       "\n",
       "  China Denmark Overseas Territories France Overseas Territories  \\\n",
       "0    17                            0                           0   \n",
       "1    18                            0                           0   \n",
       "2    26                            0                           0   \n",
       "3    42                            0                           0   \n",
       "4    56                            0                           0   \n",
       "\n",
       "  Netherlands Overseas Territories United Kingdom Overseas Territories  \n",
       "0                                0                                   0  \n",
       "1                                0                                   0  \n",
       "2                                0                                   0  \n",
       "3                                0                                   0  \n",
       "4                                0                                   0  \n",
       "\n",
       "[5 rows x 192 columns]"
      ]
     },
     "execution_count": 345,
     "metadata": {},
     "output_type": "execute_result"
    }
   ],
   "source": [
    "variable = dfJ_t['Country/Region'].values\n",
    "dfJ = pd.DataFrame(columns = variable)\n",
    "dfJ.reset_index()\n",
    "#n_dfJ.drop(columns='Country/Region')\n",
    "dfJ['Date'] = dfJ_t.columns[1:]\n",
    "\n",
    "for x in dfJ.columns[0:-1]:\n",
    "    \n",
    "    dfJ_index, = np.where(dfJ_t['Country/Region'][:].values == x)[0]\n",
    "    dfJ.loc[:,x] = dfJ_t.iloc[dfJ_index][1:].values\n",
    "\n",
    "### Reorder so Date is the first column in the Data Frame\n",
    "temp = dfJ.pop('Date')\n",
    "dfJ.insert(0, 'Date', temp)\n",
    "dfJ.head()"
   ]
  },
  {
   "cell_type": "markdown",
   "metadata": {},
   "source": [
    "The 'Diamond Princess' isn't a country so... Remove it. \n",
    "\n",
    "More seriously, in most countries the number of infections are vastly lower than the total population. This wasn't the case on the Diamond Princess so I believe it could be tricky data to interpret"
   ]
  },
  {
   "cell_type": "code",
   "execution_count": 346,
   "metadata": {},
   "outputs": [],
   "source": [
    "dfJ = dfJ.drop(columns = 'Diamond Princess')"
   ]
  },
  {
   "cell_type": "markdown",
   "metadata": {},
   "source": [
    "Specify that 'Date' is in datetime format"
   ]
  },
  {
   "cell_type": "code",
   "execution_count": 347,
   "metadata": {},
   "outputs": [],
   "source": [
    "dfJ[\"Date\"] = pd.to_datetime(dfJ[\"Date\"], format='%m/%d/%y')"
   ]
  },
  {
   "cell_type": "markdown",
   "metadata": {},
   "source": [
    "## Update Google Data\n",
    "\n",
    "Google's Mobility Report data is in tidy format so only small changes are needed:"
   ]
  },
  {
   "cell_type": "markdown",
   "metadata": {},
   "source": [
    "Rename columns to be consistent"
   ]
  },
  {
   "cell_type": "code",
   "execution_count": 348,
   "metadata": {},
   "outputs": [],
   "source": [
    "dfG = dfG.rename(columns={\"country_region\": \"Country\", \"date\": \"Date\"})"
   ]
  },
  {
   "cell_type": "markdown",
   "metadata": {},
   "source": [
    "And specify that the dates are datetime format"
   ]
  },
  {
   "cell_type": "code",
   "execution_count": 349,
   "metadata": {},
   "outputs": [],
   "source": [
    "dfG[\"Date\"] = pd.to_datetime(dfG[\"Date\"])\n",
    "\n",
    "#dfG.dtypes"
   ]
  },
  {
   "cell_type": "markdown",
   "metadata": {},
   "source": [
    "# Remove unnecessary / unused columns"
   ]
  },
  {
   "cell_type": "markdown",
   "metadata": {},
   "source": [
    "## John Hopkins data"
   ]
  },
  {
   "cell_type": "markdown",
   "metadata": {},
   "source": [
    "### Rename headers"
   ]
  },
  {
   "cell_type": "markdown",
   "metadata": {},
   "source": [
    "As this data will be merged with Google's, it's important countries have exactly the same names"
   ]
  },
  {
   "cell_type": "code",
   "execution_count": 350,
   "metadata": {},
   "outputs": [],
   "source": [
    "dfJ = dfJ.rename(columns={\"US\": \"USA\", \"Taiwan*\":\"Taiwan\"})"
   ]
  },
  {
   "cell_type": "markdown",
   "metadata": {},
   "source": [
    "### Remove countries with a 'small' number of cases\n",
    "\n",
    "This model focuses on countries with, relatively speaking, a larger number of cases so this step removes other countries"
   ]
  },
  {
   "cell_type": "code",
   "execution_count": 351,
   "metadata": {},
   "outputs": [],
   "source": [
    "limitCount = 3000 # minimum count to not be discounted\n",
    "\n",
    "lowDeaths = pd.DataFrame()\n",
    "for x in list(dfJ.columns[1:]): #Starts at 1 to ignore 'Date'\n",
    "    if max(dfJ[x][:])<=limitCount:\n",
    "        temp = dfJ.pop(x)\n",
    "        lowDeaths[temp.name] = temp\n",
    "\n",
    "#dfJ.head()\n",
    "#lowDeaths.head()"
   ]
  },
  {
   "cell_type": "markdown",
   "metadata": {},
   "source": [
    "### Change to 'tidy' format"
   ]
  },
  {
   "cell_type": "code",
   "execution_count": 352,
   "metadata": {},
   "outputs": [
    {
     "data": {
      "text/html": [
       "<div>\n",
       "<style scoped>\n",
       "    .dataframe tbody tr th:only-of-type {\n",
       "        vertical-align: middle;\n",
       "    }\n",
       "\n",
       "    .dataframe tbody tr th {\n",
       "        vertical-align: top;\n",
       "    }\n",
       "\n",
       "    .dataframe thead th {\n",
       "        text-align: right;\n",
       "    }\n",
       "</style>\n",
       "<table border=\"1\" class=\"dataframe\">\n",
       "  <thead>\n",
       "    <tr style=\"text-align: right;\">\n",
       "      <th></th>\n",
       "      <th>Country</th>\n",
       "      <th>Date</th>\n",
       "      <th>Deaths</th>\n",
       "    </tr>\n",
       "  </thead>\n",
       "  <tbody>\n",
       "    <tr>\n",
       "      <td>0</td>\n",
       "      <td>Belgium</td>\n",
       "      <td>2020-03-11</td>\n",
       "      <td>3</td>\n",
       "    </tr>\n",
       "    <tr>\n",
       "      <td>1</td>\n",
       "      <td>Belgium</td>\n",
       "      <td>2020-03-12</td>\n",
       "      <td>3</td>\n",
       "    </tr>\n",
       "    <tr>\n",
       "      <td>2</td>\n",
       "      <td>Belgium</td>\n",
       "      <td>2020-03-13</td>\n",
       "      <td>3</td>\n",
       "    </tr>\n",
       "    <tr>\n",
       "      <td>3</td>\n",
       "      <td>Belgium</td>\n",
       "      <td>2020-03-14</td>\n",
       "      <td>4</td>\n",
       "    </tr>\n",
       "    <tr>\n",
       "      <td>4</td>\n",
       "      <td>Belgium</td>\n",
       "      <td>2020-03-15</td>\n",
       "      <td>4</td>\n",
       "    </tr>\n",
       "  </tbody>\n",
       "</table>\n",
       "</div>"
      ],
      "text/plain": [
       "   Country       Date Deaths\n",
       "0  Belgium 2020-03-11      3\n",
       "1  Belgium 2020-03-12      3\n",
       "2  Belgium 2020-03-13      3\n",
       "3  Belgium 2020-03-14      4\n",
       "4  Belgium 2020-03-15      4"
      ]
     },
     "execution_count": 352,
     "metadata": {},
     "output_type": "execute_result"
    }
   ],
   "source": [
    "trimmedDf = pd.DataFrame(columns = ['Country', 'Deaths'])\n",
    "\n",
    "temp = pd.DataFrame()#columns = ['Day_0', 'Country', 'Deaths'])\n",
    "#for loop loops through countries. Skips index 0 as that's the date (not a country...)\n",
    "for x in list(dfJ.columns[1:]):\n",
    "    \n",
    "    nonZero = dfJ[x].to_numpy().nonzero()\n",
    "    firstVal = nonZero[0][0]\n",
    "    tempList = list(dfJ[x][firstVal:])\n",
    "    \n",
    "    #temp[dayVal] = range(1,len(tempList)+1)\n",
    "    temp['Country'] = [x] * (len(tempList))\n",
    "    temp['Date'] = list(dfJ['Date'][firstVal:])\n",
    "    temp['Deaths'] = tempList\n",
    "    \n",
    "    trimmedDf = trimmedDf.append(temp, ignore_index=True, sort=True)\n",
    "    temp = temp.iloc[0:0] #reset temp\n",
    "\n",
    "dfJ = trimmedDf.copy()  \n",
    "del trimmedDf, temp\n",
    "dfJ.head()"
   ]
  },
  {
   "cell_type": "markdown",
   "metadata": {},
   "source": [
    "## Google data\n",
    "We're only using the country level data, so removing sub-regions "
   ]
  },
  {
   "cell_type": "code",
   "execution_count": 353,
   "metadata": {},
   "outputs": [],
   "source": [
    "dfG = dfG.drop(dfG.index[pd.notna(dfG['sub_region_1'])]) # Remove all not-empty subregion rows\n",
    "dfG = dfG.drop(columns=['sub_region_1', 'sub_region_2', 'country_region_code']) # Remove unnecessary columns"
   ]
  },
  {
   "cell_type": "markdown",
   "metadata": {},
   "source": [
    "### Rename Countries"
   ]
  },
  {
   "cell_type": "markdown",
   "metadata": {},
   "source": [
    "As this data will be merged with John Hopkins' it's important that countries are named consistently"
   ]
  },
  {
   "cell_type": "code",
   "execution_count": 354,
   "metadata": {
    "scrolled": true
   },
   "outputs": [],
   "source": [
    "dfG.loc[(dfG['Country'] == 'United States'),'Country'] = 'USA'"
   ]
  },
  {
   "cell_type": "markdown",
   "metadata": {},
   "source": [
    "### Rename headers\n",
    "Just to neaten things up for later (when plotting anything), I'm shortening the column titles"
   ]
  },
  {
   "cell_type": "code",
   "execution_count": 355,
   "metadata": {},
   "outputs": [],
   "source": [
    "dfG = dfG.rename(columns={\"retail_and_recreation_percent_change_from_baseline\": \"Retail and Recreation\",\n",
    "                          \"grocery_and_pharmacy_percent_change_from_baseline\":\"Grocery and Pharmacy\", \n",
    "                          \"parks_percent_change_from_baseline\":\"Parks\", \n",
    "                          \"transit_stations_percent_change_from_baseline\":\"Transit Stations\", \n",
    "                          \"workplaces_percent_change_from_baseline\":\"Workplaces\",\n",
    "                          \"residential_percent_change_from_baseline\": \"Residential\"})\n",
    "\n",
    "#dfG.head()"
   ]
  },
  {
   "cell_type": "markdown",
   "metadata": {},
   "source": [
    "# Feature 'Engineering'\n",
    "Turning the features into something more useful\n",
    "\n",
    "Not the most efficient, but I do this before merging the John Hopkins and Google datasets because you lose a few dates when merging the data.\n",
    "\n",
    "While it would be more computationally efficient to calculate each of the following in the same loop, I have decided to split them out for legibility."
   ]
  },
  {
   "cell_type": "markdown",
   "metadata": {},
   "source": [
    "## Calculate the number of new deaths per day"
   ]
  },
  {
   "cell_type": "code",
   "execution_count": 356,
   "metadata": {},
   "outputs": [
    {
     "data": {
      "text/html": [
       "<div>\n",
       "<style scoped>\n",
       "    .dataframe tbody tr th:only-of-type {\n",
       "        vertical-align: middle;\n",
       "    }\n",
       "\n",
       "    .dataframe tbody tr th {\n",
       "        vertical-align: top;\n",
       "    }\n",
       "\n",
       "    .dataframe thead th {\n",
       "        text-align: right;\n",
       "    }\n",
       "</style>\n",
       "<table border=\"1\" class=\"dataframe\">\n",
       "  <thead>\n",
       "    <tr style=\"text-align: right;\">\n",
       "      <th></th>\n",
       "      <th>Country</th>\n",
       "      <th>Date</th>\n",
       "      <th>Deaths</th>\n",
       "      <th>dDeaths</th>\n",
       "    </tr>\n",
       "  </thead>\n",
       "  <tbody>\n",
       "    <tr>\n",
       "      <td>0</td>\n",
       "      <td>Belgium</td>\n",
       "      <td>2020-03-12</td>\n",
       "      <td>3</td>\n",
       "      <td>0</td>\n",
       "    </tr>\n",
       "    <tr>\n",
       "      <td>1</td>\n",
       "      <td>Belgium</td>\n",
       "      <td>2020-03-13</td>\n",
       "      <td>3</td>\n",
       "      <td>0</td>\n",
       "    </tr>\n",
       "    <tr>\n",
       "      <td>2</td>\n",
       "      <td>Belgium</td>\n",
       "      <td>2020-03-14</td>\n",
       "      <td>4</td>\n",
       "      <td>1</td>\n",
       "    </tr>\n",
       "    <tr>\n",
       "      <td>3</td>\n",
       "      <td>Belgium</td>\n",
       "      <td>2020-03-15</td>\n",
       "      <td>4</td>\n",
       "      <td>0</td>\n",
       "    </tr>\n",
       "    <tr>\n",
       "      <td>4</td>\n",
       "      <td>Belgium</td>\n",
       "      <td>2020-03-16</td>\n",
       "      <td>5</td>\n",
       "      <td>1</td>\n",
       "    </tr>\n",
       "  </tbody>\n",
       "</table>\n",
       "</div>"
      ],
      "text/plain": [
       "   Country       Date Deaths  dDeaths\n",
       "0  Belgium 2020-03-12      3        0\n",
       "1  Belgium 2020-03-13      3        0\n",
       "2  Belgium 2020-03-14      4        1\n",
       "3  Belgium 2020-03-15      4        0\n",
       "4  Belgium 2020-03-16      5        1"
      ]
     },
     "execution_count": 356,
     "metadata": {},
     "output_type": "execute_result"
    }
   ],
   "source": [
    "dfJ['dDeaths'] = np.nan\n",
    "\n",
    "#Loop through all unique countries\n",
    "for x in dfJ['Country'].unique(): \n",
    "    indexList = dfJ[dfJ.Country == x]['Deaths'].index.values.astype(int)\n",
    "    \n",
    "    #Loop through all recordings for that country   \n",
    "    for y in indexList[1:]: \n",
    "        dfJ.loc[y, 'dDeaths'] = dfJ.loc[y, 'Deaths'] - dfJ.loc[(y-1), 'Deaths']\n",
    "        \n",
    "        #Some countries have abruptly revised upwards their estimates of death. \n",
    "        #To avoid introducing a random peak in the data, I've added this check to replace the value with the average of the one before and after\n",
    "        if dfJ.loc[y, 'dDeaths'] > 1000 and dfJ.loc[y, 'dDeaths'] > 100 * abs(dfJ.loc[y-1, 'dDeaths']):\n",
    "            dfJ.loc[y, 'dDeaths'] = ((dfJ.loc[y-1, 'dDeaths']) + (dfJ.loc[y+1, 'Deaths'] - dfJ.loc[(y), 'Deaths']))/2\n",
    "      \n",
    "\n",
    " #Remove NaNs left from the first row for each country\n",
    "dfJ = dfJ.dropna().reset_index(drop = True)\n",
    "dfJ['dDeaths'] = dfJ['dDeaths'].dropna().astype(int)        \n",
    "dfJ.head()"
   ]
  },
  {
   "cell_type": "markdown",
   "metadata": {},
   "source": [
    "### Pass this through a filter to remove the 'noise'\n",
    "\n",
    "The JH data presents the number of new deaths reported by the government on a day, but not the date it they actually occur. Therefore there is a bit of 'noise' on this data as reporting increases and decreases during a working week. \n",
    "\n",
    "Filtering this aims to remove this 'noise'.\n",
    "\n",
    "I have chosen a 7 day rolling mean as I noticed some filters struggled fitting at the end of the data (and the results were overly influenced by noise)"
   ]
  },
  {
   "cell_type": "code",
   "execution_count": 357,
   "metadata": {
    "scrolled": true
   },
   "outputs": [
    {
     "data": {
      "text/html": [
       "<div>\n",
       "<style scoped>\n",
       "    .dataframe tbody tr th:only-of-type {\n",
       "        vertical-align: middle;\n",
       "    }\n",
       "\n",
       "    .dataframe tbody tr th {\n",
       "        vertical-align: top;\n",
       "    }\n",
       "\n",
       "    .dataframe thead th {\n",
       "        text-align: right;\n",
       "    }\n",
       "</style>\n",
       "<table border=\"1\" class=\"dataframe\">\n",
       "  <thead>\n",
       "    <tr style=\"text-align: right;\">\n",
       "      <th></th>\n",
       "      <th>Country</th>\n",
       "      <th>Date</th>\n",
       "      <th>Deaths</th>\n",
       "      <th>dDeaths</th>\n",
       "      <th>dDeaths_filtered</th>\n",
       "    </tr>\n",
       "  </thead>\n",
       "  <tbody>\n",
       "    <tr>\n",
       "      <td>0</td>\n",
       "      <td>Belgium</td>\n",
       "      <td>2020-03-12</td>\n",
       "      <td>3</td>\n",
       "      <td>0</td>\n",
       "      <td>0.000000</td>\n",
       "    </tr>\n",
       "    <tr>\n",
       "      <td>1</td>\n",
       "      <td>Belgium</td>\n",
       "      <td>2020-03-13</td>\n",
       "      <td>3</td>\n",
       "      <td>0</td>\n",
       "      <td>0.000000</td>\n",
       "    </tr>\n",
       "    <tr>\n",
       "      <td>2</td>\n",
       "      <td>Belgium</td>\n",
       "      <td>2020-03-14</td>\n",
       "      <td>4</td>\n",
       "      <td>1</td>\n",
       "      <td>0.333333</td>\n",
       "    </tr>\n",
       "    <tr>\n",
       "      <td>3</td>\n",
       "      <td>Belgium</td>\n",
       "      <td>2020-03-15</td>\n",
       "      <td>4</td>\n",
       "      <td>0</td>\n",
       "      <td>0.250000</td>\n",
       "    </tr>\n",
       "    <tr>\n",
       "      <td>4</td>\n",
       "      <td>Belgium</td>\n",
       "      <td>2020-03-16</td>\n",
       "      <td>5</td>\n",
       "      <td>1</td>\n",
       "      <td>0.400000</td>\n",
       "    </tr>\n",
       "  </tbody>\n",
       "</table>\n",
       "</div>"
      ],
      "text/plain": [
       "   Country       Date Deaths  dDeaths  dDeaths_filtered\n",
       "0  Belgium 2020-03-12      3        0          0.000000\n",
       "1  Belgium 2020-03-13      3        0          0.000000\n",
       "2  Belgium 2020-03-14      4        1          0.333333\n",
       "3  Belgium 2020-03-15      4        0          0.250000\n",
       "4  Belgium 2020-03-16      5        1          0.400000"
      ]
     },
     "execution_count": 357,
     "metadata": {},
     "output_type": "execute_result"
    }
   ],
   "source": [
    "dfJ['dDeaths_filtered'] = np.nan\n",
    "rollingAv = 7\n",
    "\n",
    "\n",
    "for x in dfJ['Country'].unique(): #Loop through all unique countries\n",
    "    \n",
    "    indexList = dfJ[dfJ.Country == x]['dDeaths'].index\n",
    "    \n",
    "    if len(indexList) < rollingAv:\n",
    "        \n",
    "        for y in range(0,len(indexList)):    \n",
    "            dfJ.loc[indexList[y],'dDeaths_filtered'] = dfJ.loc[min(indexList):indexList[y],'dDeaths'].mean()\n",
    "    \n",
    "    else:\n",
    "        \n",
    "        for y in range(0,rollingAv):            \n",
    "            dfJ.loc[indexList[y],'dDeaths_filtered'] = dfJ.loc[min(indexList):indexList[y],'dDeaths'].mean()\n",
    "            \n",
    "        for y in range(rollingAv,len(indexList)):            \n",
    "            dfJ.loc[indexList[y],'dDeaths_filtered'] = dfJ.loc[indexList[y-rollingAv+1]:indexList[y],'dDeaths'].mean()\n",
    "\n",
    "dfJ.head()"
   ]
  },
  {
   "cell_type": "markdown",
   "metadata": {},
   "source": [
    "### Divide by the total deaths"
   ]
  },
  {
   "cell_type": "code",
   "execution_count": 358,
   "metadata": {},
   "outputs": [],
   "source": [
    "dfJ['dDeaths_f/total'] = dfJ['dDeaths_filtered'] / dfJ['Deaths']"
   ]
  },
  {
   "cell_type": "markdown",
   "metadata": {},
   "source": [
    "## Calculate the rate of change of new reported deaths"
   ]
  },
  {
   "cell_type": "code",
   "execution_count": 360,
   "metadata": {},
   "outputs": [],
   "source": [
    "dfJ['dd_Deaths'] = np.nan\n",
    "\n",
    "#Loop through all unique countries\n",
    "for x in dfJ['Country'].unique(): \n",
    "    \n",
    "    indexList = dfJ[dfJ.Country == x]['dDeaths'].index.values.astype(int)\n",
    "    \n",
    "    dfJ.loc[indexList[0],'dd_Deaths'] = dfJ.loc[indexList[0], 'dDeaths_filtered']\n",
    "    \n",
    "    for y in indexList[1:]:\n",
    "        dfJ.loc[y,'dd_Deaths'] = dfJ.loc[y, 'dDeaths_filtered'] - dfJ.loc[y-1, 'dDeaths_filtered']\n",
    "\n",
    "#dfJ.head()"
   ]
  },
  {
   "cell_type": "markdown",
   "metadata": {},
   "source": [
    "And filter this data as well\n",
    "\n",
    "Note: I have effectively removed this filter (setting the rolling average to include just 1 day) as it seemed to overly dampen the data. I've left this step in in case a better solution appears in the future"
   ]
  },
  {
   "cell_type": "code",
   "execution_count": 361,
   "metadata": {},
   "outputs": [],
   "source": [
    "dfJ['dd_Deaths_filtered'] = np.nan\n",
    "\n",
    "#Loop through all unique countries\n",
    "for x in dfJ['Country'].unique(): \n",
    "    \n",
    "    indexList = dfJ[dfJ.Country == x]['dd_Deaths'].index.values.astype(int)\n",
    "    \n",
    "    dfJ.loc[indexList,'dd_Deaths_filtered'] = savgol_filter(dfJ[dfJ.Country == x]['dd_Deaths'], 15, 3)"
   ]
  },
  {
   "cell_type": "markdown",
   "metadata": {},
   "source": [
    "dfJ['dd_Deaths_filtered'] = np.nan\n",
    "rollingAv2 = 1\n",
    "\n",
    "for x in dfJ['Country'].unique(): #Loop through all unique countries\n",
    "    \n",
    "    indexList = dfJ[dfJ.Country == x]['dd_Deaths'].index\n",
    "    \n",
    "    if len(indexList) < rollingAv2:\n",
    "        \n",
    "        for y in range(0,len(indexList)):    \n",
    "            dfJ.loc[indexList[y],'dd_Deaths_filtered'] = dfJ.loc[min(indexList):indexList[y],'dd_Deaths'].mean()\n",
    "    \n",
    "    else:\n",
    "        \n",
    "        for y in range(0,rollingAv2):            \n",
    "            dfJ.loc[indexList[y],'dd_Deaths_filtered'] = dfJ.loc[min(indexList):indexList[y],'dd_Deaths'].mean()\n",
    "            \n",
    "        for y in range(rollingAv2,len(indexList)):            \n",
    "            dfJ.loc[indexList[y],'dd_Deaths_filtered'] = dfJ.loc[indexList[y-rollingAv2]:indexList[y],'dd_Deaths'].mean()\n",
    "dfJ.head()"
   ]
  },
  {
   "cell_type": "markdown",
   "metadata": {},
   "source": [
    "And divide by dDeaths_filtered to 'Normalise' it"
   ]
  },
  {
   "cell_type": "code",
   "execution_count": 362,
   "metadata": {},
   "outputs": [],
   "source": [
    "dfJ['dd_Deaths_f/dDeaths_f'] = dfJ['dd_Deaths_filtered'] / dfJ['dDeaths_filtered']"
   ]
  },
  {
   "cell_type": "markdown",
   "metadata": {},
   "source": [
    "Data at the early stage of an outbreak can be unreliable and so noisy so this step removes it (see loop below)"
   ]
  },
  {
   "cell_type": "code",
   "execution_count": 363,
   "metadata": {},
   "outputs": [],
   "source": [
    "minD = 100\n",
    "dayVal = 'Day_' + str(minD)\n",
    "dfJ[dayVal] = -1\n",
    "\n",
    "for x in dfJ['Country'].unique():\n",
    "    countryIndex = dfJ[dfJ['Country'] == x].index\n",
    "    \n",
    "    for y in countryIndex:\n",
    "        if dfJ.loc[y,'Deaths'] < minD:\n",
    "            dfJ.loc[y,dayVal] = np.nan\n",
    "            \n",
    "        else:\n",
    "            dfJ.loc[y:max(countryIndex), dayVal] = list(map(round, range(0,(max(countryIndex)-y+1))))\n",
    "            break\n",
    "\n",
    "#This removes all the NANs (from below the minimum value), as well as all infinities from dividing by zero (caused 7 consecutive days of no change in deaths)\n",
    "dfJ = dfJ.replace([np.inf, -np.inf], np.nan).dropna().reset_index(drop=True)"
   ]
  },
  {
   "cell_type": "markdown",
   "metadata": {},
   "source": [
    "# Merge Data"
   ]
  },
  {
   "cell_type": "markdown",
   "metadata": {},
   "source": [
    "## Pre-Merge Feature Engineering\n",
    "Google's dataset should be in some way proportional to the daily infections. I'm also assuming the number of deaths is (roughly) proportional to the number of infections. \n",
    "\n",
    "However, deaths do not occur on the same day as an infection but are offset. So, I'm assuming a 21 day offset"
   ]
  },
  {
   "cell_type": "code",
   "execution_count": 364,
   "metadata": {},
   "outputs": [],
   "source": [
    "dayOffset = 21\n",
    "dfG_offset = dfG.copy()\n",
    "dfG_offset['Date'] = dfG['Date'] + datetime.timedelta(days=dayOffset)\n",
    "#I label this dfG_offset because I occasionally check which offset generates the best model. \n",
    "#It's unhelpful having to re-run absolutely everything "
   ]
  },
  {
   "cell_type": "markdown",
   "metadata": {},
   "source": [
    "## Merging"
   ]
  },
  {
   "cell_type": "code",
   "execution_count": 365,
   "metadata": {},
   "outputs": [
    {
     "data": {
      "text/html": [
       "<div>\n",
       "<style scoped>\n",
       "    .dataframe tbody tr th:only-of-type {\n",
       "        vertical-align: middle;\n",
       "    }\n",
       "\n",
       "    .dataframe tbody tr th {\n",
       "        vertical-align: top;\n",
       "    }\n",
       "\n",
       "    .dataframe thead th {\n",
       "        text-align: right;\n",
       "    }\n",
       "</style>\n",
       "<table border=\"1\" class=\"dataframe\">\n",
       "  <thead>\n",
       "    <tr style=\"text-align: right;\">\n",
       "      <th></th>\n",
       "      <th>Country</th>\n",
       "      <th>Date</th>\n",
       "      <th>Deaths</th>\n",
       "      <th>dDeaths</th>\n",
       "      <th>dDeaths_filtered</th>\n",
       "      <th>dDeaths_f/total</th>\n",
       "      <th>dd_Deaths_filtered</th>\n",
       "      <th>dd_Deaths</th>\n",
       "      <th>dd_Deaths_f/dDeaths_f</th>\n",
       "      <th>Day_100</th>\n",
       "      <th>Retail and Recreation</th>\n",
       "      <th>Grocery and Pharmacy</th>\n",
       "      <th>Parks</th>\n",
       "      <th>Transit Stations</th>\n",
       "      <th>Workplaces</th>\n",
       "      <th>Residential</th>\n",
       "    </tr>\n",
       "  </thead>\n",
       "  <tbody>\n",
       "    <tr>\n",
       "      <td>0</td>\n",
       "      <td>Belgium</td>\n",
       "      <td>2020-03-24</td>\n",
       "      <td>122</td>\n",
       "      <td>34</td>\n",
       "      <td>16.000000</td>\n",
       "      <td>0.131148</td>\n",
       "      <td>3.289407</td>\n",
       "      <td>4.142857</td>\n",
       "      <td>0.205588</td>\n",
       "      <td>0.0</td>\n",
       "      <td>2.0</td>\n",
       "      <td>6.0</td>\n",
       "      <td>11.0</td>\n",
       "      <td>1.0</td>\n",
       "      <td>4.0</td>\n",
       "      <td>0.0</td>\n",
       "    </tr>\n",
       "    <tr>\n",
       "      <td>1</td>\n",
       "      <td>Belgium</td>\n",
       "      <td>2020-03-25</td>\n",
       "      <td>178</td>\n",
       "      <td>56</td>\n",
       "      <td>23.428571</td>\n",
       "      <td>0.131621</td>\n",
       "      <td>4.954363</td>\n",
       "      <td>7.428571</td>\n",
       "      <td>0.211467</td>\n",
       "      <td>1.0</td>\n",
       "      <td>1.0</td>\n",
       "      <td>4.0</td>\n",
       "      <td>7.0</td>\n",
       "      <td>1.0</td>\n",
       "      <td>4.0</td>\n",
       "      <td>0.0</td>\n",
       "    </tr>\n",
       "    <tr>\n",
       "      <td>2</td>\n",
       "      <td>Belgium</td>\n",
       "      <td>2020-03-26</td>\n",
       "      <td>220</td>\n",
       "      <td>42</td>\n",
       "      <td>28.428571</td>\n",
       "      <td>0.129221</td>\n",
       "      <td>5.694893</td>\n",
       "      <td>5.000000</td>\n",
       "      <td>0.200323</td>\n",
       "      <td>2.0</td>\n",
       "      <td>-4.0</td>\n",
       "      <td>1.0</td>\n",
       "      <td>-16.0</td>\n",
       "      <td>-2.0</td>\n",
       "      <td>2.0</td>\n",
       "      <td>2.0</td>\n",
       "    </tr>\n",
       "    <tr>\n",
       "      <td>3</td>\n",
       "      <td>Belgium</td>\n",
       "      <td>2020-03-27</td>\n",
       "      <td>289</td>\n",
       "      <td>69</td>\n",
       "      <td>36.000000</td>\n",
       "      <td>0.124567</td>\n",
       "      <td>7.690627</td>\n",
       "      <td>7.571429</td>\n",
       "      <td>0.213629</td>\n",
       "      <td>3.0</td>\n",
       "      <td>-1.0</td>\n",
       "      <td>5.0</td>\n",
       "      <td>2.0</td>\n",
       "      <td>3.0</td>\n",
       "      <td>2.0</td>\n",
       "      <td>1.0</td>\n",
       "    </tr>\n",
       "    <tr>\n",
       "      <td>4</td>\n",
       "      <td>Belgium</td>\n",
       "      <td>2020-03-28</td>\n",
       "      <td>353</td>\n",
       "      <td>64</td>\n",
       "      <td>40.857143</td>\n",
       "      <td>0.115743</td>\n",
       "      <td>9.331222</td>\n",
       "      <td>4.857143</td>\n",
       "      <td>0.228387</td>\n",
       "      <td>4.0</td>\n",
       "      <td>5.0</td>\n",
       "      <td>3.0</td>\n",
       "      <td>33.0</td>\n",
       "      <td>8.0</td>\n",
       "      <td>2.0</td>\n",
       "      <td>0.0</td>\n",
       "    </tr>\n",
       "  </tbody>\n",
       "</table>\n",
       "</div>"
      ],
      "text/plain": [
       "   Country       Date  Deaths  dDeaths  dDeaths_filtered  dDeaths_f/total  \\\n",
       "0  Belgium 2020-03-24     122       34         16.000000         0.131148   \n",
       "1  Belgium 2020-03-25     178       56         23.428571         0.131621   \n",
       "2  Belgium 2020-03-26     220       42         28.428571         0.129221   \n",
       "3  Belgium 2020-03-27     289       69         36.000000         0.124567   \n",
       "4  Belgium 2020-03-28     353       64         40.857143         0.115743   \n",
       "\n",
       "   dd_Deaths_filtered  dd_Deaths  dd_Deaths_f/dDeaths_f  Day_100  \\\n",
       "0            3.289407   4.142857               0.205588      0.0   \n",
       "1            4.954363   7.428571               0.211467      1.0   \n",
       "2            5.694893   5.000000               0.200323      2.0   \n",
       "3            7.690627   7.571429               0.213629      3.0   \n",
       "4            9.331222   4.857143               0.228387      4.0   \n",
       "\n",
       "   Retail and Recreation  Grocery and Pharmacy  Parks  Transit Stations  \\\n",
       "0                    2.0                   6.0   11.0               1.0   \n",
       "1                    1.0                   4.0    7.0               1.0   \n",
       "2                   -4.0                   1.0  -16.0              -2.0   \n",
       "3                   -1.0                   5.0    2.0               3.0   \n",
       "4                    5.0                   3.0   33.0               8.0   \n",
       "\n",
       "   Workplaces  Residential  \n",
       "0         4.0          0.0  \n",
       "1         4.0          0.0  \n",
       "2         2.0          2.0  \n",
       "3         2.0          1.0  \n",
       "4         2.0          0.0  "
      ]
     },
     "execution_count": 365,
     "metadata": {},
     "output_type": "execute_result"
    }
   ],
   "source": [
    "df = pd.merge(dfJ, dfG_offset, on=['Country', 'Date'])\n",
    "df.head()"
   ]
  },
  {
   "cell_type": "markdown",
   "metadata": {},
   "source": [
    "# Prepare the data for the ML model\n",
    "## Remove identifiers (i.e. anything that is not a feature)\n",
    "We will remove any feature that is not used for creating the model and will get in the way (Note, I keep 'Country' to better get a random set later on...)\n",
    "\n",
    "I've chosen 'dd_Deaths_f/dDeaths_f' as the feature to build the model on as it seems a reasonable to assume that social interactions increase the spread of the virus. \n",
    "\n",
    "However, this should be independent of the total number of cases (social interactions when there are fewer cases of the virus is less risky than when there are more) hence usign the rate of change in deaths per day (slightly unclearly named 'dd_Deaths_f/dDeaths_f')"
   ]
  },
  {
   "cell_type": "code",
   "execution_count": 366,
   "metadata": {},
   "outputs": [],
   "source": [
    "#Runs for 'dDeaths_filtered', and 'dDeaths_f/total'\n",
    "feature = 'dd_Deaths_f/dDeaths_f'\n",
    "dataset = df[[\"Retail and Recreation\", \"Grocery and Pharmacy\", \n",
    "             \"Parks\", \"Transit Stations\", \"Workplaces\", \n",
    "             \"Residential\", feature, \"Country\"]] # Country included to split test and train data"
   ]
  },
  {
   "cell_type": "markdown",
   "metadata": {},
   "source": [
    "## Split out the target feature\n",
    "\n",
    "Removing the variable upon which the model is based: 'dd_Deaths_f/dDeaths_f'"
   ]
  },
  {
   "cell_type": "code",
   "execution_count": 367,
   "metadata": {},
   "outputs": [],
   "source": [
    "Y = dataset[[feature, \"Country\"]]\n",
    "X = dataset.loc[:, dataset.columns != feature]"
   ]
  },
  {
   "cell_type": "markdown",
   "metadata": {},
   "source": [
    "### Split to train and test sets"
   ]
  },
  {
   "cell_type": "code",
   "execution_count": 368,
   "metadata": {},
   "outputs": [],
   "source": [
    "test_size = 0.33 #The ratio at which the train and test datasets are split (has to be between 0 and 1)\n",
    "seed = 1 #Any integer. This one happens to select the UK as a test country...\n",
    "\n",
    "# randomly select a fraction of the countries\n",
    "testCountries = pd.Series(X['Country'].unique()).sample(frac = test_size, random_state = seed) \n",
    "\n",
    "X_train_orig = X\n",
    "Y_train = Y\n",
    "X_test_orig = pd.DataFrame()\n",
    "Y_test = pd.DataFrame()\n",
    "for x in testCountries: #Loop through 'test' countries\n",
    "    \n",
    "    #I cannot pop() ranges of rows so, create a copy (append) the rows associated with a 'test' country\n",
    "    #And then drop those rows\n",
    "    X_test_orig = X_test_orig.append(X_train_orig[X_train_orig.Country == x])\n",
    "    X_train_orig = X_train_orig.drop(X_train_orig[X_train_orig.Country == x].index)\n",
    "    \n",
    "    Y_test = Y_test.append(Y_train[Y_train.Country == x])\n",
    "    Y_train = Y_train.drop(Y_train[Y_train.Country == x].index)"
   ]
  },
  {
   "cell_type": "markdown",
   "metadata": {},
   "source": [
    "Removing the 'Country' feature from the models"
   ]
  },
  {
   "cell_type": "code",
   "execution_count": 369,
   "metadata": {},
   "outputs": [],
   "source": [
    "Y_train = Y_train[feature]\n",
    "Y_test = Y_test[feature]"
   ]
  },
  {
   "cell_type": "markdown",
   "metadata": {},
   "source": [
    "I don't fully understand why, but sklearn strongly suggest you rescale the X values after splitting. Not sure why but I'm doing it anyway"
   ]
  },
  {
   "cell_type": "code",
   "execution_count": 370,
   "metadata": {},
   "outputs": [],
   "source": [
    "scaler = StandardScaler()\n",
    "scaler.fit(X_train_orig.drop(columns = 'Country'))\n",
    "X_train = scaler.transform(X_train_orig.drop(columns = 'Country'))\n",
    "X_test = scaler.transform(X_test_orig.drop(columns = 'Country'))"
   ]
  },
  {
   "cell_type": "markdown",
   "metadata": {},
   "source": [
    "While the model is capable of taking all features as an input, this is an interesting assessment as to which are the most valuable"
   ]
  },
  {
   "cell_type": "code",
   "execution_count": 371,
   "metadata": {},
   "outputs": [
    {
     "data": {
      "text/html": [
       "<div>\n",
       "<style scoped>\n",
       "    .dataframe tbody tr th:only-of-type {\n",
       "        vertical-align: middle;\n",
       "    }\n",
       "\n",
       "    .dataframe tbody tr th {\n",
       "        vertical-align: top;\n",
       "    }\n",
       "\n",
       "    .dataframe thead th {\n",
       "        text-align: right;\n",
       "    }\n",
       "</style>\n",
       "<table border=\"1\" class=\"dataframe\">\n",
       "  <thead>\n",
       "    <tr style=\"text-align: right;\">\n",
       "      <th></th>\n",
       "      <th>Retail and Recreation</th>\n",
       "      <th>Transit Stations</th>\n",
       "      <th>Workplaces</th>\n",
       "    </tr>\n",
       "  </thead>\n",
       "  <tbody>\n",
       "    <tr>\n",
       "      <td>0</td>\n",
       "      <td>2.0</td>\n",
       "      <td>1.0</td>\n",
       "      <td>4.0</td>\n",
       "    </tr>\n",
       "    <tr>\n",
       "      <td>1</td>\n",
       "      <td>1.0</td>\n",
       "      <td>1.0</td>\n",
       "      <td>4.0</td>\n",
       "    </tr>\n",
       "    <tr>\n",
       "      <td>2</td>\n",
       "      <td>-4.0</td>\n",
       "      <td>-2.0</td>\n",
       "      <td>2.0</td>\n",
       "    </tr>\n",
       "    <tr>\n",
       "      <td>3</td>\n",
       "      <td>-1.0</td>\n",
       "      <td>3.0</td>\n",
       "      <td>2.0</td>\n",
       "    </tr>\n",
       "    <tr>\n",
       "      <td>4</td>\n",
       "      <td>5.0</td>\n",
       "      <td>8.0</td>\n",
       "      <td>2.0</td>\n",
       "    </tr>\n",
       "    <tr>\n",
       "      <td>...</td>\n",
       "      <td>...</td>\n",
       "      <td>...</td>\n",
       "      <td>...</td>\n",
       "    </tr>\n",
       "    <tr>\n",
       "      <td>668</td>\n",
       "      <td>-53.0</td>\n",
       "      <td>-67.0</td>\n",
       "      <td>-59.0</td>\n",
       "    </tr>\n",
       "    <tr>\n",
       "      <td>669</td>\n",
       "      <td>-54.0</td>\n",
       "      <td>-57.0</td>\n",
       "      <td>-40.0</td>\n",
       "    </tr>\n",
       "    <tr>\n",
       "      <td>670</td>\n",
       "      <td>-60.0</td>\n",
       "      <td>-64.0</td>\n",
       "      <td>-42.0</td>\n",
       "    </tr>\n",
       "    <tr>\n",
       "      <td>671</td>\n",
       "      <td>-46.0</td>\n",
       "      <td>-65.0</td>\n",
       "      <td>-58.0</td>\n",
       "    </tr>\n",
       "    <tr>\n",
       "      <td>672</td>\n",
       "      <td>-50.0</td>\n",
       "      <td>-68.0</td>\n",
       "      <td>-58.0</td>\n",
       "    </tr>\n",
       "  </tbody>\n",
       "</table>\n",
       "<p>673 rows × 3 columns</p>\n",
       "</div>"
      ],
      "text/plain": [
       "     Retail and Recreation  Transit Stations  Workplaces\n",
       "0                      2.0               1.0         4.0\n",
       "1                      1.0               1.0         4.0\n",
       "2                     -4.0              -2.0         2.0\n",
       "3                     -1.0               3.0         2.0\n",
       "4                      5.0               8.0         2.0\n",
       "..                     ...               ...         ...\n",
       "668                  -53.0             -67.0       -59.0\n",
       "669                  -54.0             -57.0       -40.0\n",
       "670                  -60.0             -64.0       -42.0\n",
       "671                  -46.0             -65.0       -58.0\n",
       "672                  -50.0             -68.0       -58.0\n",
       "\n",
       "[673 rows x 3 columns]"
      ]
     },
     "execution_count": 371,
     "metadata": {},
     "output_type": "execute_result"
    }
   ],
   "source": [
    "k = 3\n",
    "score_func = f_regression\n",
    "\n",
    "#From Daisy library\n",
    "test = SelectKBest(score_func=score_func, k=k)\n",
    "fit = test.fit(X.loc[:, X.columns != 'Country'],Y[feature].tolist())\n",
    "features = fit.transform(X.loc[:, X.columns != 'Country'])\n",
    "selected_cols = test.get_support()\n",
    "\n",
    "#Now pull out the feature names that match\n",
    "selected_features = []\n",
    "for i in range(len(selected_cols)):\n",
    "    if selected_cols[i]:\n",
    "        selected_features.append(X.columns[i])\n",
    "    \n",
    "X[selected_features]"
   ]
  },
  {
   "cell_type": "markdown",
   "metadata": {},
   "source": [
    "## Train the models"
   ]
  },
  {
   "cell_type": "code",
   "execution_count": 372,
   "metadata": {},
   "outputs": [],
   "source": [
    "algorithms = []\n",
    "algorithms.append(LinearRegression())\n",
    "algorithms.append(KNeighborsRegressor())\n",
    "algorithms.append(DecisionTreeRegressor())\n",
    "algorithms.append(SVR(gamma = 'scale', kernel='linear'))\n",
    "algorithms.append(SGDRegressor(loss=\"squared_loss\"))\n",
    "algorithms.append(GaussianProcessRegressor(normalize_y=True))\n",
    "algorithms.append(MLPRegressor(alpha=1e-05, hidden_layer_sizes=(5, 2), random_state=1,solver='lbfgs'))"
   ]
  },
  {
   "cell_type": "code",
   "execution_count": 373,
   "metadata": {
    "scrolled": true
   },
   "outputs": [
    {
     "data": {
      "text/html": [
       "<div>\n",
       "<style scoped>\n",
       "    .dataframe tbody tr th:only-of-type {\n",
       "        vertical-align: middle;\n",
       "    }\n",
       "\n",
       "    .dataframe tbody tr th {\n",
       "        vertical-align: top;\n",
       "    }\n",
       "\n",
       "    .dataframe thead th {\n",
       "        text-align: right;\n",
       "    }\n",
       "</style>\n",
       "<table border=\"1\" class=\"dataframe\">\n",
       "  <thead>\n",
       "    <tr style=\"text-align: right;\">\n",
       "      <th></th>\n",
       "      <th>Algorithm Name</th>\n",
       "      <th>Result</th>\n",
       "      <th>Algorithm</th>\n",
       "    </tr>\n",
       "  </thead>\n",
       "  <tbody>\n",
       "    <tr>\n",
       "      <td>0</td>\n",
       "      <td>LinearRegression</td>\n",
       "      <td>0.002581</td>\n",
       "      <td>LinearRegression(copy_X=True, fit_intercept=Tr...</td>\n",
       "    </tr>\n",
       "    <tr>\n",
       "      <td>1</td>\n",
       "      <td>KNeighborsRegressor</td>\n",
       "      <td>0.002881</td>\n",
       "      <td>KNeighborsRegressor(algorithm='auto', leaf_siz...</td>\n",
       "    </tr>\n",
       "    <tr>\n",
       "      <td>2</td>\n",
       "      <td>DecisionTreeRegressor</td>\n",
       "      <td>0.004415</td>\n",
       "      <td>DecisionTreeRegressor(criterion='mse', max_dep...</td>\n",
       "    </tr>\n",
       "    <tr>\n",
       "      <td>3</td>\n",
       "      <td>SVR</td>\n",
       "      <td>0.002563</td>\n",
       "      <td>SVR(C=1.0, cache_size=200, coef0=0.0, degree=3...</td>\n",
       "    </tr>\n",
       "    <tr>\n",
       "      <td>4</td>\n",
       "      <td>SGDRegressor</td>\n",
       "      <td>0.002682</td>\n",
       "      <td>SGDRegressor(alpha=0.0001, average=False, earl...</td>\n",
       "    </tr>\n",
       "    <tr>\n",
       "      <td>5</td>\n",
       "      <td>GaussianProcessRegressor</td>\n",
       "      <td>0.363181</td>\n",
       "      <td>GaussianProcessRegressor(alpha=1e-10, copy_X_t...</td>\n",
       "    </tr>\n",
       "    <tr>\n",
       "      <td>6</td>\n",
       "      <td>MLPRegressor</td>\n",
       "      <td>0.003500</td>\n",
       "      <td>MLPRegressor(activation='relu', alpha=1e-05, b...</td>\n",
       "    </tr>\n",
       "  </tbody>\n",
       "</table>\n",
       "</div>"
      ],
      "text/plain": [
       "             Algorithm Name    Result  \\\n",
       "0          LinearRegression  0.002581   \n",
       "1       KNeighborsRegressor  0.002881   \n",
       "2     DecisionTreeRegressor  0.004415   \n",
       "3                       SVR  0.002563   \n",
       "4              SGDRegressor  0.002682   \n",
       "5  GaussianProcessRegressor  0.363181   \n",
       "6              MLPRegressor  0.003500   \n",
       "\n",
       "                                           Algorithm  \n",
       "0  LinearRegression(copy_X=True, fit_intercept=Tr...  \n",
       "1  KNeighborsRegressor(algorithm='auto', leaf_siz...  \n",
       "2  DecisionTreeRegressor(criterion='mse', max_dep...  \n",
       "3  SVR(C=1.0, cache_size=200, coef0=0.0, degree=3...  \n",
       "4  SGDRegressor(alpha=0.0001, average=False, earl...  \n",
       "5  GaussianProcessRegressor(alpha=1e-10, copy_X_t...  \n",
       "6  MLPRegressor(activation='relu', alpha=1e-05, b...  "
      ]
     },
     "execution_count": 373,
     "metadata": {},
     "output_type": "execute_result"
    }
   ],
   "source": [
    "modelResults = []\n",
    "\n",
    "# Split into 10 folds\n",
    "kfold = KFold(n_splits=10, random_state=seed)\n",
    "\n",
    "modelResults = pd.DataFrame(columns = ['Algorithm Name', 'Result', 'Algorithm'])\n",
    "x=0\n",
    "\n",
    "# Perform 10-fold CV on all algorithms\n",
    "for algorithm in algorithms:\n",
    "    cv_results = cross_val_score(algorithm, X_train, Y_train, cv=kfold, scoring='neg_mean_squared_error')\n",
    "    modelResults = modelResults.append({\"Algorithm Name\":algorithm.__class__.__name__, 'Result':-cv_results.mean(), \"Algorithm\":algorithm},ignore_index=True)\n",
    "modelResults"
   ]
  },
  {
   "cell_type": "markdown",
   "metadata": {},
   "source": [
    "## Select the most promising models and assess against the test data\n",
    "To (try to) avoid selecting an over-fitted model, I loop through the best models and check all of them against the Test Data. \n",
    "\n",
    "Inefficient, but with a small dataset, not a massive issue"
   ]
  },
  {
   "cell_type": "code",
   "execution_count": 374,
   "metadata": {},
   "outputs": [
    {
     "data": {
      "text/html": [
       "<div>\n",
       "<style scoped>\n",
       "    .dataframe tbody tr th:only-of-type {\n",
       "        vertical-align: middle;\n",
       "    }\n",
       "\n",
       "    .dataframe tbody tr th {\n",
       "        vertical-align: top;\n",
       "    }\n",
       "\n",
       "    .dataframe thead th {\n",
       "        text-align: right;\n",
       "    }\n",
       "</style>\n",
       "<table border=\"1\" class=\"dataframe\">\n",
       "  <thead>\n",
       "    <tr style=\"text-align: right;\">\n",
       "      <th></th>\n",
       "      <th>Algorithm Name</th>\n",
       "      <th>Result</th>\n",
       "      <th>Algorithm</th>\n",
       "      <th>Test Result</th>\n",
       "    </tr>\n",
       "  </thead>\n",
       "  <tbody>\n",
       "    <tr>\n",
       "      <td>0</td>\n",
       "      <td>LinearRegression</td>\n",
       "      <td>0.002581</td>\n",
       "      <td>LinearRegression(copy_X=True, fit_intercept=Tr...</td>\n",
       "      <td>0.001440</td>\n",
       "    </tr>\n",
       "    <tr>\n",
       "      <td>1</td>\n",
       "      <td>KNeighborsRegressor</td>\n",
       "      <td>0.002881</td>\n",
       "      <td>KNeighborsRegressor(algorithm='auto', leaf_siz...</td>\n",
       "      <td>NaN</td>\n",
       "    </tr>\n",
       "    <tr>\n",
       "      <td>2</td>\n",
       "      <td>DecisionTreeRegressor</td>\n",
       "      <td>0.004415</td>\n",
       "      <td>DecisionTreeRegressor(criterion='mse', max_dep...</td>\n",
       "      <td>NaN</td>\n",
       "    </tr>\n",
       "    <tr>\n",
       "      <td>3</td>\n",
       "      <td>SVR</td>\n",
       "      <td>0.002563</td>\n",
       "      <td>SVR(C=1.0, cache_size=200, coef0=0.0, degree=3...</td>\n",
       "      <td>0.002198</td>\n",
       "    </tr>\n",
       "    <tr>\n",
       "      <td>4</td>\n",
       "      <td>SGDRegressor</td>\n",
       "      <td>0.002682</td>\n",
       "      <td>SGDRegressor(alpha=0.0001, average=False, earl...</td>\n",
       "      <td>0.001990</td>\n",
       "    </tr>\n",
       "    <tr>\n",
       "      <td>5</td>\n",
       "      <td>GaussianProcessRegressor</td>\n",
       "      <td>0.363181</td>\n",
       "      <td>GaussianProcessRegressor(alpha=1e-10, copy_X_t...</td>\n",
       "      <td>NaN</td>\n",
       "    </tr>\n",
       "    <tr>\n",
       "      <td>6</td>\n",
       "      <td>MLPRegressor</td>\n",
       "      <td>0.003500</td>\n",
       "      <td>MLPRegressor(activation='relu', alpha=1e-05, b...</td>\n",
       "      <td>NaN</td>\n",
       "    </tr>\n",
       "  </tbody>\n",
       "</table>\n",
       "</div>"
      ],
      "text/plain": [
       "             Algorithm Name    Result  \\\n",
       "0          LinearRegression  0.002581   \n",
       "1       KNeighborsRegressor  0.002881   \n",
       "2     DecisionTreeRegressor  0.004415   \n",
       "3                       SVR  0.002563   \n",
       "4              SGDRegressor  0.002682   \n",
       "5  GaussianProcessRegressor  0.363181   \n",
       "6              MLPRegressor  0.003500   \n",
       "\n",
       "                                           Algorithm  Test Result  \n",
       "0  LinearRegression(copy_X=True, fit_intercept=Tr...     0.001440  \n",
       "1  KNeighborsRegressor(algorithm='auto', leaf_siz...          NaN  \n",
       "2  DecisionTreeRegressor(criterion='mse', max_dep...          NaN  \n",
       "3  SVR(C=1.0, cache_size=200, coef0=0.0, degree=3...     0.002198  \n",
       "4  SGDRegressor(alpha=0.0001, average=False, earl...     0.001990  \n",
       "5  GaussianProcessRegressor(alpha=1e-10, copy_X_t...          NaN  \n",
       "6  MLPRegressor(activation='relu', alpha=1e-05, b...          NaN  "
      ]
     },
     "execution_count": 374,
     "metadata": {},
     "output_type": "execute_result"
    }
   ],
   "source": [
    "modelResults['Test Result'] = np.nan\n",
    "bestIndex = modelResults['Result'].idxmin()\n",
    "bestResult = modelResults['Result'][bestIndex]\n",
    "\n",
    "for x in modelResults.index:\n",
    "    altModel = modelResults['Result'][x]\n",
    "    \n",
    "    if altModel < 1.1 * bestResult:\n",
    "        model = modelResults['Algorithm'][x]        \n",
    "        model.fit(X_train, Y_train)\n",
    "        predictions = model.predict(X_test)\n",
    "        modelResults.loc[x,'Test Result'] = mean_squared_error(Y_test, predictions)\n",
    "modelResults"
   ]
  },
  {
   "cell_type": "markdown",
   "metadata": {},
   "source": [
    "Select the best algorithm"
   ]
  },
  {
   "cell_type": "code",
   "execution_count": 375,
   "metadata": {},
   "outputs": [
    {
     "data": {
      "text/plain": [
       "LinearRegression(copy_X=True, fit_intercept=True, n_jobs=None, normalize=False)"
      ]
     },
     "execution_count": 375,
     "metadata": {},
     "output_type": "execute_result"
    }
   ],
   "source": [
    "bestAlgorithm = modelResults['Algorithm'][modelResults['Test Result'].idxmin()]\n",
    "model = bestAlgorithm\n",
    "#model = LinearRegression()\n",
    "#model = SVR(gamma = 'scale', kernel='linear')\n",
    "#model = SGDRegressor(loss=\"squared_loss\")\n",
    "#model = MLPRegressor(alpha=1e-05, hidden_layer_sizes=(5, 2), random_state=1,solver='lbfgs')\n",
    "model.fit(X_train, Y_train)"
   ]
  },
  {
   "cell_type": "markdown",
   "metadata": {},
   "source": [
    "And make some predictions from it:"
   ]
  },
  {
   "cell_type": "code",
   "execution_count": 376,
   "metadata": {},
   "outputs": [
    {
     "name": "stdout",
     "output_type": "stream",
     "text": [
      "0.001440495777751412\n"
     ]
    }
   ],
   "source": [
    "predictions = model.predict(X_test)\n",
    "print(mean_squared_error(Y_test, predictions)) #mean_absolute_error"
   ]
  },
  {
   "cell_type": "markdown",
   "metadata": {},
   "source": [
    "# Compare predictions with original data"
   ]
  },
  {
   "cell_type": "code",
   "execution_count": 377,
   "metadata": {},
   "outputs": [
    {
     "data": {
      "text/html": [
       "<div>\n",
       "<style scoped>\n",
       "    .dataframe tbody tr th:only-of-type {\n",
       "        vertical-align: middle;\n",
       "    }\n",
       "\n",
       "    .dataframe tbody tr th {\n",
       "        vertical-align: top;\n",
       "    }\n",
       "\n",
       "    .dataframe thead th {\n",
       "        text-align: right;\n",
       "    }\n",
       "</style>\n",
       "<table border=\"1\" class=\"dataframe\">\n",
       "  <thead>\n",
       "    <tr style=\"text-align: right;\">\n",
       "      <th></th>\n",
       "      <th>Country</th>\n",
       "      <th>Date</th>\n",
       "      <th>Deaths</th>\n",
       "      <th>dDeaths</th>\n",
       "      <th>dDeaths_filtered</th>\n",
       "      <th>dDeaths_f/total</th>\n",
       "      <th>dd_Deaths_filtered</th>\n",
       "      <th>dd_Deaths</th>\n",
       "      <th>dd_Deaths_f/dDeaths_f</th>\n",
       "      <th>Day_100</th>\n",
       "      <th>Retail and Recreation</th>\n",
       "      <th>Grocery and Pharmacy</th>\n",
       "      <th>Parks</th>\n",
       "      <th>Transit Stations</th>\n",
       "      <th>Workplaces</th>\n",
       "      <th>Residential</th>\n",
       "      <th>Prediction</th>\n",
       "    </tr>\n",
       "  </thead>\n",
       "  <tbody>\n",
       "    <tr>\n",
       "      <td>0</td>\n",
       "      <td>France</td>\n",
       "      <td>2020-03-16</td>\n",
       "      <td>148</td>\n",
       "      <td>57</td>\n",
       "      <td>18.428571</td>\n",
       "      <td>0.124517</td>\n",
       "      <td>3.695540</td>\n",
       "      <td>8.142857</td>\n",
       "      <td>0.200533</td>\n",
       "      <td>0.0</td>\n",
       "      <td>3.0</td>\n",
       "      <td>3.0</td>\n",
       "      <td>45.0</td>\n",
       "      <td>-1.0</td>\n",
       "      <td>-15.0</td>\n",
       "      <td>3.0</td>\n",
       "      <td>0.166272</td>\n",
       "    </tr>\n",
       "    <tr>\n",
       "      <td>1</td>\n",
       "      <td>France</td>\n",
       "      <td>2020-03-17</td>\n",
       "      <td>148</td>\n",
       "      <td>0</td>\n",
       "      <td>16.428571</td>\n",
       "      <td>0.111004</td>\n",
       "      <td>4.408145</td>\n",
       "      <td>-2.000000</td>\n",
       "      <td>0.268322</td>\n",
       "      <td>1.0</td>\n",
       "      <td>1.0</td>\n",
       "      <td>1.0</td>\n",
       "      <td>23.0</td>\n",
       "      <td>-3.0</td>\n",
       "      <td>-14.0</td>\n",
       "      <td>4.0</td>\n",
       "      <td>0.174783</td>\n",
       "    </tr>\n",
       "    <tr>\n",
       "      <td>2</td>\n",
       "      <td>France</td>\n",
       "      <td>2020-03-18</td>\n",
       "      <td>148</td>\n",
       "      <td>0</td>\n",
       "      <td>14.285714</td>\n",
       "      <td>0.096525</td>\n",
       "      <td>6.595734</td>\n",
       "      <td>-2.142857</td>\n",
       "      <td>0.461701</td>\n",
       "      <td>2.0</td>\n",
       "      <td>-5.0</td>\n",
       "      <td>-2.0</td>\n",
       "      <td>9.0</td>\n",
       "      <td>-5.0</td>\n",
       "      <td>-12.0</td>\n",
       "      <td>3.0</td>\n",
       "      <td>0.176538</td>\n",
       "    </tr>\n",
       "    <tr>\n",
       "      <td>3</td>\n",
       "      <td>France</td>\n",
       "      <td>2020-03-19</td>\n",
       "      <td>243</td>\n",
       "      <td>95</td>\n",
       "      <td>27.857143</td>\n",
       "      <td>0.114638</td>\n",
       "      <td>9.303555</td>\n",
       "      <td>13.571429</td>\n",
       "      <td>0.333974</td>\n",
       "      <td>3.0</td>\n",
       "      <td>-5.0</td>\n",
       "      <td>-1.0</td>\n",
       "      <td>1.0</td>\n",
       "      <td>-5.0</td>\n",
       "      <td>-15.0</td>\n",
       "      <td>4.0</td>\n",
       "      <td>0.185766</td>\n",
       "    </tr>\n",
       "    <tr>\n",
       "      <td>4</td>\n",
       "      <td>France</td>\n",
       "      <td>2020-03-20</td>\n",
       "      <td>450</td>\n",
       "      <td>207</td>\n",
       "      <td>53.000000</td>\n",
       "      <td>0.117778</td>\n",
       "      <td>14.411894</td>\n",
       "      <td>25.142857</td>\n",
       "      <td>0.271923</td>\n",
       "      <td>4.0</td>\n",
       "      <td>-1.0</td>\n",
       "      <td>1.0</td>\n",
       "      <td>15.0</td>\n",
       "      <td>0.0</td>\n",
       "      <td>-15.0</td>\n",
       "      <td>4.0</td>\n",
       "      <td>0.192144</td>\n",
       "    </tr>\n",
       "    <tr>\n",
       "      <td>...</td>\n",
       "      <td>...</td>\n",
       "      <td>...</td>\n",
       "      <td>...</td>\n",
       "      <td>...</td>\n",
       "      <td>...</td>\n",
       "      <td>...</td>\n",
       "      <td>...</td>\n",
       "      <td>...</td>\n",
       "      <td>...</td>\n",
       "      <td>...</td>\n",
       "      <td>...</td>\n",
       "      <td>...</td>\n",
       "      <td>...</td>\n",
       "      <td>...</td>\n",
       "      <td>...</td>\n",
       "      <td>...</td>\n",
       "      <td>...</td>\n",
       "    </tr>\n",
       "    <tr>\n",
       "      <td>227</td>\n",
       "      <td>United Kingdom</td>\n",
       "      <td>2020-05-08</td>\n",
       "      <td>31241</td>\n",
       "      <td>626</td>\n",
       "      <td>533.000000</td>\n",
       "      <td>0.017061</td>\n",
       "      <td>-22.079677</td>\n",
       "      <td>-16.142857</td>\n",
       "      <td>-0.041425</td>\n",
       "      <td>51.0</td>\n",
       "      <td>-75.0</td>\n",
       "      <td>-30.0</td>\n",
       "      <td>-33.0</td>\n",
       "      <td>-71.0</td>\n",
       "      <td>-68.0</td>\n",
       "      <td>29.0</td>\n",
       "      <td>-0.024011</td>\n",
       "    </tr>\n",
       "    <tr>\n",
       "      <td>228</td>\n",
       "      <td>United Kingdom</td>\n",
       "      <td>2020-05-09</td>\n",
       "      <td>31587</td>\n",
       "      <td>346</td>\n",
       "      <td>493.714286</td>\n",
       "      <td>0.015630</td>\n",
       "      <td>-20.510680</td>\n",
       "      <td>-39.285714</td>\n",
       "      <td>-0.041544</td>\n",
       "      <td>52.0</td>\n",
       "      <td>-81.0</td>\n",
       "      <td>-37.0</td>\n",
       "      <td>-47.0</td>\n",
       "      <td>-71.0</td>\n",
       "      <td>-54.0</td>\n",
       "      <td>19.0</td>\n",
       "      <td>-0.012253</td>\n",
       "    </tr>\n",
       "    <tr>\n",
       "      <td>229</td>\n",
       "      <td>United Kingdom</td>\n",
       "      <td>2020-05-10</td>\n",
       "      <td>31855</td>\n",
       "      <td>268</td>\n",
       "      <td>487.000000</td>\n",
       "      <td>0.015288</td>\n",
       "      <td>-17.643154</td>\n",
       "      <td>-6.714286</td>\n",
       "      <td>-0.036228</td>\n",
       "      <td>53.0</td>\n",
       "      <td>-80.0</td>\n",
       "      <td>-40.0</td>\n",
       "      <td>-12.0</td>\n",
       "      <td>-66.0</td>\n",
       "      <td>-49.0</td>\n",
       "      <td>14.0</td>\n",
       "      <td>-0.022063</td>\n",
       "    </tr>\n",
       "    <tr>\n",
       "      <td>230</td>\n",
       "      <td>United Kingdom</td>\n",
       "      <td>2020-05-11</td>\n",
       "      <td>32065</td>\n",
       "      <td>210</td>\n",
       "      <td>475.857143</td>\n",
       "      <td>0.014840</td>\n",
       "      <td>-13.204455</td>\n",
       "      <td>-11.142857</td>\n",
       "      <td>-0.027749</td>\n",
       "      <td>54.0</td>\n",
       "      <td>-71.0</td>\n",
       "      <td>-30.0</td>\n",
       "      <td>-2.0</td>\n",
       "      <td>-68.0</td>\n",
       "      <td>-67.0</td>\n",
       "      <td>25.0</td>\n",
       "      <td>-0.031742</td>\n",
       "    </tr>\n",
       "    <tr>\n",
       "      <td>231</td>\n",
       "      <td>United Kingdom</td>\n",
       "      <td>2020-05-12</td>\n",
       "      <td>32692</td>\n",
       "      <td>627</td>\n",
       "      <td>466.428571</td>\n",
       "      <td>0.014267</td>\n",
       "      <td>-6.921942</td>\n",
       "      <td>-9.428571</td>\n",
       "      <td>-0.014840</td>\n",
       "      <td>55.0</td>\n",
       "      <td>-72.0</td>\n",
       "      <td>-28.0</td>\n",
       "      <td>2.0</td>\n",
       "      <td>-67.0</td>\n",
       "      <td>-67.0</td>\n",
       "      <td>26.0</td>\n",
       "      <td>-0.035370</td>\n",
       "    </tr>\n",
       "  </tbody>\n",
       "</table>\n",
       "<p>232 rows × 17 columns</p>\n",
       "</div>"
      ],
      "text/plain": [
       "            Country       Date  Deaths  dDeaths  dDeaths_filtered  \\\n",
       "0            France 2020-03-16     148       57         18.428571   \n",
       "1            France 2020-03-17     148        0         16.428571   \n",
       "2            France 2020-03-18     148        0         14.285714   \n",
       "3            France 2020-03-19     243       95         27.857143   \n",
       "4            France 2020-03-20     450      207         53.000000   \n",
       "..              ...        ...     ...      ...               ...   \n",
       "227  United Kingdom 2020-05-08   31241      626        533.000000   \n",
       "228  United Kingdom 2020-05-09   31587      346        493.714286   \n",
       "229  United Kingdom 2020-05-10   31855      268        487.000000   \n",
       "230  United Kingdom 2020-05-11   32065      210        475.857143   \n",
       "231  United Kingdom 2020-05-12   32692      627        466.428571   \n",
       "\n",
       "     dDeaths_f/total  dd_Deaths_filtered  dd_Deaths  dd_Deaths_f/dDeaths_f  \\\n",
       "0           0.124517            3.695540   8.142857               0.200533   \n",
       "1           0.111004            4.408145  -2.000000               0.268322   \n",
       "2           0.096525            6.595734  -2.142857               0.461701   \n",
       "3           0.114638            9.303555  13.571429               0.333974   \n",
       "4           0.117778           14.411894  25.142857               0.271923   \n",
       "..               ...                 ...        ...                    ...   \n",
       "227         0.017061          -22.079677 -16.142857              -0.041425   \n",
       "228         0.015630          -20.510680 -39.285714              -0.041544   \n",
       "229         0.015288          -17.643154  -6.714286              -0.036228   \n",
       "230         0.014840          -13.204455 -11.142857              -0.027749   \n",
       "231         0.014267           -6.921942  -9.428571              -0.014840   \n",
       "\n",
       "     Day_100  Retail and Recreation  Grocery and Pharmacy  Parks  \\\n",
       "0        0.0                    3.0                   3.0   45.0   \n",
       "1        1.0                    1.0                   1.0   23.0   \n",
       "2        2.0                   -5.0                  -2.0    9.0   \n",
       "3        3.0                   -5.0                  -1.0    1.0   \n",
       "4        4.0                   -1.0                   1.0   15.0   \n",
       "..       ...                    ...                   ...    ...   \n",
       "227     51.0                  -75.0                 -30.0  -33.0   \n",
       "228     52.0                  -81.0                 -37.0  -47.0   \n",
       "229     53.0                  -80.0                 -40.0  -12.0   \n",
       "230     54.0                  -71.0                 -30.0   -2.0   \n",
       "231     55.0                  -72.0                 -28.0    2.0   \n",
       "\n",
       "     Transit Stations  Workplaces  Residential  Prediction  \n",
       "0                -1.0       -15.0          3.0    0.166272  \n",
       "1                -3.0       -14.0          4.0    0.174783  \n",
       "2                -5.0       -12.0          3.0    0.176538  \n",
       "3                -5.0       -15.0          4.0    0.185766  \n",
       "4                 0.0       -15.0          4.0    0.192144  \n",
       "..                ...         ...          ...         ...  \n",
       "227             -71.0       -68.0         29.0   -0.024011  \n",
       "228             -71.0       -54.0         19.0   -0.012253  \n",
       "229             -66.0       -49.0         14.0   -0.022063  \n",
       "230             -68.0       -67.0         25.0   -0.031742  \n",
       "231             -67.0       -67.0         26.0   -0.035370  \n",
       "\n",
       "[232 rows x 17 columns]"
      ]
     },
     "execution_count": 377,
     "metadata": {},
     "output_type": "execute_result"
    }
   ],
   "source": [
    "comparison = X_test_orig.copy()\n",
    "comparison['Prediction'] = predictions\n",
    "googleDataHeaders = [\"Retail and Recreation\", \"Grocery and Pharmacy\", \n",
    "                     \"Parks\", \"Transit Stations\", \"Workplaces\", \"Residential\"]\n",
    "\n",
    "df_output = pd.merge(df, comparison, on=(googleDataHeaders + [\"Country\"]))\n",
    "df_output"
   ]
  },
  {
   "cell_type": "markdown",
   "metadata": {},
   "source": [
    "Given the input data is the number of new daily recorded deaths, it makes sense to compare the model to this input (not just the chosen input variable) so:"
   ]
  },
  {
   "cell_type": "code",
   "execution_count": 378,
   "metadata": {
    "scrolled": false
   },
   "outputs": [
    {
     "name": "stderr",
     "output_type": "stream",
     "text": [
      "/Applications/anaconda3/lib/python3.7/site-packages/pandas/core/indexing.py:205: SettingWithCopyWarning: \n",
      "A value is trying to be set on a copy of a slice from a DataFrame\n",
      "\n",
      "See the caveats in the documentation: http://pandas.pydata.org/pandas-docs/stable/user_guide/indexing.html#returning-a-view-versus-a-copy\n",
      "  self._setitem_with_indexer(indexer, value)\n"
     ]
    }
   ],
   "source": [
    "df_output.loc[:,'Prediction_N'] = np.nan\n",
    "df_output.loc[:,'Prediction_Total'] = np.nan\n",
    "\n",
    "\n",
    "for a in df_output['Country'].unique():\n",
    "    temp = df_output[df_output['Country'] == a].copy()\n",
    "\n",
    "    if feature == 'dd_Deaths_f/dDeaths_f':\n",
    "\n",
    "        temp.loc[:,'Prediction_dd'] = np.nan\n",
    "\n",
    "        temp.Prediction_Total.iloc[0] = temp.Deaths.iloc[0]\n",
    "        temp.Prediction_N.iloc[0] = temp.dDeaths_filtered.iloc[0]\n",
    "        temp.Prediction_dd = temp.Prediction * temp.dDeaths_filtered\n",
    "\n",
    "        for x in temp.index[1:]:\n",
    "            temp.loc[x,'Prediction_N'] = temp.loc[x,'Prediction_dd'] + temp.loc[x-1,'Prediction_N']\n",
    "            temp.loc[x,'Prediction_Total'] = temp.loc[x-1,'Prediction_Total'] + temp.loc[x-1, 'Prediction_N']\n",
    "\n",
    "\n",
    "    elif feature == 'dDeaths_f/total':\n",
    "\n",
    "        #Set deaths first day of the model\n",
    "        temp.Prediction_Total.iloc[0] = temp.Deaths.iloc[0]\n",
    "        temp.Prediction_N.iloc[0] = temp.Prediction.iloc[0] * temp.Deaths.iloc[0]\n",
    "\n",
    "        for x in range(1,len(temp)):\n",
    "            temp.Prediction_Total.iloc[x] = temp.Prediction_Total.iloc[x-1] + temp.Prediction_N.iloc[x-1]\n",
    "            temp.Prediction_N.iloc[x] = temp.Prediction.iloc[x] * temp.Deaths.iloc[x-1] #A bit of a fudge, but OKish\n",
    "\n",
    "    elif feature == 'dDeaths_filtered':\n",
    "\n",
    "        #Set Prediction_N to the predicted value\n",
    "        temp.Prediction_N = df_output['Prediction']\n",
    "\n",
    "        #NOT SURE THIS EQUATION WORKS HOW I'D LIKE IT TO... CHECK\n",
    "        temp.Prediction_Total.iloc[1:] = temp.Prediction_Total.iloc[:-1] + temp.Prediction_N.iloc[:-1]\n",
    "\n",
    "\n",
    "    df_output.loc[df_output['Country'] == a,:] = temp"
   ]
  },
  {
   "cell_type": "markdown",
   "metadata": {},
   "source": [
    "## RMS\n",
    "\n",
    "The (RMS) error based on daily deaths, not the feature of the chosen model\n",
    "\n",
    "Note: The error compounds over time so this is not a hugely useful metric..."
   ]
  },
  {
   "cell_type": "code",
   "execution_count": 379,
   "metadata": {},
   "outputs": [
    {
     "name": "stdout",
     "output_type": "stream",
     "text": [
      "39492.081153566265\n"
     ]
    }
   ],
   "source": [
    "print(mean_squared_error(df_output['dDeaths_filtered'], df_output['Prediction_N']))"
   ]
  },
  {
   "cell_type": "markdown",
   "metadata": {},
   "source": [
    "## Plot the model's prediction"
   ]
  },
  {
   "cell_type": "markdown",
   "metadata": {},
   "source": [
    "### Select a country to plot\n",
    "\n",
    "If your chosen country is not in the test data, it'll select one that is"
   ]
  },
  {
   "cell_type": "code",
   "execution_count": 380,
   "metadata": {},
   "outputs": [],
   "source": [
    "chosenCountry = 'United Kingdom'\n",
    "#If the chosen country isn't in test sample, then a random other country will be chosen\n",
    "if not chosenCountry in df_output['Country'].unique():    \n",
    "        chosenCountry = df_output['Country'].unique()[0]"
   ]
  },
  {
   "cell_type": "markdown",
   "metadata": {},
   "source": [
    "Extract the data for the chosen country"
   ]
  },
  {
   "cell_type": "code",
   "execution_count": 381,
   "metadata": {},
   "outputs": [],
   "source": [
    "#Convert 'Date' to a String (for the graphs)\n",
    "df_output['Date_S'] = df_output['Date'].dt.strftime(\"%d-%b\")\n",
    "\n",
    "toPrint = df_output[df_output['Country'] == chosenCountry]\n"
   ]
  },
  {
   "cell_type": "markdown",
   "metadata": {},
   "source": [
    "Define the style for the graphs..."
   ]
  },
  {
   "cell_type": "code",
   "execution_count": 382,
   "metadata": {},
   "outputs": [],
   "source": [
    "sns.set_style(\"whitegrid\")\n",
    "sns.set_context(\"notebook\")"
   ]
  },
  {
   "cell_type": "markdown",
   "metadata": {},
   "source": [
    "Plot a graph comparing the actual new recorded deaths (dDeaths), the filtered version (dDeaths_filtered), and the predicted"
   ]
  },
  {
   "cell_type": "code",
   "execution_count": 383,
   "metadata": {
    "scrolled": true
   },
   "outputs": [
    {
     "data": {
      "image/png": "[encoded data removed]",
      "text/plain": [
       "<Figure size 576x288 with 1 Axes>"
      ]
     },
     "metadata": {},
     "output_type": "display_data"
    }
   ],
   "source": [
    "g = sns.FacetGrid(toPrint, height=4, aspect=2)#, hue='Country')#, col=\"United Kingdom\")  legend_out = True,\n",
    "g = g.map(sns.barplot, 'Date', 'dDeaths', color='#4777CE', order=None)#, hue='Country'\n",
    "g = g.map(sns.pointplot, 'Date', 'dDeaths_filtered', markers=\"\", color='#4777CE', order=None)\n",
    "g = g.map(sns.pointplot, 'Date', 'Prediction_N', markers=\"\", color=\"#bb3f3f\", order=None)#.add_legend()\n",
    "#g.add_legend()\n",
    "\n",
    "#tickRange = range(0,max(toPrint['Day_0']),5)\n",
    "#g.set(xticks=tickRange,xticklabels=tickRange)\n",
    "\n",
    "tickRange = range(0,len(toPrint['Date_S']),7)\n",
    "g.set(xticks=tickRange,xticklabels=toPrint['Date_S'].iloc[tickRange])\n",
    "\n",
    "\n",
    "#Add vertical gridlines\n",
    "for x in range(1,len(tickRange)):\n",
    "    g.ax.axvline(g.ax.get_xticks()[x], alpha=0.25, color='grey')\n",
    "\n",
    "g.fig.suptitle(chosenCountry)\n",
    "custom_lines = [Line2D([0], [0], color='#4777CE', lw=6),\n",
    "                Line2D([0], [0], color='#4777CE', lw=2),\n",
    "                Line2D([0], [0], color=\"#bb3f3f\", lw=2)]\n",
    "plt.legend(custom_lines, ['Published new fatalities', 'New fatalities filtered', 'Model output'], \n",
    "           loc='center left', bbox_to_anchor=(1, 0.5))\n",
    "\n",
    "plt.show()"
   ]
  },
  {
   "cell_type": "code",
   "execution_count": 384,
   "metadata": {
    "scrolled": true
   },
   "outputs": [
    {
     "name": "stderr",
     "output_type": "stream",
     "text": [
      "/Applications/anaconda3/lib/python3.7/site-packages/seaborn/axisgrid.py:715: UserWarning: Using the pointplot function without specifying `order` is likely to produce an incorrect plot.\n",
      "  warnings.warn(warning)\n"
     ]
    },
    {
     "data": {
      "image/png": "[encoded data removed]",
      "text/plain": [
       "<Figure size 576x288 with 1 Axes>"
      ]
     },
     "metadata": {},
     "output_type": "display_data"
    }
   ],
   "source": [
    "g = sns.FacetGrid(toPrint, height=4, aspect=2)#, hue='Country')#, col=\"United Kingdom\")  legend_out = True,\n",
    "#g = g.map(sns.barplot, 'Day_0', 'dDeaths', color='#4777CE')#, hue='Country'\n",
    "g = g.map(sns.pointplot, 'Date', feature, markers=\"\", color='#4777CE')\n",
    "g = g.map(sns.pointplot, 'Date', 'Prediction', markers=\"\", color=\"#bb3f3f\")\n",
    "\n",
    "tickRange = range(0,len(toPrint['Date_S']),7)\n",
    "#tickRange = pd.date_range(min(toPrint['Date']),max(toPrint['Date']),freq='5D')\n",
    "g.set(xticks=tickRange,xticklabels=toPrint['Date_S'].iloc[tickRange])\n",
    "\n",
    "g.set(ylim=(-.4, .4))\n",
    "g.set(yticklabels = (np.around(g.ax.get_yticks() * 100).astype(int)))\n",
    "plt.ylabel('Percentage Change in Daily Deeaths (%)')#, fontsize=16)\n",
    "\n",
    "#g.axes.xaxis.set_major_locator(ticker.MultipleLocator(5))\n",
    "for x in range(1,len(tickRange)):\n",
    "    g.ax.axvline(g.ax.get_xticks()[x], alpha=0.25, color='grey')\n",
    "\n",
    "plt.show()"
   ]
  },
  {
   "cell_type": "markdown",
   "metadata": {},
   "source": [
    "### Print out the model's input data (from Google's Community Mobility Reports)"
   ]
  },
  {
   "cell_type": "code",
   "execution_count": 405,
   "metadata": {},
   "outputs": [],
   "source": [
    "G_features = [\"Retail and Recreation\", \"Grocery and Pharmacy\", \"Parks\", \"Transit Stations\", \"Workplaces\", \"Residential\"]\n",
    "core_features = ['Country', 'Date', 'Day_0']\n",
    "\n",
    "toPrintG = pd.DataFrame(columns = core_features)\n",
    "\n",
    "toPrintG['Google Mobility Indicator'] = np.nan\n",
    "toPrintG['% Change from baseline'] = np.nan\n",
    "\n",
    "for x in G_features:\n",
    "    \n",
    "    currentLen = len(toPrintG)\n",
    "    \n",
    "    toPrintG = toPrintG.append(df_output.loc[:,core_features].reset_index(drop=True), sort=False).reset_index(drop=True)\n",
    "    toPrintG.loc[currentLen:,'Google Mobility Indicator'] = x\n",
    "    toPrintG.loc[currentLen:,'% Change from baseline'] = df_output[x][:].values #toPrint.loc[:,x].reset_index(drop=True)\n",
    "\n",
    "#toPrintG"
   ]
  },
  {
   "cell_type": "code",
   "execution_count": 406,
   "metadata": {
    "scrolled": true
   },
   "outputs": [
    {
     "data": {
      "text/plain": [
       "Text(0.5, 0.98, 'United Kingdom')"
      ]
     },
     "execution_count": 406,
     "metadata": {},
     "output_type": "execute_result"
    },
    {
     "data": {
      "image/png": "[encoded data removed]",
      "text/plain": [
       "<Figure size 881.35x360 with 1 Axes>"
      ]
     },
     "metadata": {},
     "output_type": "display_data"
    }
   ],
   "source": [
    "g = sns.relplot(x='Date', y='% Change from baseline', markers=\"\", hue='Google Mobility Indicator', kind='line', estimator=None, aspect = 2, data = toPrintG[toPrintG.Country == chosenCountry])\n",
    "g.fig.suptitle(chosenCountry)"
   ]
  },
  {
   "cell_type": "markdown",
   "metadata": {},
   "source": [
    "# Prediction"
   ]
  },
  {
   "cell_type": "code",
   "execution_count": 387,
   "metadata": {},
   "outputs": [
    {
     "name": "stdout",
     "output_type": "stream",
     "text": [
      "In the past 3 weeks, the average daily percentage percentage change in death is -3.041512293651534%\n",
      "The ML model predicts -2.8298184658055336%\n"
     ]
    }
   ],
   "source": [
    "a = df_output['dd_Deaths_f/dDeaths_f'][-dayOffset:].mean()*100\n",
    "print('In the past 3 weeks, the average daily percentage percentage change in death is ' + str(a) + '%')\n",
    "\n",
    "b = df_output['Prediction'][-dayOffset:].mean()*100\n",
    "print('The ML model predicts ' + str(b) + '%')"
   ]
  },
  {
   "cell_type": "markdown",
   "metadata": {},
   "source": [
    "Get the un-merged data (without the trimmed dates)"
   ]
  },
  {
   "cell_type": "code",
   "execution_count": 388,
   "metadata": {},
   "outputs": [],
   "source": [
    "googleCountryData = dfG_offset[dfG_offset['Country'] == chosenCountry].reset_index(drop=True)\n",
    "JHCountryData = df_output[df_output['Country'] == chosenCountry].reset_index(drop=True)\n",
    "\n",
    "\n",
    "Xp = scaler.transform(googleCountryData.drop(columns = ['Date', 'Country']))\n",
    "Yp = model.predict(Xp)"
   ]
  },
  {
   "cell_type": "markdown",
   "metadata": {},
   "source": [
    "And run the chosen ML model"
   ]
  },
  {
   "cell_type": "code",
   "execution_count": 389,
   "metadata": {},
   "outputs": [],
   "source": [
    "Prediction = pd.DataFrame()#'Prediction', 'Date')\n",
    "Prediction['Prediction'] = Yp\n",
    "Prediction['Date'] = googleCountryData['Date']\n",
    "\n",
    "PredictionC = Prediction.copy()\n",
    "\n",
    "#Merging removes all dates not in both datasets (i.e. the prediction)\n",
    "Prediction = pd.merge(Prediction, JHCountryData[['dd_Deaths_f/dDeaths_f', 'Date']], on=['Date']) \n",
    "Prediction = Prediction.rename(columns={'dd_Deaths_f/dDeaths_f': \"Original\"})\n",
    "\n",
    "#So find the indexes of the future prediction\n",
    "indexVal = np.where(PredictionC['Date'].values > Prediction['Date'][-1:].values)\n",
    "#And append them back into the dataframe\n",
    "Prediction  = Prediction.append(PredictionC.loc[indexVal[0],:], sort=False, ignore_index=True)"
   ]
  },
  {
   "cell_type": "markdown",
   "metadata": {},
   "source": [
    "### Plot the prediction vs original data"
   ]
  },
  {
   "cell_type": "code",
   "execution_count": 390,
   "metadata": {},
   "outputs": [
    {
     "data": {
      "image/png": "[encoded data removed]",
      "text/plain": [
       "<Figure size 864x432 with 1 Axes>"
      ]
     },
     "metadata": {},
     "output_type": "display_data"
    }
   ],
   "source": [
    "Prediction['Date_S'] = Prediction['Date'].dt.strftime(\"%d-%b\")\n",
    "g = sns.FacetGrid(Prediction, height=6, aspect=2)\n",
    "g = g.map(sns.pointplot, 'Date', 'Original', markers=\"\", color='#4777CE', order=None)\n",
    "g = g.map(sns.pointplot, 'Date', 'Prediction', markers=\"\", color=\"#bb3f3f\", order=None)\n",
    "\n",
    "tickRange = range(0,len(Prediction['Date_S']),7)\n",
    "\n",
    "g.set(xticks=tickRange,xticklabels=Prediction['Date_S'].iloc[tickRange])\n",
    "\n",
    "g.set(ylim=(-.3, .3))\n",
    "g.set(yticklabels = (np.around(g.ax.get_yticks() * 100).astype(int)))\n",
    "plt.ylabel('Percentage Change in Daily Deaths (%)')#, fontsize=16)\n",
    "\n",
    "#Manually add vertical gridlines\n",
    "for x in range(1,len(tickRange)):\n",
    "    g.ax.axvline(g.ax.get_xticks()[x], alpha=0.25, color='grey')\n",
    "\n",
    "#Add a black line for y=0 to make it clearer\n",
    "x = np.where(g.ax.get_yticks() == 0)\n",
    "g.ax.axhline(g.ax.get_yticks()[x], alpha=0.5, color='black')\n",
    "\n",
    "\n",
    "#Add legend\n",
    "custom_lines = [Line2D([0], [0], color='#4777CE', lw=2),\n",
    "                Line2D([0], [0], color=\"#bb3f3f\", lw=2)]\n",
    "plt.legend(custom_lines, ['John Hopkins Data', \"ML Model's Prediction\"], loc='center left', bbox_to_anchor=(1, 0.5))\n",
    "\n",
    "plt.show()"
   ]
  },
  {
   "cell_type": "code",
   "execution_count": 391,
   "metadata": {},
   "outputs": [
    {
     "name": "stdout",
     "output_type": "stream",
     "text": [
      "The ML model predicts -2.8298184658055336% since the most recent John Hopkins data point\n"
     ]
    }
   ],
   "source": [
    "#To calculate predicted average daily change of deaths, first calculate the index of the last JH datapoint \n",
    "latestJHDate = np.where(Prediction['Date'].values == JHCountryData['Date'][-1:].values)\n",
    "\n",
    "c = Prediction['Prediction'][latestJHDate[0][0]:].mean()*100\n",
    "print('The ML model predicts ' + str(b) + '% since the most recent John Hopkins data point')"
   ]
  },
  {
   "cell_type": "markdown",
   "metadata": {},
   "source": [
    "### Plot the predicted vs actual daily deaths\n",
    "\n",
    "Predict the number of daily deaths"
   ]
  },
  {
   "cell_type": "code",
   "execution_count": 400,
   "metadata": {
    "scrolled": true
   },
   "outputs": [],
   "source": [
    "Prediction.loc[:,'per Day'] = np.nan\n",
    "Prediction.loc[:,'Change per Day'] = np.nan\n",
    "temp = df_output[df_output['Country'] == chosenCountry].reset_index(drop=True)\n",
    "\n",
    "Prediction.loc[0, 'per Day'] = temp.dDeaths_filtered.iloc[0]\n",
    "Prediction.loc[0,'Change per Day'] = Prediction.loc[0, 'Prediction'] * Prediction.loc[0, 'per Day']\n",
    "\n",
    "calc = pd.DataFrame()\n",
    "\n",
    "for x in Prediction.index[1:]:\n",
    "   \n",
    "    Prediction.loc[x,'per Day'] = abs(Prediction.loc[x-1,'per Day'] / (1 - Prediction.loc[x,'Prediction']))\n",
    "\n",
    "#for x in Prediction.index[1:]:\n",
    "\n",
    "#    if x < dayOffset:\n",
    "#        Prediction.loc[x,'per Day'] = Prediction.loc[x-1,'per Day'] / (1 - Prediction.loc[x,'Prediction'])\n",
    "#    else:\n",
    "#        calc.loc[x-dayOffset, 'per Day'] = temp.dDeaths_filtered.iloc[x-dayOffset]\n",
    "\n",
    "#        for y in range(x-dayOffset+1,x+1):\n",
    "\n",
    "#            calc.loc[y,'per Day'] = calc.loc[y-1,'per Day'] / (1 - Prediction.loc[y,'Prediction'])\n",
    "\n",
    "        #x should equal y...\n",
    "#        Prediction.loc[x,'per Day'] = calc.loc[x,'per Day']"
   ]
  },
  {
   "cell_type": "code",
   "execution_count": 401,
   "metadata": {},
   "outputs": [],
   "source": [
    "Prediction['Raw per Day'] = temp['dDeaths']\n",
    "Prediction['Original per Day'] = temp['dDeaths_filtered']"
   ]
  },
  {
   "cell_type": "markdown",
   "metadata": {},
   "source": [
    "And plot the results"
   ]
  },
  {
   "cell_type": "code",
   "execution_count": 402,
   "metadata": {},
   "outputs": [
    {
     "data": {
      "image/png": "[encoded data removed]",
      "text/plain": [
       "<Figure size 864x432 with 1 Axes>"
      ]
     },
     "metadata": {},
     "output_type": "display_data"
    }
   ],
   "source": [
    "g = sns.FacetGrid(Prediction, height=6, aspect=2)#, hue='Country')#, col=\"United Kingdom\")  legend_out = True,\n",
    "g = g.map(sns.barplot, 'Date', 'Raw per Day', color='#4777CE', order=None)#, hue='Country'\n",
    "g = g.map(sns.pointplot, 'Date', 'Original per Day', markers=\"\", color='#4777CE', order=None)\n",
    "g = g.map(sns.pointplot, 'Date', 'per Day', markers=\"\", color=\"#bb3f3f\", order=None)#.add_legend()\n",
    "#g.add_legend()\n",
    "\n",
    "#tickRange = range(0,max(toPrint['Day_0']),5)\n",
    "#g.set(xticks=tickRange,xticklabels=tickRange)\n",
    "\n",
    "tickRange = range(0,len(Prediction['Date_S']),7)\n",
    "g.set(xticks=tickRange,xticklabels=Prediction['Date_S'].iloc[tickRange])\n",
    "\n",
    "\n",
    "#Add vertical gridlines\n",
    "for x in range(1,len(tickRange)):\n",
    "    g.ax.axvline(g.ax.get_xticks()[x], alpha=0.25, color='grey')\n",
    "\n",
    "g.fig.suptitle(chosenCountry)\n",
    "custom_lines = [Line2D([0], [0], color='#4777CE', lw=6),\n",
    "                Line2D([0], [0], color='#4777CE', lw=2),\n",
    "                Line2D([0], [0], color=\"#bb3f3f\", lw=2)]\n",
    "plt.legend(custom_lines, ['Published daily fatalities', 'Daily fatalities filtered', 'Model Predictions'],\n",
    "           loc='center left', bbox_to_anchor=(1, 0.5))\n",
    "\n",
    "plt.show()"
   ]
  },
  {
   "cell_type": "code",
   "execution_count": 395,
   "metadata": {},
   "outputs": [
    {
     "data": {
      "text/plain": [
       "Text(32.94855000000001, 0.5, 'Deaths per day')"
      ]
     },
     "execution_count": 395,
     "metadata": {},
     "output_type": "execute_result"
    },
    {
     "data": {
      "image/png": "[encoded data removed]",
      "text/plain": [
       "<Figure size 837.975x360 with 1 Axes>"
      ]
     },
     "metadata": {},
     "output_type": "display_data"
    }
   ],
   "source": [
    "key = ['United Kingdom', 'USA', 'Spain', 'France', 'Italy' ,  'China']\n",
    "#China is included in this list as it was the first country to be effected by COVID-19 \n",
    "\n",
    "g = sns.relplot(dayVal, 'dDeaths_filtered', kind='line', estimator=None, hue = 'Country', hue_order = key, data = dfJ, aspect = 2, lw=2)# color='#4777CE', order=None)\n",
    "#plt.yscale('log')\n",
    "g.set(xlim=(0, 70))\n",
    "g.set(ylim=(1, 2500))\n",
    "plt.title('Deaths per day from some of the most affected countries')\n",
    "plt.xlabel('Days since 100th fatality')\n",
    "plt.ylabel('Deaths per day')"
   ]
  },
  {
   "cell_type": "code",
   "execution_count": 396,
   "metadata": {},
   "outputs": [
    {
     "data": {
      "text/plain": [
       "<matplotlib.lines.Line2D at 0x1c21271850>"
      ]
     },
     "execution_count": 396,
     "metadata": {},
     "output_type": "execute_result"
    },
    {
     "data": {
      "image/png": "[encoded data removed]",
      "text/plain": [
       "<Figure size 837.975x360 with 1 Axes>"
      ]
     },
     "metadata": {},
     "output_type": "display_data"
    }
   ],
   "source": [
    "key = ['United Kingdom', 'USA', 'Spain', 'France', 'Italy' ,  'China']\n",
    "#China is included in this list as it was the first country to be effected by COVID-19 \n",
    "\n",
    "g = sns.relplot('Day_100', 'dd_Deaths_f/dDeaths_f', kind='line', estimator=None, hue = 'Country', hue_order = key, data = dfJ, aspect = 2, lw=2)# color='#4777CE', order=None)\n",
    "#plt.yscale('log')\n",
    "g.set(xlim=(0, 70))\n",
    "g.set(ylim=(-.2, .3))\n",
    "plt.title('Deaths per day from some of the most affected countries')\n",
    "plt.xlabel('Days since 100th fatality')\n",
    "\n",
    "g.set(yticklabels = (np.around(g.ax.get_yticks() * 100).astype(int)))\n",
    "plt.ylabel('Percentage Change in Daily Deaths (%)')#, fontsize=16)\n",
    "\n",
    "#Add a black line for y=0 to make it clearer\n",
    "x = np.where(g.ax.get_yticks() == 0)\n",
    "g.ax.axhline(g.ax.get_yticks()[x], alpha=0.5, color='black')\n"
   ]
  },
  {
   "cell_type": "code",
   "execution_count": null,
   "metadata": {},
   "outputs": [],
   "source": []
  }
 ],
 "metadata": {
  "kernelspec": {
   "display_name": "Python 3",
   "language": "python",
   "name": "python3"
  },
  "language_info": {
   "codemirror_mode": {
    "name": "ipython",
    "version": 3
   },
   "file_extension": ".py",
   "mimetype": "text/x-python",
   "name": "python",
   "nbconvert_exporter": "python",
   "pygments_lexer": "ipython3",
   "version": "3.7.4"
  }
 },
 "nbformat": 4,
 "nbformat_minor": 2
}
