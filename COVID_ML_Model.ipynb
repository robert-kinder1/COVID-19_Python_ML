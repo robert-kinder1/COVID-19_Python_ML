{
 "cells": [
  {
   "cell_type": "markdown",
   "metadata": {},
   "source": [
    "# JH & G COVID Data Model\n",
    "\n",
    "Experimenting with the John Hopkins dataset and Google Mobility Reports to see if a useful model can be created "
   ]
  },
  {
   "cell_type": "code",
   "execution_count": 869,
   "metadata": {},
   "outputs": [],
   "source": [
    "# Load libraries\n",
    "import numpy as np\n",
    "import pandas as pd\n",
    "import matplotlib.pyplot as plt\n",
    "from matplotlib.lines import Line2D #to define a custom legend\n",
    "#import matplotlib.ticker as ticker #to set vertical gridline spacing\n",
    "#import matplotlib.dates as mdates #use dates on x-axis labels\n",
    "import seaborn as sns\n",
    "\n",
    "import datetime\n",
    "\n",
    "# Feature Engineering\n",
    "from scipy.signal import savgol_filter\n",
    "\n",
    "# Feature Selection\n",
    "from sklearn.feature_selection import SelectKBest\n",
    "from sklearn.feature_selection import f_regression\n",
    "\n",
    "# Model prep\n",
    "from sklearn.preprocessing import StandardScaler\n",
    "from sklearn.model_selection import train_test_split\n",
    "from sklearn.model_selection import KFold\n",
    "from sklearn.model_selection import cross_val_score\n",
    "\n",
    "# Algorithms\n",
    "from sklearn.linear_model import LinearRegression\n",
    "from sklearn.tree import DecisionTreeRegressor\n",
    "from sklearn.neighbors import KNeighborsRegressor\n",
    "#from sklearn.discriminant_analysis import LinearDiscriminantAnalysis\n",
    "from sklearn.svm import SVR\n",
    "from sklearn.svm import LinearSVR\n",
    "from sklearn.linear_model import SGDRegressor\n",
    "from sklearn.gaussian_process import GaussianProcessRegressor\n",
    "from sklearn.neural_network import MLPRegressor\n",
    "\n",
    "# Evaluation\n",
    "from sklearn.metrics import mean_squared_error\n",
    "from sklearn.metrics import mean_absolute_error"
   ]
  },
  {
   "cell_type": "markdown",
   "metadata": {},
   "source": [
    "# Read in data"
   ]
  },
  {
   "cell_type": "code",
   "execution_count": 646,
   "metadata": {},
   "outputs": [],
   "source": [
    "dfJ_import = pd.read_csv('JH_2020-05-12.csv')\n",
    "dfG = pd.read_csv('Global_Mobility_Report_2020-05-12.csv', sep=',', low_memory=False)\n",
    "\n",
    "#dfJ.head()\n",
    "#dfG.head()"
   ]
  },
  {
   "cell_type": "markdown",
   "metadata": {},
   "source": [
    "## Rearrange John Hopkins data\n",
    "\n",
    "The John Hopkins dataset is not in 'Tidy Format' so here I have crudely manipulated it into a more useful format"
   ]
  },
  {
   "cell_type": "code",
   "execution_count": 647,
   "metadata": {},
   "outputs": [
    {
     "data": {
      "text/html": [
       "<div>\n",
       "<style scoped>\n",
       "    .dataframe tbody tr th:only-of-type {\n",
       "        vertical-align: middle;\n",
       "    }\n",
       "\n",
       "    .dataframe tbody tr th {\n",
       "        vertical-align: top;\n",
       "    }\n",
       "\n",
       "    .dataframe thead th {\n",
       "        text-align: right;\n",
       "    }\n",
       "</style>\n",
       "<table border=\"1\" class=\"dataframe\">\n",
       "  <thead>\n",
       "    <tr style=\"text-align: right;\">\n",
       "      <th></th>\n",
       "      <th>Province/State</th>\n",
       "      <th>Country/Region</th>\n",
       "      <th>Lat</th>\n",
       "      <th>Long</th>\n",
       "      <th>1/22/20</th>\n",
       "      <th>1/23/20</th>\n",
       "      <th>1/24/20</th>\n",
       "      <th>1/25/20</th>\n",
       "      <th>1/26/20</th>\n",
       "      <th>1/27/20</th>\n",
       "      <th>...</th>\n",
       "      <th>5/3/20</th>\n",
       "      <th>5/4/20</th>\n",
       "      <th>5/5/20</th>\n",
       "      <th>5/6/20</th>\n",
       "      <th>5/7/20</th>\n",
       "      <th>5/8/20</th>\n",
       "      <th>5/9/20</th>\n",
       "      <th>5/10/20</th>\n",
       "      <th>5/11/20</th>\n",
       "      <th>5/12/20</th>\n",
       "    </tr>\n",
       "  </thead>\n",
       "  <tbody>\n",
       "    <tr>\n",
       "      <td>0</td>\n",
       "      <td>NaN</td>\n",
       "      <td>Afghanistan</td>\n",
       "      <td>33.0000</td>\n",
       "      <td>65.0000</td>\n",
       "      <td>0</td>\n",
       "      <td>0</td>\n",
       "      <td>0</td>\n",
       "      <td>0</td>\n",
       "      <td>0</td>\n",
       "      <td>0</td>\n",
       "      <td>...</td>\n",
       "      <td>85</td>\n",
       "      <td>90</td>\n",
       "      <td>95</td>\n",
       "      <td>104</td>\n",
       "      <td>106</td>\n",
       "      <td>109</td>\n",
       "      <td>115</td>\n",
       "      <td>120</td>\n",
       "      <td>122</td>\n",
       "      <td>127</td>\n",
       "    </tr>\n",
       "    <tr>\n",
       "      <td>1</td>\n",
       "      <td>NaN</td>\n",
       "      <td>Albania</td>\n",
       "      <td>41.1533</td>\n",
       "      <td>20.1683</td>\n",
       "      <td>0</td>\n",
       "      <td>0</td>\n",
       "      <td>0</td>\n",
       "      <td>0</td>\n",
       "      <td>0</td>\n",
       "      <td>0</td>\n",
       "      <td>...</td>\n",
       "      <td>31</td>\n",
       "      <td>31</td>\n",
       "      <td>31</td>\n",
       "      <td>31</td>\n",
       "      <td>31</td>\n",
       "      <td>31</td>\n",
       "      <td>31</td>\n",
       "      <td>31</td>\n",
       "      <td>31</td>\n",
       "      <td>31</td>\n",
       "    </tr>\n",
       "    <tr>\n",
       "      <td>2</td>\n",
       "      <td>NaN</td>\n",
       "      <td>Algeria</td>\n",
       "      <td>28.0339</td>\n",
       "      <td>1.6596</td>\n",
       "      <td>0</td>\n",
       "      <td>0</td>\n",
       "      <td>0</td>\n",
       "      <td>0</td>\n",
       "      <td>0</td>\n",
       "      <td>0</td>\n",
       "      <td>...</td>\n",
       "      <td>463</td>\n",
       "      <td>465</td>\n",
       "      <td>470</td>\n",
       "      <td>476</td>\n",
       "      <td>483</td>\n",
       "      <td>488</td>\n",
       "      <td>494</td>\n",
       "      <td>502</td>\n",
       "      <td>507</td>\n",
       "      <td>515</td>\n",
       "    </tr>\n",
       "    <tr>\n",
       "      <td>3</td>\n",
       "      <td>NaN</td>\n",
       "      <td>Andorra</td>\n",
       "      <td>42.5063</td>\n",
       "      <td>1.5218</td>\n",
       "      <td>0</td>\n",
       "      <td>0</td>\n",
       "      <td>0</td>\n",
       "      <td>0</td>\n",
       "      <td>0</td>\n",
       "      <td>0</td>\n",
       "      <td>...</td>\n",
       "      <td>45</td>\n",
       "      <td>45</td>\n",
       "      <td>46</td>\n",
       "      <td>46</td>\n",
       "      <td>47</td>\n",
       "      <td>47</td>\n",
       "      <td>48</td>\n",
       "      <td>48</td>\n",
       "      <td>48</td>\n",
       "      <td>48</td>\n",
       "    </tr>\n",
       "    <tr>\n",
       "      <td>4</td>\n",
       "      <td>NaN</td>\n",
       "      <td>Angola</td>\n",
       "      <td>-11.2027</td>\n",
       "      <td>17.8739</td>\n",
       "      <td>0</td>\n",
       "      <td>0</td>\n",
       "      <td>0</td>\n",
       "      <td>0</td>\n",
       "      <td>0</td>\n",
       "      <td>0</td>\n",
       "      <td>...</td>\n",
       "      <td>2</td>\n",
       "      <td>2</td>\n",
       "      <td>2</td>\n",
       "      <td>2</td>\n",
       "      <td>2</td>\n",
       "      <td>2</td>\n",
       "      <td>2</td>\n",
       "      <td>2</td>\n",
       "      <td>2</td>\n",
       "      <td>2</td>\n",
       "    </tr>\n",
       "  </tbody>\n",
       "</table>\n",
       "<p>5 rows × 116 columns</p>\n",
       "</div>"
      ],
      "text/plain": [
       "  Province/State Country/Region      Lat     Long  1/22/20  1/23/20  1/24/20  \\\n",
       "0            NaN    Afghanistan  33.0000  65.0000        0        0        0   \n",
       "1            NaN        Albania  41.1533  20.1683        0        0        0   \n",
       "2            NaN        Algeria  28.0339   1.6596        0        0        0   \n",
       "3            NaN        Andorra  42.5063   1.5218        0        0        0   \n",
       "4            NaN         Angola -11.2027  17.8739        0        0        0   \n",
       "\n",
       "   1/25/20  1/26/20  1/27/20  ...  5/3/20  5/4/20  5/5/20  5/6/20  5/7/20  \\\n",
       "0        0        0        0  ...      85      90      95     104     106   \n",
       "1        0        0        0  ...      31      31      31      31      31   \n",
       "2        0        0        0  ...     463     465     470     476     483   \n",
       "3        0        0        0  ...      45      45      46      46      47   \n",
       "4        0        0        0  ...       2       2       2       2       2   \n",
       "\n",
       "   5/8/20  5/9/20  5/10/20  5/11/20  5/12/20  \n",
       "0     109     115      120      122      127  \n",
       "1      31      31       31       31       31  \n",
       "2     488     494      502      507      515  \n",
       "3      47      48       48       48       48  \n",
       "4       2       2        2        2        2  \n",
       "\n",
       "[5 rows x 116 columns]"
      ]
     },
     "execution_count": 647,
     "metadata": {},
     "output_type": "execute_result"
    }
   ],
   "source": [
    "#dfJ_import = pd.read_csv('JH_2020-04-28.csv')\n",
    "dfJ_import.head()"
   ]
  },
  {
   "cell_type": "markdown",
   "metadata": {},
   "source": [
    "Get a list of contries with country level data (i.e. no Province/State data)"
   ]
  },
  {
   "cell_type": "code",
   "execution_count": 648,
   "metadata": {},
   "outputs": [],
   "source": [
    "index = pd.isnull(dfJ_import[['Province/State']]).any(1).to_numpy().nonzero()[0]"
   ]
  },
  {
   "cell_type": "markdown",
   "metadata": {},
   "source": [
    "And split the imported dataset into country level data (dfJ_t) and remaining, 'Province/State', data (dfJ_import_r)"
   ]
  },
  {
   "cell_type": "code",
   "execution_count": 649,
   "metadata": {},
   "outputs": [
    {
     "data": {
      "text/html": [
       "<div>\n",
       "<style scoped>\n",
       "    .dataframe tbody tr th:only-of-type {\n",
       "        vertical-align: middle;\n",
       "    }\n",
       "\n",
       "    .dataframe tbody tr th {\n",
       "        vertical-align: top;\n",
       "    }\n",
       "\n",
       "    .dataframe thead th {\n",
       "        text-align: right;\n",
       "    }\n",
       "</style>\n",
       "<table border=\"1\" class=\"dataframe\">\n",
       "  <thead>\n",
       "    <tr style=\"text-align: right;\">\n",
       "      <th></th>\n",
       "      <th>Country/Region</th>\n",
       "      <th>1/22/20</th>\n",
       "      <th>1/23/20</th>\n",
       "      <th>1/24/20</th>\n",
       "      <th>1/25/20</th>\n",
       "      <th>1/26/20</th>\n",
       "      <th>1/27/20</th>\n",
       "      <th>1/28/20</th>\n",
       "      <th>1/29/20</th>\n",
       "      <th>1/30/20</th>\n",
       "      <th>...</th>\n",
       "      <th>5/3/20</th>\n",
       "      <th>5/4/20</th>\n",
       "      <th>5/5/20</th>\n",
       "      <th>5/6/20</th>\n",
       "      <th>5/7/20</th>\n",
       "      <th>5/8/20</th>\n",
       "      <th>5/9/20</th>\n",
       "      <th>5/10/20</th>\n",
       "      <th>5/11/20</th>\n",
       "      <th>5/12/20</th>\n",
       "    </tr>\n",
       "  </thead>\n",
       "  <tbody>\n",
       "    <tr>\n",
       "      <td>0</td>\n",
       "      <td>Afghanistan</td>\n",
       "      <td>0</td>\n",
       "      <td>0</td>\n",
       "      <td>0</td>\n",
       "      <td>0</td>\n",
       "      <td>0</td>\n",
       "      <td>0</td>\n",
       "      <td>0</td>\n",
       "      <td>0</td>\n",
       "      <td>0</td>\n",
       "      <td>...</td>\n",
       "      <td>85</td>\n",
       "      <td>90</td>\n",
       "      <td>95</td>\n",
       "      <td>104</td>\n",
       "      <td>106</td>\n",
       "      <td>109</td>\n",
       "      <td>115</td>\n",
       "      <td>120</td>\n",
       "      <td>122</td>\n",
       "      <td>127</td>\n",
       "    </tr>\n",
       "    <tr>\n",
       "      <td>1</td>\n",
       "      <td>Albania</td>\n",
       "      <td>0</td>\n",
       "      <td>0</td>\n",
       "      <td>0</td>\n",
       "      <td>0</td>\n",
       "      <td>0</td>\n",
       "      <td>0</td>\n",
       "      <td>0</td>\n",
       "      <td>0</td>\n",
       "      <td>0</td>\n",
       "      <td>...</td>\n",
       "      <td>31</td>\n",
       "      <td>31</td>\n",
       "      <td>31</td>\n",
       "      <td>31</td>\n",
       "      <td>31</td>\n",
       "      <td>31</td>\n",
       "      <td>31</td>\n",
       "      <td>31</td>\n",
       "      <td>31</td>\n",
       "      <td>31</td>\n",
       "    </tr>\n",
       "    <tr>\n",
       "      <td>2</td>\n",
       "      <td>Algeria</td>\n",
       "      <td>0</td>\n",
       "      <td>0</td>\n",
       "      <td>0</td>\n",
       "      <td>0</td>\n",
       "      <td>0</td>\n",
       "      <td>0</td>\n",
       "      <td>0</td>\n",
       "      <td>0</td>\n",
       "      <td>0</td>\n",
       "      <td>...</td>\n",
       "      <td>463</td>\n",
       "      <td>465</td>\n",
       "      <td>470</td>\n",
       "      <td>476</td>\n",
       "      <td>483</td>\n",
       "      <td>488</td>\n",
       "      <td>494</td>\n",
       "      <td>502</td>\n",
       "      <td>507</td>\n",
       "      <td>515</td>\n",
       "    </tr>\n",
       "    <tr>\n",
       "      <td>3</td>\n",
       "      <td>Andorra</td>\n",
       "      <td>0</td>\n",
       "      <td>0</td>\n",
       "      <td>0</td>\n",
       "      <td>0</td>\n",
       "      <td>0</td>\n",
       "      <td>0</td>\n",
       "      <td>0</td>\n",
       "      <td>0</td>\n",
       "      <td>0</td>\n",
       "      <td>...</td>\n",
       "      <td>45</td>\n",
       "      <td>45</td>\n",
       "      <td>46</td>\n",
       "      <td>46</td>\n",
       "      <td>47</td>\n",
       "      <td>47</td>\n",
       "      <td>48</td>\n",
       "      <td>48</td>\n",
       "      <td>48</td>\n",
       "      <td>48</td>\n",
       "    </tr>\n",
       "    <tr>\n",
       "      <td>4</td>\n",
       "      <td>Angola</td>\n",
       "      <td>0</td>\n",
       "      <td>0</td>\n",
       "      <td>0</td>\n",
       "      <td>0</td>\n",
       "      <td>0</td>\n",
       "      <td>0</td>\n",
       "      <td>0</td>\n",
       "      <td>0</td>\n",
       "      <td>0</td>\n",
       "      <td>...</td>\n",
       "      <td>2</td>\n",
       "      <td>2</td>\n",
       "      <td>2</td>\n",
       "      <td>2</td>\n",
       "      <td>2</td>\n",
       "      <td>2</td>\n",
       "      <td>2</td>\n",
       "      <td>2</td>\n",
       "      <td>2</td>\n",
       "      <td>2</td>\n",
       "    </tr>\n",
       "  </tbody>\n",
       "</table>\n",
       "<p>5 rows × 113 columns</p>\n",
       "</div>"
      ],
      "text/plain": [
       "  Country/Region  1/22/20  1/23/20  1/24/20  1/25/20  1/26/20  1/27/20  \\\n",
       "0    Afghanistan        0        0        0        0        0        0   \n",
       "1        Albania        0        0        0        0        0        0   \n",
       "2        Algeria        0        0        0        0        0        0   \n",
       "3        Andorra        0        0        0        0        0        0   \n",
       "4         Angola        0        0        0        0        0        0   \n",
       "\n",
       "   1/28/20  1/29/20  1/30/20  ...  5/3/20  5/4/20  5/5/20  5/6/20  5/7/20  \\\n",
       "0        0        0        0  ...      85      90      95     104     106   \n",
       "1        0        0        0  ...      31      31      31      31      31   \n",
       "2        0        0        0  ...     463     465     470     476     483   \n",
       "3        0        0        0  ...      45      45      46      46      47   \n",
       "4        0        0        0  ...       2       2       2       2       2   \n",
       "\n",
       "   5/8/20  5/9/20  5/10/20  5/11/20  5/12/20  \n",
       "0     109     115      120      122      127  \n",
       "1      31      31       31       31       31  \n",
       "2     488     494      502      507      515  \n",
       "3      47      48       48       48       48  \n",
       "4       2       2        2        2        2  \n",
       "\n",
       "[5 rows x 113 columns]"
      ]
     },
     "execution_count": 649,
     "metadata": {},
     "output_type": "execute_result"
    }
   ],
   "source": [
    "temp = pd.DataFrame()\n",
    "\n",
    "dfJ_t = dfJ_import.loc[index,:]\n",
    "dfJ_import_r = dfJ_import.drop(index)\n",
    "\n",
    "dfJ_t = dfJ_t.drop(columns = ['Province/State', 'Lat', 'Long']) #Not using these columns so drop them\n",
    "dfJ_t.head()"
   ]
  },
  {
   "cell_type": "markdown",
   "metadata": {},
   "source": [
    "If there is no country level data available for a 'State/Province' (e.g. China where the data is broken down to each individual state), sum the available data and append the Country onto dfJ, otherwise create a new 'Country/Region' to group all these 'State/Province's"
   ]
  },
  {
   "cell_type": "code",
   "execution_count": 650,
   "metadata": {},
   "outputs": [],
   "source": [
    "stateCountries = dfJ_import_r['Country/Region'].unique()\n",
    "\n",
    "temp = pd.DataFrame(columns = dfJ_t.columns)\n",
    "\n",
    "for x in stateCountries:\n",
    "    \n",
    "    if x in dfJ_t['Country/Region'].unique():\n",
    "    \n",
    "        temp.loc[0,'Country/Region'] = x + ' Overseas Territories' \n",
    "        #Apologies if 'Overseas Territories' is not an appropriate term in some cases.\n",
    "        #I've used it because 'British Overseas Territories' is the general term used for the UK countries so I've generalised\n",
    "    else:\n",
    "        temp.loc[0,'Country/Region'] = x\n",
    "    \n",
    "    for y in dfJ_t.columns[1:]:\n",
    "        temp.loc[0,y] = sum(dfJ_import_r[dfJ_import_r['Country/Region'] == x][y])\n",
    "    \n",
    "    dfJ_t = dfJ_t.append(temp, ignore_index=True)"
   ]
  },
  {
   "cell_type": "markdown",
   "metadata": {},
   "source": [
    "'Rotate' the data so that it's in 'Tidy Format' "
   ]
  },
  {
   "cell_type": "code",
   "execution_count": 651,
   "metadata": {},
   "outputs": [],
   "source": [
    "variable = dfJ_t['Country/Region'].values\n",
    "dfJ = pd.DataFrame(columns = variable)\n",
    "dfJ.reset_index()\n",
    "#n_dfJ.drop(columns='Country/Region')\n",
    "dfJ['Date'] = dfJ_t.columns[1:]\n",
    "\n",
    "for x in dfJ.columns[0:-1]:\n",
    "    \n",
    "    dfJ_index, = np.where(dfJ_t['Country/Region'][:].values == x)[0]\n",
    "    dfJ.loc[:,x] = dfJ_t.iloc[dfJ_index][1:].values\n",
    "\n",
    "### Reorder so Date is the first column in the Data Frame\n",
    "temp = dfJ.pop('Date')\n",
    "dfJ.insert(0, 'Date', temp)"
   ]
  },
  {
   "cell_type": "markdown",
   "metadata": {},
   "source": [
    "The 'Diamond Princess' isn't a country so... Remove it. \n",
    "\n",
    "More seriously, in most countries the number of infections are vastly lower than the total population. This wasn't the case on the Diamond Princess so I believe it could be tricky data to interpret"
   ]
  },
  {
   "cell_type": "code",
   "execution_count": 652,
   "metadata": {},
   "outputs": [],
   "source": [
    "dfJ = dfJ.drop(columns = 'Diamond Princess')"
   ]
  },
  {
   "cell_type": "markdown",
   "metadata": {},
   "source": [
    "Specify that 'Date' is in datetime format"
   ]
  },
  {
   "cell_type": "code",
   "execution_count": 653,
   "metadata": {},
   "outputs": [],
   "source": [
    "dfJ[\"Date\"] = pd.to_datetime(dfJ[\"Date\"], format='%m/%d/%y')\n",
    "#dfJ"
   ]
  },
  {
   "cell_type": "markdown",
   "metadata": {},
   "source": [
    "## Update Google Data\n",
    "\n",
    "Google's Mobility Report data is in tidy format so only small changes are needed:"
   ]
  },
  {
   "cell_type": "markdown",
   "metadata": {},
   "source": [
    "Rename columns to be consistent"
   ]
  },
  {
   "cell_type": "code",
   "execution_count": 654,
   "metadata": {},
   "outputs": [],
   "source": [
    "dfG = dfG.rename(columns={\"country_region\": \"Country\", \"date\": \"Date\"})"
   ]
  },
  {
   "cell_type": "markdown",
   "metadata": {},
   "source": [
    "And specify that the dates are datetime format"
   ]
  },
  {
   "cell_type": "code",
   "execution_count": 655,
   "metadata": {},
   "outputs": [],
   "source": [
    "dfG[\"Date\"] = pd.to_datetime(dfG[\"Date\"])#, format='%d/%m/%Y')\n",
    "\n",
    "#dfG.dtypes"
   ]
  },
  {
   "cell_type": "markdown",
   "metadata": {},
   "source": [
    "# Remove unnecessary / unused columns"
   ]
  },
  {
   "cell_type": "markdown",
   "metadata": {},
   "source": [
    "## John Hopkins data"
   ]
  },
  {
   "cell_type": "markdown",
   "metadata": {},
   "source": [
    "### Rename headers"
   ]
  },
  {
   "cell_type": "markdown",
   "metadata": {},
   "source": [
    "As this data will be merged with Google's, it's important countries have exactly the same names"
   ]
  },
  {
   "cell_type": "code",
   "execution_count": 656,
   "metadata": {},
   "outputs": [],
   "source": [
    "dfJ = dfJ.rename(columns={\"US\": \"USA\", \"Taiwan*\":\"Taiwan\"})"
   ]
  },
  {
   "cell_type": "markdown",
   "metadata": {},
   "source": [
    "### Remove countries with a 'small' number of cases"
   ]
  },
  {
   "cell_type": "code",
   "execution_count": 657,
   "metadata": {},
   "outputs": [],
   "source": [
    "limitCount = 3000 # minimum count to not be discounted\n",
    "\n",
    "lowDeaths = pd.DataFrame()\n",
    "for x in list(dfJ.columns[1:]): #Starts at 1 to ignore 'Date'\n",
    "    if max(dfJ[x][:])<=limitCount:\n",
    "        temp = dfJ.pop(x)\n",
    "        lowDeaths[temp.name] = temp\n",
    "\n",
    "#dfJ.head()\n",
    "#lowDeaths.head()"
   ]
  },
  {
   "cell_type": "markdown",
   "metadata": {},
   "source": [
    "### Change to 'tidy' format"
   ]
  },
  {
   "cell_type": "code",
   "execution_count": 658,
   "metadata": {},
   "outputs": [
    {
     "data": {
      "text/html": [
       "<div>\n",
       "<style scoped>\n",
       "    .dataframe tbody tr th:only-of-type {\n",
       "        vertical-align: middle;\n",
       "    }\n",
       "\n",
       "    .dataframe tbody tr th {\n",
       "        vertical-align: top;\n",
       "    }\n",
       "\n",
       "    .dataframe thead th {\n",
       "        text-align: right;\n",
       "    }\n",
       "</style>\n",
       "<table border=\"1\" class=\"dataframe\">\n",
       "  <thead>\n",
       "    <tr style=\"text-align: right;\">\n",
       "      <th></th>\n",
       "      <th>Country</th>\n",
       "      <th>Date</th>\n",
       "      <th>Day_100</th>\n",
       "      <th>Deaths</th>\n",
       "    </tr>\n",
       "  </thead>\n",
       "  <tbody>\n",
       "    <tr>\n",
       "      <td>0</td>\n",
       "      <td>Belgium</td>\n",
       "      <td>2020-03-24</td>\n",
       "      <td>1</td>\n",
       "      <td>122</td>\n",
       "    </tr>\n",
       "    <tr>\n",
       "      <td>1</td>\n",
       "      <td>Belgium</td>\n",
       "      <td>2020-03-25</td>\n",
       "      <td>2</td>\n",
       "      <td>178</td>\n",
       "    </tr>\n",
       "    <tr>\n",
       "      <td>2</td>\n",
       "      <td>Belgium</td>\n",
       "      <td>2020-03-26</td>\n",
       "      <td>3</td>\n",
       "      <td>220</td>\n",
       "    </tr>\n",
       "    <tr>\n",
       "      <td>3</td>\n",
       "      <td>Belgium</td>\n",
       "      <td>2020-03-27</td>\n",
       "      <td>4</td>\n",
       "      <td>289</td>\n",
       "    </tr>\n",
       "    <tr>\n",
       "      <td>4</td>\n",
       "      <td>Belgium</td>\n",
       "      <td>2020-03-28</td>\n",
       "      <td>5</td>\n",
       "      <td>353</td>\n",
       "    </tr>\n",
       "  </tbody>\n",
       "</table>\n",
       "</div>"
      ],
      "text/plain": [
       "   Country       Date  Day_100 Deaths\n",
       "0  Belgium 2020-03-24        1    122\n",
       "1  Belgium 2020-03-25        2    178\n",
       "2  Belgium 2020-03-26        3    220\n",
       "3  Belgium 2020-03-27        4    289\n",
       "4  Belgium 2020-03-28        5    353"
      ]
     },
     "execution_count": 658,
     "metadata": {},
     "output_type": "execute_result"
    }
   ],
   "source": [
    "minD = 100 #Data for number of deaths <100 can be noisy so this step removes it (see loop below)\n",
    "\n",
    "dayVal = 'Day_' + str(minD)\n",
    "\n",
    "trimmedDf = pd.DataFrame(columns = [dayVal, 'Country', 'Deaths'])\n",
    "\n",
    "temp = pd.DataFrame()#columns = ['Day_0', 'Country', 'Deaths'])\n",
    "#for loop loops through countries. Skips index 0 as that's the date (not a country...)\n",
    "for x in list(dfJ.columns[1:]):\n",
    "    \n",
    "    #Data for number of deaths <100 can be noisy so this step removes it\n",
    "    for y in dfJ.index:\n",
    "        if dfJ.loc[y,x] < minD:\n",
    "            dfJ.loc[y,x] = 0\n",
    "        else:\n",
    "            break\n",
    "\n",
    "    \n",
    "    nonZero = dfJ[x].to_numpy().nonzero()\n",
    "    firstVal = nonZero[0][0]\n",
    "    tempList = list(dfJ[x][firstVal:])\n",
    "    \n",
    "    temp[dayVal] = range(1,len(tempList)+1)\n",
    "    temp['Country'] = [x] * (len(tempList))\n",
    "    temp['Date'] = list(dfJ['Date'][firstVal:])\n",
    "    temp['Deaths'] = tempList\n",
    "    \n",
    "    trimmedDf = trimmedDf.append(temp, ignore_index=True, sort=True)\n",
    "    temp = temp.iloc[0:0] #reset temp\n",
    "\n",
    "dfJ = trimmedDf.copy()\n",
    "dfJ[dayVal] = dfJ[dayVal].astype(int) #Set variables as integers   \n",
    "del trimmedDf, temp\n",
    "dfJ.head()"
   ]
  },
  {
   "cell_type": "markdown",
   "metadata": {},
   "source": [
    "## Google data\n",
    "We're only using the country level data, so removing sub-regions "
   ]
  },
  {
   "cell_type": "code",
   "execution_count": 659,
   "metadata": {},
   "outputs": [],
   "source": [
    "dfG = dfG.drop(dfG.index[pd.notna(dfG['sub_region_1'])]) # Remove all not-empty subregion rows\n",
    "dfG = dfG.drop(columns=['sub_region_1', 'sub_region_2', 'country_region_code']) # Remove unnecessary columns"
   ]
  },
  {
   "cell_type": "markdown",
   "metadata": {},
   "source": [
    "### Rename Countries"
   ]
  },
  {
   "cell_type": "markdown",
   "metadata": {},
   "source": [
    "As this data will be merged with John Hopkins' it's important that countries are named consistently"
   ]
  },
  {
   "cell_type": "code",
   "execution_count": 660,
   "metadata": {
    "scrolled": true
   },
   "outputs": [],
   "source": [
    "dfG.loc[(dfG['Country'] == 'United States'),'Country'] = 'USA'"
   ]
  },
  {
   "cell_type": "markdown",
   "metadata": {},
   "source": [
    "### Rename headers\n",
    "Just to neaten things up for later (when plotting anything), I'm shortening the column titles"
   ]
  },
  {
   "cell_type": "code",
   "execution_count": 661,
   "metadata": {},
   "outputs": [],
   "source": [
    "dfG = dfG.rename(columns={\"retail_and_recreation_percent_change_from_baseline\": \"Retail and Recreation\",\n",
    "                          \"grocery_and_pharmacy_percent_change_from_baseline\":\"Grocery and Pharmacy\", \n",
    "                          \"parks_percent_change_from_baseline\":\"Parks\", \n",
    "                          \"transit_stations_percent_change_from_baseline\":\"Transit Stations\", \n",
    "                          \"workplaces_percent_change_from_baseline\":\"Workplaces\",\n",
    "                          \"residential_percent_change_from_baseline\": \"Residential\"})\n",
    "\n",
    "#dfG.head()"
   ]
  },
  {
   "cell_type": "markdown",
   "metadata": {},
   "source": [
    "# Feature 'Engineering'\n",
    "Turning the features into something more useful\n",
    "\n",
    "I do this before merging the John Hopkins and Google datasets because you lose a few dates when you merge the data"
   ]
  },
  {
   "cell_type": "markdown",
   "metadata": {},
   "source": [
    "## Calculate the number of new deaths per day"
   ]
  },
  {
   "cell_type": "code",
   "execution_count": 662,
   "metadata": {},
   "outputs": [
    {
     "data": {
      "text/html": [
       "<div>\n",
       "<style scoped>\n",
       "    .dataframe tbody tr th:only-of-type {\n",
       "        vertical-align: middle;\n",
       "    }\n",
       "\n",
       "    .dataframe tbody tr th {\n",
       "        vertical-align: top;\n",
       "    }\n",
       "\n",
       "    .dataframe thead th {\n",
       "        text-align: right;\n",
       "    }\n",
       "</style>\n",
       "<table border=\"1\" class=\"dataframe\">\n",
       "  <thead>\n",
       "    <tr style=\"text-align: right;\">\n",
       "      <th></th>\n",
       "      <th>Country</th>\n",
       "      <th>Date</th>\n",
       "      <th>Day_100</th>\n",
       "      <th>Deaths</th>\n",
       "      <th>dDeaths</th>\n",
       "    </tr>\n",
       "  </thead>\n",
       "  <tbody>\n",
       "    <tr>\n",
       "      <td>0</td>\n",
       "      <td>Belgium</td>\n",
       "      <td>2020-03-25</td>\n",
       "      <td>2</td>\n",
       "      <td>178</td>\n",
       "      <td>56</td>\n",
       "    </tr>\n",
       "    <tr>\n",
       "      <td>1</td>\n",
       "      <td>Belgium</td>\n",
       "      <td>2020-03-26</td>\n",
       "      <td>3</td>\n",
       "      <td>220</td>\n",
       "      <td>42</td>\n",
       "    </tr>\n",
       "    <tr>\n",
       "      <td>2</td>\n",
       "      <td>Belgium</td>\n",
       "      <td>2020-03-27</td>\n",
       "      <td>4</td>\n",
       "      <td>289</td>\n",
       "      <td>69</td>\n",
       "    </tr>\n",
       "    <tr>\n",
       "      <td>3</td>\n",
       "      <td>Belgium</td>\n",
       "      <td>2020-03-28</td>\n",
       "      <td>5</td>\n",
       "      <td>353</td>\n",
       "      <td>64</td>\n",
       "    </tr>\n",
       "    <tr>\n",
       "      <td>4</td>\n",
       "      <td>Belgium</td>\n",
       "      <td>2020-03-29</td>\n",
       "      <td>6</td>\n",
       "      <td>431</td>\n",
       "      <td>78</td>\n",
       "    </tr>\n",
       "  </tbody>\n",
       "</table>\n",
       "</div>"
      ],
      "text/plain": [
       "   Country       Date  Day_100 Deaths  dDeaths\n",
       "0  Belgium 2020-03-25        2    178       56\n",
       "1  Belgium 2020-03-26        3    220       42\n",
       "2  Belgium 2020-03-27        4    289       69\n",
       "3  Belgium 2020-03-28        5    353       64\n",
       "4  Belgium 2020-03-29        6    431       78"
      ]
     },
     "execution_count": 662,
     "metadata": {},
     "output_type": "execute_result"
    }
   ],
   "source": [
    "dfJ['dDeaths'] = np.nan\n",
    "for x in dfJ['Country'].unique(): #Loop through all unique countries\n",
    "    indexList = dfJ[dfJ.Country == x]['Deaths'].index.values.astype(int)\n",
    "    \n",
    "    #Leading zeros have been removed so: \n",
    "    #dfJ.loc[min(indexList),'dDeaths'] = dfJ.loc[min(indexList), 'Deaths'] \n",
    "    # IGNORED AS ALL VALUES BELOW 100 HAVE BEEN REMOVED \n",
    "    \n",
    "    #Assumes data is still in chronological order!    \n",
    "    for y in range((min(indexList)+1),(max(indexList)+1)): #Loop through all entries for that country\n",
    "        dfJ.loc[y, 'dDeaths'] = dfJ.loc[y, 'Deaths'] - dfJ.loc[(y-1), 'Deaths']\n",
    "        \n",
    "        #Some countries have abruptly revised upwards their estimates of death. \n",
    "        #To avoid introducing a random peak in the data, I've added this check to replace the value with the average of the one before and after\n",
    "        if dfJ.loc[y, 'dDeaths'] > 1000 and dfJ.loc[y, 'dDeaths'] > 100 * abs(dfJ.loc[y-1, 'dDeaths']):\n",
    "            dfJ.loc[y, 'dDeaths'] = ((dfJ.loc[y-1, 'dDeaths']) + (dfJ.loc[y+1, 'Deaths'] - dfJ.loc[(y), 'Deaths']))/2\n",
    "      \n",
    "\n",
    "dfJ = dfJ.dropna().reset_index(drop = True) #Remove NaNs left from the first row for each country\n",
    "dfJ['dDeaths'] = dfJ['dDeaths'].dropna().astype(int)        \n",
    "dfJ.head()"
   ]
  },
  {
   "cell_type": "markdown",
   "metadata": {},
   "source": [
    "### Pass this through a filter to remove the 'noise'\n",
    "\n",
    "The JH data presents the number of new deaths reported by the government on a day, but not the date it they actually occur. Therefore there is a bit of 'noise' on this data as reporting increases and decreases during a working week. \n",
    "\n",
    "Filtering this aims to remove this 'noise'."
   ]
  },
  {
   "cell_type": "code",
   "execution_count": 663,
   "metadata": {},
   "outputs": [
    {
     "data": {
      "text/html": [
       "<div>\n",
       "<style scoped>\n",
       "    .dataframe tbody tr th:only-of-type {\n",
       "        vertical-align: middle;\n",
       "    }\n",
       "\n",
       "    .dataframe tbody tr th {\n",
       "        vertical-align: top;\n",
       "    }\n",
       "\n",
       "    .dataframe thead th {\n",
       "        text-align: right;\n",
       "    }\n",
       "</style>\n",
       "<table border=\"1\" class=\"dataframe\">\n",
       "  <thead>\n",
       "    <tr style=\"text-align: right;\">\n",
       "      <th></th>\n",
       "      <th>Country</th>\n",
       "      <th>Date</th>\n",
       "      <th>Day_100</th>\n",
       "      <th>Deaths</th>\n",
       "      <th>dDeaths</th>\n",
       "      <th>dDeaths_filtered</th>\n",
       "    </tr>\n",
       "  </thead>\n",
       "  <tbody>\n",
       "    <tr>\n",
       "      <td>0</td>\n",
       "      <td>Belgium</td>\n",
       "      <td>2020-03-25</td>\n",
       "      <td>2</td>\n",
       "      <td>178</td>\n",
       "      <td>56</td>\n",
       "      <td>42.170588</td>\n",
       "    </tr>\n",
       "    <tr>\n",
       "      <td>1</td>\n",
       "      <td>Belgium</td>\n",
       "      <td>2020-03-26</td>\n",
       "      <td>3</td>\n",
       "      <td>220</td>\n",
       "      <td>42</td>\n",
       "      <td>55.067647</td>\n",
       "    </tr>\n",
       "    <tr>\n",
       "      <td>2</td>\n",
       "      <td>Belgium</td>\n",
       "      <td>2020-03-27</td>\n",
       "      <td>4</td>\n",
       "      <td>289</td>\n",
       "      <td>69</td>\n",
       "      <td>67.347059</td>\n",
       "    </tr>\n",
       "    <tr>\n",
       "      <td>3</td>\n",
       "      <td>Belgium</td>\n",
       "      <td>2020-03-28</td>\n",
       "      <td>5</td>\n",
       "      <td>353</td>\n",
       "      <td>64</td>\n",
       "      <td>79.310860</td>\n",
       "    </tr>\n",
       "    <tr>\n",
       "      <td>4</td>\n",
       "      <td>Belgium</td>\n",
       "      <td>2020-03-29</td>\n",
       "      <td>6</td>\n",
       "      <td>431</td>\n",
       "      <td>78</td>\n",
       "      <td>91.261086</td>\n",
       "    </tr>\n",
       "  </tbody>\n",
       "</table>\n",
       "</div>"
      ],
      "text/plain": [
       "   Country       Date  Day_100 Deaths  dDeaths  dDeaths_filtered\n",
       "0  Belgium 2020-03-25        2    178       56         42.170588\n",
       "1  Belgium 2020-03-26        3    220       42         55.067647\n",
       "2  Belgium 2020-03-27        4    289       69         67.347059\n",
       "3  Belgium 2020-03-28        5    353       64         79.310860\n",
       "4  Belgium 2020-03-29        6    431       78         91.261086"
      ]
     },
     "execution_count": 663,
     "metadata": {},
     "output_type": "execute_result"
    }
   ],
   "source": [
    "dfJ['dDeaths_filtered'] = np.nan\n",
    "for x in dfJ['Country'].unique(): #Loop through all unique countries\n",
    "    \n",
    "    indexList = dfJ[dfJ.Country == x]['dDeaths'].index.values.astype(int)\n",
    "    \n",
    "    #dfJ['dDeaths_filtered'][min(indexList):(max(indexList)+1)] = savgol_filter(dfJ[dfJ.Country == x]['dDeaths'], 15, 3)\n",
    "    #dfJ.loc[min(indexList):(max(indexList)),'dDeaths_filtered'] = savgol_filter(dfJ[dfJ.Country == x]['dDeaths'], 15, 3)\n",
    "    dfJ.loc[indexList,'dDeaths_filtered'] = savgol_filter(dfJ[dfJ.Country == x]['dDeaths'], 15, 3)\n",
    "        \n",
    "#dfJ['dDeaths_filtered'] = dfJ['dDeaths_filtered'].astype(float)\n",
    "#dfJ['dDeaths_filtered']\n",
    "#savgol_filter(dfJ[dfJ.Country == 'Belgium']['dDeaths'], 15, 3)\n",
    "dfJ.head()"
   ]
  },
  {
   "cell_type": "markdown",
   "metadata": {},
   "source": [
    "### Normalise it by the total deaths"
   ]
  },
  {
   "cell_type": "code",
   "execution_count": 664,
   "metadata": {},
   "outputs": [],
   "source": [
    "dfJ['dDeaths_f/total'] = dfJ['dDeaths_filtered'] / dfJ['Deaths']"
   ]
  },
  {
   "cell_type": "markdown",
   "metadata": {},
   "source": [
    "## Calculate the rate of change of new reported deaths"
   ]
  },
  {
   "cell_type": "code",
   "execution_count": 665,
   "metadata": {},
   "outputs": [],
   "source": [
    "dfJ['dd_Deaths'] = np.nan\n",
    "for x in dfJ['Country'].unique(): #Loop through all unique countries\n",
    "    \n",
    "    indexList = dfJ[dfJ.Country == x]['dDeaths'].index.values.astype(int)\n",
    "    \n",
    "    dfJ.loc[indexList[0],'dd_Deaths'] = dfJ.loc[indexList[0], 'dDeaths_filtered']\n",
    "    for y in indexList[1:]:\n",
    "        dfJ.loc[y,'dd_Deaths'] = dfJ.loc[y, 'dDeaths_filtered'] - dfJ.loc[y-1, 'dDeaths_filtered']\n",
    "\n",
    "#dfJ.head()"
   ]
  },
  {
   "cell_type": "markdown",
   "metadata": {},
   "source": [
    "And filter this data as well"
   ]
  },
  {
   "cell_type": "code",
   "execution_count": 666,
   "metadata": {},
   "outputs": [
    {
     "data": {
      "text/html": [
       "<div>\n",
       "<style scoped>\n",
       "    .dataframe tbody tr th:only-of-type {\n",
       "        vertical-align: middle;\n",
       "    }\n",
       "\n",
       "    .dataframe tbody tr th {\n",
       "        vertical-align: top;\n",
       "    }\n",
       "\n",
       "    .dataframe thead th {\n",
       "        text-align: right;\n",
       "    }\n",
       "</style>\n",
       "<table border=\"1\" class=\"dataframe\">\n",
       "  <thead>\n",
       "    <tr style=\"text-align: right;\">\n",
       "      <th></th>\n",
       "      <th>Country</th>\n",
       "      <th>Date</th>\n",
       "      <th>Day_100</th>\n",
       "      <th>Deaths</th>\n",
       "      <th>dDeaths</th>\n",
       "      <th>dDeaths_filtered</th>\n",
       "      <th>dDeaths_f/total</th>\n",
       "      <th>dd_Deaths</th>\n",
       "      <th>dd_Deaths_filtered</th>\n",
       "    </tr>\n",
       "  </thead>\n",
       "  <tbody>\n",
       "    <tr>\n",
       "      <td>0</td>\n",
       "      <td>Belgium</td>\n",
       "      <td>2020-03-25</td>\n",
       "      <td>2</td>\n",
       "      <td>178</td>\n",
       "      <td>56</td>\n",
       "      <td>42.170588</td>\n",
       "      <td>0.236913</td>\n",
       "      <td>42.170588</td>\n",
       "      <td>34.818859</td>\n",
       "    </tr>\n",
       "    <tr>\n",
       "      <td>1</td>\n",
       "      <td>Belgium</td>\n",
       "      <td>2020-03-26</td>\n",
       "      <td>3</td>\n",
       "      <td>220</td>\n",
       "      <td>42</td>\n",
       "      <td>55.067647</td>\n",
       "      <td>0.250307</td>\n",
       "      <td>12.897059</td>\n",
       "      <td>23.155286</td>\n",
       "    </tr>\n",
       "    <tr>\n",
       "      <td>2</td>\n",
       "      <td>Belgium</td>\n",
       "      <td>2020-03-27</td>\n",
       "      <td>4</td>\n",
       "      <td>289</td>\n",
       "      <td>69</td>\n",
       "      <td>67.347059</td>\n",
       "      <td>0.233035</td>\n",
       "      <td>12.279412</td>\n",
       "      <td>15.310334</td>\n",
       "    </tr>\n",
       "    <tr>\n",
       "      <td>3</td>\n",
       "      <td>Belgium</td>\n",
       "      <td>2020-03-28</td>\n",
       "      <td>5</td>\n",
       "      <td>353</td>\n",
       "      <td>64</td>\n",
       "      <td>79.310860</td>\n",
       "      <td>0.224677</td>\n",
       "      <td>11.963801</td>\n",
       "      <td>10.710603</td>\n",
       "    </tr>\n",
       "    <tr>\n",
       "      <td>4</td>\n",
       "      <td>Belgium</td>\n",
       "      <td>2020-03-29</td>\n",
       "      <td>6</td>\n",
       "      <td>431</td>\n",
       "      <td>78</td>\n",
       "      <td>91.261086</td>\n",
       "      <td>0.211743</td>\n",
       "      <td>11.950226</td>\n",
       "      <td>8.782692</td>\n",
       "    </tr>\n",
       "  </tbody>\n",
       "</table>\n",
       "</div>"
      ],
      "text/plain": [
       "   Country       Date  Day_100 Deaths  dDeaths  dDeaths_filtered  \\\n",
       "0  Belgium 2020-03-25        2    178       56         42.170588   \n",
       "1  Belgium 2020-03-26        3    220       42         55.067647   \n",
       "2  Belgium 2020-03-27        4    289       69         67.347059   \n",
       "3  Belgium 2020-03-28        5    353       64         79.310860   \n",
       "4  Belgium 2020-03-29        6    431       78         91.261086   \n",
       "\n",
       "  dDeaths_f/total  dd_Deaths  dd_Deaths_filtered  \n",
       "0        0.236913  42.170588           34.818859  \n",
       "1        0.250307  12.897059           23.155286  \n",
       "2        0.233035  12.279412           15.310334  \n",
       "3        0.224677  11.963801           10.710603  \n",
       "4        0.211743  11.950226            8.782692  "
      ]
     },
     "execution_count": 666,
     "metadata": {},
     "output_type": "execute_result"
    }
   ],
   "source": [
    "dfJ['dd_Deaths_filtered'] = np.nan\n",
    "for x in dfJ['Country'].unique(): #Loop through all unique countries\n",
    "    \n",
    "    indexList = dfJ[dfJ.Country == x]['dd_Deaths'].index.values.astype(int)\n",
    "    \n",
    "    #dfJ['dDeaths_filtered'][min(indexList):(max(indexList)+1)] = savgol_filter(dfJ[dfJ.Country == x]['dDeaths'], 15, 3)\n",
    "    #dfJ.loc[min(indexList):(max(indexList)),'dDeaths_filtered'] = savgol_filter(dfJ[dfJ.Country == x]['dDeaths'], 15, 3)\n",
    "    dfJ.loc[indexList,'dd_Deaths_filtered'] = savgol_filter(dfJ[dfJ.Country == x]['dd_Deaths'], 11, 3)\n",
    "        \n",
    "#dfJ['dDeaths_filtered'] = dfJ['dDeaths_filtered'].astype(float)\n",
    "#dfJ['dDeaths_filtered']\n",
    "#savgol_filter(dfJ[dfJ.Country == 'Belgium']['dDeaths'], 15, 3)\n",
    "dfJ.head()"
   ]
  },
  {
   "cell_type": "markdown",
   "metadata": {},
   "source": [
    "And divide by dDeaths_filtered to 'Normalise' it"
   ]
  },
  {
   "cell_type": "code",
   "execution_count": 667,
   "metadata": {},
   "outputs": [],
   "source": [
    "dfJ['dd_Deaths_f/dDeaths_f'] = dfJ['dd_Deaths_filtered'] / dfJ['dDeaths_filtered']\n",
    "#dfJ[dfJ.Country == 'France'][0:30]"
   ]
  },
  {
   "cell_type": "markdown",
   "metadata": {},
   "source": [
    "# Merge Data"
   ]
  },
  {
   "cell_type": "markdown",
   "metadata": {},
   "source": [
    "## Pre-Merge Feature Engineering\n",
    "Google's dataset should be in some way proportional to the daily infections. I'm also assuming the number of deaths is (roughly) proportional to the number of infections. \n",
    "\n",
    "However, deaths do not occur on the same day as an infection but are offset. So, I'm assuming a 21 day offset"
   ]
  },
  {
   "cell_type": "code",
   "execution_count": 668,
   "metadata": {},
   "outputs": [],
   "source": [
    "dayOffset = 21\n",
    "dfG_offset = dfG.copy()\n",
    "dfG_offset['Date'] = dfG['Date'] + datetime.timedelta(days=dayOffset)\n",
    "#I label this dfG_offset because I occasionally check which offset generates the best model. \n",
    "#It's unhelpful having to re-run absolutely everything "
   ]
  },
  {
   "cell_type": "markdown",
   "metadata": {},
   "source": [
    "## Merging"
   ]
  },
  {
   "cell_type": "code",
   "execution_count": 669,
   "metadata": {},
   "outputs": [
    {
     "data": {
      "text/html": [
       "<div>\n",
       "<style scoped>\n",
       "    .dataframe tbody tr th:only-of-type {\n",
       "        vertical-align: middle;\n",
       "    }\n",
       "\n",
       "    .dataframe tbody tr th {\n",
       "        vertical-align: top;\n",
       "    }\n",
       "\n",
       "    .dataframe thead th {\n",
       "        text-align: right;\n",
       "    }\n",
       "</style>\n",
       "<table border=\"1\" class=\"dataframe\">\n",
       "  <thead>\n",
       "    <tr style=\"text-align: right;\">\n",
       "      <th></th>\n",
       "      <th>Country</th>\n",
       "      <th>Date</th>\n",
       "      <th>Day_100</th>\n",
       "      <th>Deaths</th>\n",
       "      <th>dDeaths</th>\n",
       "      <th>dDeaths_filtered</th>\n",
       "      <th>dDeaths_f/total</th>\n",
       "      <th>dd_Deaths</th>\n",
       "      <th>dd_Deaths_filtered</th>\n",
       "      <th>dd_Deaths_f/dDeaths_f</th>\n",
       "      <th>Retail and Recreation</th>\n",
       "      <th>Grocery and Pharmacy</th>\n",
       "      <th>Parks</th>\n",
       "      <th>Transit Stations</th>\n",
       "      <th>Workplaces</th>\n",
       "      <th>Residential</th>\n",
       "    </tr>\n",
       "  </thead>\n",
       "  <tbody>\n",
       "    <tr>\n",
       "      <td>0</td>\n",
       "      <td>Belgium</td>\n",
       "      <td>2020-03-25</td>\n",
       "      <td>2</td>\n",
       "      <td>178</td>\n",
       "      <td>56</td>\n",
       "      <td>42.170588</td>\n",
       "      <td>0.236913</td>\n",
       "      <td>42.170588</td>\n",
       "      <td>34.818859</td>\n",
       "      <td>0.825667</td>\n",
       "      <td>1.0</td>\n",
       "      <td>4.0</td>\n",
       "      <td>7.0</td>\n",
       "      <td>1.0</td>\n",
       "      <td>4.0</td>\n",
       "      <td>0.0</td>\n",
       "    </tr>\n",
       "    <tr>\n",
       "      <td>1</td>\n",
       "      <td>Belgium</td>\n",
       "      <td>2020-03-26</td>\n",
       "      <td>3</td>\n",
       "      <td>220</td>\n",
       "      <td>42</td>\n",
       "      <td>55.067647</td>\n",
       "      <td>0.250307</td>\n",
       "      <td>12.897059</td>\n",
       "      <td>23.155286</td>\n",
       "      <td>0.420488</td>\n",
       "      <td>-4.0</td>\n",
       "      <td>1.0</td>\n",
       "      <td>-16.0</td>\n",
       "      <td>-2.0</td>\n",
       "      <td>2.0</td>\n",
       "      <td>2.0</td>\n",
       "    </tr>\n",
       "    <tr>\n",
       "      <td>2</td>\n",
       "      <td>Belgium</td>\n",
       "      <td>2020-03-27</td>\n",
       "      <td>4</td>\n",
       "      <td>289</td>\n",
       "      <td>69</td>\n",
       "      <td>67.347059</td>\n",
       "      <td>0.233035</td>\n",
       "      <td>12.279412</td>\n",
       "      <td>15.310334</td>\n",
       "      <td>0.227335</td>\n",
       "      <td>-1.0</td>\n",
       "      <td>5.0</td>\n",
       "      <td>2.0</td>\n",
       "      <td>3.0</td>\n",
       "      <td>2.0</td>\n",
       "      <td>1.0</td>\n",
       "    </tr>\n",
       "    <tr>\n",
       "      <td>3</td>\n",
       "      <td>Belgium</td>\n",
       "      <td>2020-03-28</td>\n",
       "      <td>5</td>\n",
       "      <td>353</td>\n",
       "      <td>64</td>\n",
       "      <td>79.310860</td>\n",
       "      <td>0.224677</td>\n",
       "      <td>11.963801</td>\n",
       "      <td>10.710603</td>\n",
       "      <td>0.135046</td>\n",
       "      <td>5.0</td>\n",
       "      <td>3.0</td>\n",
       "      <td>33.0</td>\n",
       "      <td>8.0</td>\n",
       "      <td>2.0</td>\n",
       "      <td>0.0</td>\n",
       "    </tr>\n",
       "    <tr>\n",
       "      <td>4</td>\n",
       "      <td>Belgium</td>\n",
       "      <td>2020-03-29</td>\n",
       "      <td>6</td>\n",
       "      <td>431</td>\n",
       "      <td>78</td>\n",
       "      <td>91.261086</td>\n",
       "      <td>0.211743</td>\n",
       "      <td>11.950226</td>\n",
       "      <td>8.782692</td>\n",
       "      <td>0.096237</td>\n",
       "      <td>-1.0</td>\n",
       "      <td>1.0</td>\n",
       "      <td>-21.0</td>\n",
       "      <td>-2.0</td>\n",
       "      <td>-1.0</td>\n",
       "      <td>0.0</td>\n",
       "    </tr>\n",
       "  </tbody>\n",
       "</table>\n",
       "</div>"
      ],
      "text/plain": [
       "   Country       Date  Day_100 Deaths  dDeaths  dDeaths_filtered  \\\n",
       "0  Belgium 2020-03-25        2    178       56         42.170588   \n",
       "1  Belgium 2020-03-26        3    220       42         55.067647   \n",
       "2  Belgium 2020-03-27        4    289       69         67.347059   \n",
       "3  Belgium 2020-03-28        5    353       64         79.310860   \n",
       "4  Belgium 2020-03-29        6    431       78         91.261086   \n",
       "\n",
       "  dDeaths_f/total  dd_Deaths  dd_Deaths_filtered  dd_Deaths_f/dDeaths_f  \\\n",
       "0        0.236913  42.170588           34.818859               0.825667   \n",
       "1        0.250307  12.897059           23.155286               0.420488   \n",
       "2        0.233035  12.279412           15.310334               0.227335   \n",
       "3        0.224677  11.963801           10.710603               0.135046   \n",
       "4        0.211743  11.950226            8.782692               0.096237   \n",
       "\n",
       "   Retail and Recreation  Grocery and Pharmacy  Parks  Transit Stations  \\\n",
       "0                    1.0                   4.0    7.0               1.0   \n",
       "1                   -4.0                   1.0  -16.0              -2.0   \n",
       "2                   -1.0                   5.0    2.0               3.0   \n",
       "3                    5.0                   3.0   33.0               8.0   \n",
       "4                   -1.0                   1.0  -21.0              -2.0   \n",
       "\n",
       "   Workplaces  Residential  \n",
       "0         4.0          0.0  \n",
       "1         2.0          2.0  \n",
       "2         2.0          1.0  \n",
       "3         2.0          0.0  \n",
       "4        -1.0          0.0  "
      ]
     },
     "execution_count": 669,
     "metadata": {},
     "output_type": "execute_result"
    }
   ],
   "source": [
    "df = pd.merge(dfJ, dfG_offset, on=['Country', 'Date'])\n",
    "df.head()"
   ]
  },
  {
   "cell_type": "markdown",
   "metadata": {},
   "source": [
    "# Prepare the data for the ML model\n",
    "## Remove identifiers (i.e. anything that is not a feature)\n",
    "We will remove any feature that is not used for creating the model and will get in the way\n",
    "(Note, I will keep Country to better get a random set later on...)"
   ]
  },
  {
   "cell_type": "code",
   "execution_count": 670,
   "metadata": {},
   "outputs": [],
   "source": [
    "#Runs for 'dDeaths_filtered', and 'dDeaths_f/total'\n",
    "feature = 'dd_Deaths_f/dDeaths_f'\n",
    "dataset = df[[\"Retail and Recreation\", \"Grocery and Pharmacy\", \n",
    "             \"Parks\", \"Transit Stations\", \"Workplaces\", \n",
    "             \"Residential\", feature, \"Country\"]] # Country included to split test and train data"
   ]
  },
  {
   "cell_type": "markdown",
   "metadata": {},
   "source": [
    "## Split out the target feature\n",
    "In this case, 'Deaths'"
   ]
  },
  {
   "cell_type": "code",
   "execution_count": 671,
   "metadata": {},
   "outputs": [],
   "source": [
    "Y = dataset[[feature, \"Country\"]]\n",
    "X = dataset.loc[:, dataset.columns != feature]"
   ]
  },
  {
   "cell_type": "markdown",
   "metadata": {},
   "source": [
    "### Split to train and test sets"
   ]
  },
  {
   "cell_type": "code",
   "execution_count": 704,
   "metadata": {},
   "outputs": [],
   "source": [
    "test_size = 0.33 #has to be between 0 and 1\n",
    "seed = 1 #Any integer. This one happens to select the UK as a test country...\n",
    "\n",
    "testCountries = pd.Series(X['Country'].unique()).sample(frac = test_size, random_state = seed) # randomly select a fraction of the countries\n",
    "\n",
    "#testCountries = pd.Series('United Kingdom')\n",
    "\n",
    "\n",
    "X_train_orig = X\n",
    "Y_train = Y\n",
    "X_test_orig = pd.DataFrame()\n",
    "Y_test = pd.DataFrame()\n",
    "for x in testCountries: #Loop through 'test' countries\n",
    "    #I cannot pop() ranges of rows so, create a copy (append) the rows associated with a 'test' country\n",
    "    #And then drop those rows\n",
    "    X_test_orig = X_test_orig.append(X_train_orig[X_train_orig.Country == x])\n",
    "    X_train_orig = X_train_orig.drop(X_train_orig[X_train_orig.Country == x].index)\n",
    "    \n",
    "    Y_test = Y_test.append(Y_train[Y_train.Country == x])\n",
    "    Y_train = Y_train.drop(Y_train[Y_train.Country == x].index)"
   ]
  },
  {
   "cell_type": "code",
   "execution_count": 705,
   "metadata": {},
   "outputs": [],
   "source": [
    "# Removing the 'Country' feature from the models\n",
    "#X_train_orig = X_train_orig.drop(columns = 'Country')\n",
    "#X_test_orig = X_test_orig.drop(columns = 'Country')\n",
    "Y_train = Y_train[feature]\n",
    "Y_test = Y_test[feature]"
   ]
  },
  {
   "cell_type": "markdown",
   "metadata": {},
   "source": [
    "I don't fully understand why, but sklearn strongly suggest you rescale the X values after splitting. Given my assumption is that this basically just rescales the inputs to between +/-1 (or 0-1), I'm not sure why this is necessary"
   ]
  },
  {
   "cell_type": "code",
   "execution_count": 706,
   "metadata": {},
   "outputs": [],
   "source": [
    "scaler = StandardScaler()\n",
    "scaler.fit(X_train_orig.drop(columns = 'Country'))\n",
    "X_train = scaler.transform(X_train_orig.drop(columns = 'Country'))\n",
    "X_test = scaler.transform(X_test_orig.drop(columns = 'Country'))"
   ]
  },
  {
   "cell_type": "markdown",
   "metadata": {},
   "source": [
    "While the model is capable of taking all features as an input, this is an interesting assessment as to which are the most valuable"
   ]
  },
  {
   "cell_type": "code",
   "execution_count": 707,
   "metadata": {},
   "outputs": [
    {
     "data": {
      "text/html": [
       "<div>\n",
       "<style scoped>\n",
       "    .dataframe tbody tr th:only-of-type {\n",
       "        vertical-align: middle;\n",
       "    }\n",
       "\n",
       "    .dataframe tbody tr th {\n",
       "        vertical-align: top;\n",
       "    }\n",
       "\n",
       "    .dataframe thead th {\n",
       "        text-align: right;\n",
       "    }\n",
       "</style>\n",
       "<table border=\"1\" class=\"dataframe\">\n",
       "  <thead>\n",
       "    <tr style=\"text-align: right;\">\n",
       "      <th></th>\n",
       "      <th>Retail and Recreation</th>\n",
       "      <th>Transit Stations</th>\n",
       "      <th>Workplaces</th>\n",
       "    </tr>\n",
       "  </thead>\n",
       "  <tbody>\n",
       "    <tr>\n",
       "      <td>0</td>\n",
       "      <td>1.0</td>\n",
       "      <td>1.0</td>\n",
       "      <td>4.0</td>\n",
       "    </tr>\n",
       "    <tr>\n",
       "      <td>1</td>\n",
       "      <td>-4.0</td>\n",
       "      <td>-2.0</td>\n",
       "      <td>2.0</td>\n",
       "    </tr>\n",
       "    <tr>\n",
       "      <td>2</td>\n",
       "      <td>-1.0</td>\n",
       "      <td>3.0</td>\n",
       "      <td>2.0</td>\n",
       "    </tr>\n",
       "    <tr>\n",
       "      <td>3</td>\n",
       "      <td>5.0</td>\n",
       "      <td>8.0</td>\n",
       "      <td>2.0</td>\n",
       "    </tr>\n",
       "    <tr>\n",
       "      <td>4</td>\n",
       "      <td>-1.0</td>\n",
       "      <td>-2.0</td>\n",
       "      <td>-1.0</td>\n",
       "    </tr>\n",
       "    <tr>\n",
       "      <td>...</td>\n",
       "      <td>...</td>\n",
       "      <td>...</td>\n",
       "      <td>...</td>\n",
       "    </tr>\n",
       "    <tr>\n",
       "      <td>656</td>\n",
       "      <td>-53.0</td>\n",
       "      <td>-67.0</td>\n",
       "      <td>-59.0</td>\n",
       "    </tr>\n",
       "    <tr>\n",
       "      <td>657</td>\n",
       "      <td>-54.0</td>\n",
       "      <td>-57.0</td>\n",
       "      <td>-40.0</td>\n",
       "    </tr>\n",
       "    <tr>\n",
       "      <td>658</td>\n",
       "      <td>-60.0</td>\n",
       "      <td>-64.0</td>\n",
       "      <td>-42.0</td>\n",
       "    </tr>\n",
       "    <tr>\n",
       "      <td>659</td>\n",
       "      <td>-46.0</td>\n",
       "      <td>-65.0</td>\n",
       "      <td>-58.0</td>\n",
       "    </tr>\n",
       "    <tr>\n",
       "      <td>660</td>\n",
       "      <td>-50.0</td>\n",
       "      <td>-68.0</td>\n",
       "      <td>-58.0</td>\n",
       "    </tr>\n",
       "  </tbody>\n",
       "</table>\n",
       "<p>661 rows × 3 columns</p>\n",
       "</div>"
      ],
      "text/plain": [
       "     Retail and Recreation  Transit Stations  Workplaces\n",
       "0                      1.0               1.0         4.0\n",
       "1                     -4.0              -2.0         2.0\n",
       "2                     -1.0               3.0         2.0\n",
       "3                      5.0               8.0         2.0\n",
       "4                     -1.0              -2.0        -1.0\n",
       "..                     ...               ...         ...\n",
       "656                  -53.0             -67.0       -59.0\n",
       "657                  -54.0             -57.0       -40.0\n",
       "658                  -60.0             -64.0       -42.0\n",
       "659                  -46.0             -65.0       -58.0\n",
       "660                  -50.0             -68.0       -58.0\n",
       "\n",
       "[661 rows x 3 columns]"
      ]
     },
     "execution_count": 707,
     "metadata": {},
     "output_type": "execute_result"
    }
   ],
   "source": [
    "#X = selectFeaturesKBestRegression(2, X, Y)\n",
    "k = 3\n",
    "score_func = f_regression\n",
    "\n",
    "#From Daisy library\n",
    "test = SelectKBest(score_func=score_func, k=k)\n",
    "    #fit = test.fit(X,Y.iloc[:,0].tolist())\n",
    "fit = test.fit(X.loc[:, X.columns != 'Country'],Y[feature].tolist())\n",
    "    #set_printoptions(precision=3)\n",
    "    #print(fit.scores_)\n",
    "features = fit.transform(X.loc[:, X.columns != 'Country'])\n",
    "    #print(features[0:k+1,:])\n",
    "selected_cols = test.get_support()\n",
    "    #print(selected_cols)        \n",
    "    \n",
    "    #Now pull out the feature names that match\n",
    "selected_features = []\n",
    "for i in range(len(selected_cols)):\n",
    "    if selected_cols[i]:\n",
    "        selected_features.append(X.columns[i])\n",
    "    #print(selected_features)   \n",
    "    \n",
    "X[selected_features]"
   ]
  },
  {
   "cell_type": "markdown",
   "metadata": {},
   "source": [
    "## Train the models"
   ]
  },
  {
   "cell_type": "code",
   "execution_count": 875,
   "metadata": {},
   "outputs": [],
   "source": [
    "algorithms = []\n",
    "algorithms.append(LinearRegression())\n",
    "algorithms.append(KNeighborsRegressor())\n",
    "algorithms.append(DecisionTreeRegressor())\n",
    "algorithms.append(SVR(gamma = 'scale', kernel='linear'))\n",
    "algorithms.append(SGDRegressor(loss=\"squared_loss\"))\n",
    "algorithms.append(GaussianProcessRegressor(normalize_y=True))\n",
    "algorithms.append(MLPRegressor(alpha=1e-05, hidden_layer_sizes=(5, 2), random_state=1,solver='lbfgs'))\n",
    "#algorithms.append(LinearSVR())"
   ]
  },
  {
   "cell_type": "code",
   "execution_count": 876,
   "metadata": {
    "scrolled": true
   },
   "outputs": [
    {
     "data": {
      "text/html": [
       "<div>\n",
       "<style scoped>\n",
       "    .dataframe tbody tr th:only-of-type {\n",
       "        vertical-align: middle;\n",
       "    }\n",
       "\n",
       "    .dataframe tbody tr th {\n",
       "        vertical-align: top;\n",
       "    }\n",
       "\n",
       "    .dataframe thead th {\n",
       "        text-align: right;\n",
       "    }\n",
       "</style>\n",
       "<table border=\"1\" class=\"dataframe\">\n",
       "  <thead>\n",
       "    <tr style=\"text-align: right;\">\n",
       "      <th></th>\n",
       "      <th>Algorithm Name</th>\n",
       "      <th>Result</th>\n",
       "      <th>Algorithm</th>\n",
       "    </tr>\n",
       "  </thead>\n",
       "  <tbody>\n",
       "    <tr>\n",
       "      <td>0</td>\n",
       "      <td>LinearRegression</td>\n",
       "      <td>0.025684</td>\n",
       "      <td>LinearRegression(copy_X=True, fit_intercept=Tr...</td>\n",
       "    </tr>\n",
       "    <tr>\n",
       "      <td>1</td>\n",
       "      <td>KNeighborsRegressor</td>\n",
       "      <td>0.038322</td>\n",
       "      <td>KNeighborsRegressor(algorithm='auto', leaf_siz...</td>\n",
       "    </tr>\n",
       "    <tr>\n",
       "      <td>2</td>\n",
       "      <td>DecisionTreeRegressor</td>\n",
       "      <td>0.048649</td>\n",
       "      <td>DecisionTreeRegressor(criterion='mse', max_dep...</td>\n",
       "    </tr>\n",
       "    <tr>\n",
       "      <td>3</td>\n",
       "      <td>SVR</td>\n",
       "      <td>0.024892</td>\n",
       "      <td>SVR(C=1.0, cache_size=200, coef0=0.0, degree=3...</td>\n",
       "    </tr>\n",
       "    <tr>\n",
       "      <td>4</td>\n",
       "      <td>SGDRegressor</td>\n",
       "      <td>0.024646</td>\n",
       "      <td>SGDRegressor(alpha=0.0001, average=False, earl...</td>\n",
       "    </tr>\n",
       "    <tr>\n",
       "      <td>5</td>\n",
       "      <td>GaussianProcessRegressor</td>\n",
       "      <td>38.657406</td>\n",
       "      <td>GaussianProcessRegressor(alpha=1e-10, copy_X_t...</td>\n",
       "    </tr>\n",
       "    <tr>\n",
       "      <td>6</td>\n",
       "      <td>MLPRegressor</td>\n",
       "      <td>0.025796</td>\n",
       "      <td>MLPRegressor(activation='relu', alpha=1e-05, b...</td>\n",
       "    </tr>\n",
       "  </tbody>\n",
       "</table>\n",
       "</div>"
      ],
      "text/plain": [
       "             Algorithm Name     Result  \\\n",
       "0          LinearRegression   0.025684   \n",
       "1       KNeighborsRegressor   0.038322   \n",
       "2     DecisionTreeRegressor   0.048649   \n",
       "3                       SVR   0.024892   \n",
       "4              SGDRegressor   0.024646   \n",
       "5  GaussianProcessRegressor  38.657406   \n",
       "6              MLPRegressor   0.025796   \n",
       "\n",
       "                                           Algorithm  \n",
       "0  LinearRegression(copy_X=True, fit_intercept=Tr...  \n",
       "1  KNeighborsRegressor(algorithm='auto', leaf_siz...  \n",
       "2  DecisionTreeRegressor(criterion='mse', max_dep...  \n",
       "3  SVR(C=1.0, cache_size=200, coef0=0.0, degree=3...  \n",
       "4  SGDRegressor(alpha=0.0001, average=False, earl...  \n",
       "5  GaussianProcessRegressor(alpha=1e-10, copy_X_t...  \n",
       "6  MLPRegressor(activation='relu', alpha=1e-05, b...  "
      ]
     },
     "execution_count": 876,
     "metadata": {},
     "output_type": "execute_result"
    }
   ],
   "source": [
    "modelResults = []\n",
    "\n",
    "# Split into 10 folds\n",
    "kfold = KFold(n_splits=10, random_state=seed)\n",
    "\n",
    "modelResults = pd.DataFrame(columns = ['Algorithm Name', 'Result', 'Algorithm'])\n",
    "x=0\n",
    "\n",
    "# Perform 10-fold CV on all algorithms\n",
    "for algorithm in algorithms:\n",
    "    cv_results = cross_val_score(algorithm, X_train, Y_train, cv=kfold, scoring='neg_mean_squared_error')#'neg_mean_absolute_error')\n",
    "    #modelResults.append([algorithm.__name__, -cv_results.mean()])\n",
    "    modelResults = modelResults.append({\"Algorithm Name\":algorithm.__class__.__name__, 'Result':-cv_results.mean(), \"Algorithm\":algorithm},ignore_index=True)\n",
    "modelResults"
   ]
  },
  {
   "cell_type": "markdown",
   "metadata": {},
   "source": [
    "## Select the most promising models and assess against the test data\n",
    "To (try to) avoid selecting an over-fitted model, I loop through the best models and check all of them against the Test Data. \n",
    "\n",
    "Inefficient, but with a small dataset, not a massive issue"
   ]
  },
  {
   "cell_type": "code",
   "execution_count": 877,
   "metadata": {},
   "outputs": [
    {
     "data": {
      "text/html": [
       "<div>\n",
       "<style scoped>\n",
       "    .dataframe tbody tr th:only-of-type {\n",
       "        vertical-align: middle;\n",
       "    }\n",
       "\n",
       "    .dataframe tbody tr th {\n",
       "        vertical-align: top;\n",
       "    }\n",
       "\n",
       "    .dataframe thead th {\n",
       "        text-align: right;\n",
       "    }\n",
       "</style>\n",
       "<table border=\"1\" class=\"dataframe\">\n",
       "  <thead>\n",
       "    <tr style=\"text-align: right;\">\n",
       "      <th></th>\n",
       "      <th>Algorithm Name</th>\n",
       "      <th>Result</th>\n",
       "      <th>Algorithm</th>\n",
       "      <th>Test Result</th>\n",
       "    </tr>\n",
       "  </thead>\n",
       "  <tbody>\n",
       "    <tr>\n",
       "      <td>0</td>\n",
       "      <td>LinearRegression</td>\n",
       "      <td>0.025684</td>\n",
       "      <td>LinearRegression(copy_X=True, fit_intercept=Tr...</td>\n",
       "      <td>0.012858</td>\n",
       "    </tr>\n",
       "    <tr>\n",
       "      <td>1</td>\n",
       "      <td>KNeighborsRegressor</td>\n",
       "      <td>0.038322</td>\n",
       "      <td>KNeighborsRegressor(algorithm='auto', leaf_siz...</td>\n",
       "      <td>NaN</td>\n",
       "    </tr>\n",
       "    <tr>\n",
       "      <td>2</td>\n",
       "      <td>DecisionTreeRegressor</td>\n",
       "      <td>0.048649</td>\n",
       "      <td>DecisionTreeRegressor(criterion='mse', max_dep...</td>\n",
       "      <td>NaN</td>\n",
       "    </tr>\n",
       "    <tr>\n",
       "      <td>3</td>\n",
       "      <td>SVR</td>\n",
       "      <td>0.024892</td>\n",
       "      <td>SVR(C=1.0, cache_size=200, coef0=0.0, degree=3...</td>\n",
       "      <td>0.012809</td>\n",
       "    </tr>\n",
       "    <tr>\n",
       "      <td>4</td>\n",
       "      <td>SGDRegressor</td>\n",
       "      <td>0.024646</td>\n",
       "      <td>SGDRegressor(alpha=0.0001, average=False, earl...</td>\n",
       "      <td>0.013467</td>\n",
       "    </tr>\n",
       "    <tr>\n",
       "      <td>5</td>\n",
       "      <td>GaussianProcessRegressor</td>\n",
       "      <td>38.657406</td>\n",
       "      <td>GaussianProcessRegressor(alpha=1e-10, copy_X_t...</td>\n",
       "      <td>NaN</td>\n",
       "    </tr>\n",
       "    <tr>\n",
       "      <td>6</td>\n",
       "      <td>MLPRegressor</td>\n",
       "      <td>0.025796</td>\n",
       "      <td>MLPRegressor(activation='relu', alpha=1e-05, b...</td>\n",
       "      <td>0.013064</td>\n",
       "    </tr>\n",
       "  </tbody>\n",
       "</table>\n",
       "</div>"
      ],
      "text/plain": [
       "             Algorithm Name     Result  \\\n",
       "0          LinearRegression   0.025684   \n",
       "1       KNeighborsRegressor   0.038322   \n",
       "2     DecisionTreeRegressor   0.048649   \n",
       "3                       SVR   0.024892   \n",
       "4              SGDRegressor   0.024646   \n",
       "5  GaussianProcessRegressor  38.657406   \n",
       "6              MLPRegressor   0.025796   \n",
       "\n",
       "                                           Algorithm  Test Result  \n",
       "0  LinearRegression(copy_X=True, fit_intercept=Tr...     0.012858  \n",
       "1  KNeighborsRegressor(algorithm='auto', leaf_siz...          NaN  \n",
       "2  DecisionTreeRegressor(criterion='mse', max_dep...          NaN  \n",
       "3  SVR(C=1.0, cache_size=200, coef0=0.0, degree=3...     0.012809  \n",
       "4  SGDRegressor(alpha=0.0001, average=False, earl...     0.013467  \n",
       "5  GaussianProcessRegressor(alpha=1e-10, copy_X_t...          NaN  \n",
       "6  MLPRegressor(activation='relu', alpha=1e-05, b...     0.013064  "
      ]
     },
     "execution_count": 877,
     "metadata": {},
     "output_type": "execute_result"
    }
   ],
   "source": [
    "modelResults['Test Result'] = np.nan\n",
    "bestIndex = modelResults['Result'].idxmin()\n",
    "bestResult = modelResults['Result'][bestIndex]\n",
    "\n",
    "for x in modelResults.index:\n",
    "    altModel = modelResults['Result'][x]\n",
    "    \n",
    "    if altModel < 1.1 * bestResult:\n",
    "        model = modelResults['Algorithm'][x]        \n",
    "        model.fit(X_train, Y_train)\n",
    "        predictions = model.predict(X_test)\n",
    "        modelResults.loc[x,'Test Result'] = mean_squared_error(Y_test, predictions)\n",
    "modelResults"
   ]
  },
  {
   "cell_type": "code",
   "execution_count": 878,
   "metadata": {},
   "outputs": [
    {
     "data": {
      "text/plain": [
       "SVR(C=1.0, cache_size=200, coef0=0.0, degree=3, epsilon=0.1, gamma='scale',\n",
       "    kernel='linear', max_iter=-1, shrinking=True, tol=0.001, verbose=False)"
      ]
     },
     "execution_count": 878,
     "metadata": {},
     "output_type": "execute_result"
    }
   ],
   "source": [
    "bestAlgorithm = modelResults['Algorithm'][modelResults['Test Result'].idxmin()]\n",
    "model = bestAlgorithm\n",
    "#model = LinearRegression()\n",
    "model = SVR(gamma = 'scale', kernel='linear')\n",
    "#model = SGDRegressor(loss=\"squared_loss\")\n",
    "#model = MLPRegressor(alpha=1e-05, hidden_layer_sizes=(5, 2), random_state=1,solver='lbfgs')\n",
    "model.fit(X_train, Y_train)"
   ]
  },
  {
   "cell_type": "code",
   "execution_count": 879,
   "metadata": {},
   "outputs": [
    {
     "name": "stdout",
     "output_type": "stream",
     "text": [
      "0.01280935770918449\n"
     ]
    }
   ],
   "source": [
    "### Duplicate to be deleted\n",
    "predictions = model.predict(X_test)\n",
    "print(mean_squared_error(Y_test, predictions)) #mean_absolute_error"
   ]
  },
  {
   "cell_type": "markdown",
   "metadata": {},
   "source": [
    "# Compare with original data"
   ]
  },
  {
   "cell_type": "code",
   "execution_count": 880,
   "metadata": {},
   "outputs": [
    {
     "data": {
      "text/html": [
       "<div>\n",
       "<style scoped>\n",
       "    .dataframe tbody tr th:only-of-type {\n",
       "        vertical-align: middle;\n",
       "    }\n",
       "\n",
       "    .dataframe tbody tr th {\n",
       "        vertical-align: top;\n",
       "    }\n",
       "\n",
       "    .dataframe thead th {\n",
       "        text-align: right;\n",
       "    }\n",
       "</style>\n",
       "<table border=\"1\" class=\"dataframe\">\n",
       "  <thead>\n",
       "    <tr style=\"text-align: right;\">\n",
       "      <th></th>\n",
       "      <th>Country</th>\n",
       "      <th>Date</th>\n",
       "      <th>Day_100</th>\n",
       "      <th>Deaths</th>\n",
       "      <th>dDeaths</th>\n",
       "      <th>dDeaths_filtered</th>\n",
       "      <th>dDeaths_f/total</th>\n",
       "      <th>dd_Deaths</th>\n",
       "      <th>dd_Deaths_filtered</th>\n",
       "      <th>dd_Deaths_f/dDeaths_f</th>\n",
       "      <th>Retail and Recreation</th>\n",
       "      <th>Grocery and Pharmacy</th>\n",
       "      <th>Parks</th>\n",
       "      <th>Transit Stations</th>\n",
       "      <th>Workplaces</th>\n",
       "      <th>Residential</th>\n",
       "      <th>Prediction</th>\n",
       "    </tr>\n",
       "  </thead>\n",
       "  <tbody>\n",
       "    <tr>\n",
       "      <td>0</td>\n",
       "      <td>France</td>\n",
       "      <td>2020-03-17</td>\n",
       "      <td>2</td>\n",
       "      <td>148</td>\n",
       "      <td>0</td>\n",
       "      <td>-12.576797</td>\n",
       "      <td>-0.0849784</td>\n",
       "      <td>-12.576797</td>\n",
       "      <td>0.030239</td>\n",
       "      <td>-0.002404</td>\n",
       "      <td>1.0</td>\n",
       "      <td>1.0</td>\n",
       "      <td>23.0</td>\n",
       "      <td>-3.0</td>\n",
       "      <td>-14.0</td>\n",
       "      <td>4.0</td>\n",
       "      <td>0.183233</td>\n",
       "    </tr>\n",
       "    <tr>\n",
       "      <td>1</td>\n",
       "      <td>France</td>\n",
       "      <td>2020-03-18</td>\n",
       "      <td>3</td>\n",
       "      <td>148</td>\n",
       "      <td>0</td>\n",
       "      <td>40.388189</td>\n",
       "      <td>0.272893</td>\n",
       "      <td>52.964986</td>\n",
       "      <td>29.372007</td>\n",
       "      <td>0.727242</td>\n",
       "      <td>-5.0</td>\n",
       "      <td>-2.0</td>\n",
       "      <td>9.0</td>\n",
       "      <td>-5.0</td>\n",
       "      <td>-12.0</td>\n",
       "      <td>3.0</td>\n",
       "      <td>0.181704</td>\n",
       "    </tr>\n",
       "    <tr>\n",
       "      <td>2</td>\n",
       "      <td>France</td>\n",
       "      <td>2020-03-19</td>\n",
       "      <td>4</td>\n",
       "      <td>243</td>\n",
       "      <td>95</td>\n",
       "      <td>84.274528</td>\n",
       "      <td>0.346809</td>\n",
       "      <td>43.886339</td>\n",
       "      <td>43.324128</td>\n",
       "      <td>0.514083</td>\n",
       "      <td>-5.0</td>\n",
       "      <td>-1.0</td>\n",
       "      <td>1.0</td>\n",
       "      <td>-5.0</td>\n",
       "      <td>-15.0</td>\n",
       "      <td>4.0</td>\n",
       "      <td>0.194412</td>\n",
       "    </tr>\n",
       "    <tr>\n",
       "      <td>3</td>\n",
       "      <td>France</td>\n",
       "      <td>2020-03-20</td>\n",
       "      <td>5</td>\n",
       "      <td>450</td>\n",
       "      <td>207</td>\n",
       "      <td>120.644940</td>\n",
       "      <td>0.2681</td>\n",
       "      <td>36.370412</td>\n",
       "      <td>45.516678</td>\n",
       "      <td>0.377278</td>\n",
       "      <td>-1.0</td>\n",
       "      <td>1.0</td>\n",
       "      <td>15.0</td>\n",
       "      <td>0.0</td>\n",
       "      <td>-15.0</td>\n",
       "      <td>4.0</td>\n",
       "      <td>0.202564</td>\n",
       "    </tr>\n",
       "    <tr>\n",
       "      <td>4</td>\n",
       "      <td>France</td>\n",
       "      <td>2020-03-21</td>\n",
       "      <td>6</td>\n",
       "      <td>562</td>\n",
       "      <td>112</td>\n",
       "      <td>151.062145</td>\n",
       "      <td>0.268794</td>\n",
       "      <td>30.417205</td>\n",
       "      <td>39.579730</td>\n",
       "      <td>0.262010</td>\n",
       "      <td>-7.0</td>\n",
       "      <td>1.0</td>\n",
       "      <td>-12.0</td>\n",
       "      <td>4.0</td>\n",
       "      <td>-5.0</td>\n",
       "      <td>1.0</td>\n",
       "      <td>0.226726</td>\n",
       "    </tr>\n",
       "    <tr>\n",
       "      <td>...</td>\n",
       "      <td>...</td>\n",
       "      <td>...</td>\n",
       "      <td>...</td>\n",
       "      <td>...</td>\n",
       "      <td>...</td>\n",
       "      <td>...</td>\n",
       "      <td>...</td>\n",
       "      <td>...</td>\n",
       "      <td>...</td>\n",
       "      <td>...</td>\n",
       "      <td>...</td>\n",
       "      <td>...</td>\n",
       "      <td>...</td>\n",
       "      <td>...</td>\n",
       "      <td>...</td>\n",
       "      <td>...</td>\n",
       "      <td>...</td>\n",
       "    </tr>\n",
       "    <tr>\n",
       "      <td>224</td>\n",
       "      <td>United Kingdom</td>\n",
       "      <td>2020-05-08</td>\n",
       "      <td>52</td>\n",
       "      <td>31241</td>\n",
       "      <td>626</td>\n",
       "      <td>460.761729</td>\n",
       "      <td>0.0147486</td>\n",
       "      <td>-8.516268</td>\n",
       "      <td>-16.246324</td>\n",
       "      <td>-0.035260</td>\n",
       "      <td>-75.0</td>\n",
       "      <td>-30.0</td>\n",
       "      <td>-33.0</td>\n",
       "      <td>-71.0</td>\n",
       "      <td>-68.0</td>\n",
       "      <td>29.0</td>\n",
       "      <td>-0.027865</td>\n",
       "    </tr>\n",
       "    <tr>\n",
       "      <td>225</td>\n",
       "      <td>United Kingdom</td>\n",
       "      <td>2020-05-09</td>\n",
       "      <td>53</td>\n",
       "      <td>31587</td>\n",
       "      <td>346</td>\n",
       "      <td>452.035431</td>\n",
       "      <td>0.0143108</td>\n",
       "      <td>-8.726298</td>\n",
       "      <td>-5.596090</td>\n",
       "      <td>-0.012380</td>\n",
       "      <td>-81.0</td>\n",
       "      <td>-37.0</td>\n",
       "      <td>-47.0</td>\n",
       "      <td>-71.0</td>\n",
       "      <td>-54.0</td>\n",
       "      <td>19.0</td>\n",
       "      <td>-0.036834</td>\n",
       "    </tr>\n",
       "    <tr>\n",
       "      <td>226</td>\n",
       "      <td>United Kingdom</td>\n",
       "      <td>2020-05-10</td>\n",
       "      <td>54</td>\n",
       "      <td>31855</td>\n",
       "      <td>268</td>\n",
       "      <td>440.925774</td>\n",
       "      <td>0.0138417</td>\n",
       "      <td>-11.109657</td>\n",
       "      <td>-1.335389</td>\n",
       "      <td>-0.003029</td>\n",
       "      <td>-80.0</td>\n",
       "      <td>-40.0</td>\n",
       "      <td>-12.0</td>\n",
       "      <td>-66.0</td>\n",
       "      <td>-49.0</td>\n",
       "      <td>14.0</td>\n",
       "      <td>-0.060935</td>\n",
       "    </tr>\n",
       "    <tr>\n",
       "      <td>227</td>\n",
       "      <td>United Kingdom</td>\n",
       "      <td>2020-05-11</td>\n",
       "      <td>55</td>\n",
       "      <td>32065</td>\n",
       "      <td>210</td>\n",
       "      <td>425.259430</td>\n",
       "      <td>0.0132624</td>\n",
       "      <td>-15.666343</td>\n",
       "      <td>-7.998546</td>\n",
       "      <td>-0.018809</td>\n",
       "      <td>-71.0</td>\n",
       "      <td>-30.0</td>\n",
       "      <td>-2.0</td>\n",
       "      <td>-68.0</td>\n",
       "      <td>-67.0</td>\n",
       "      <td>25.0</td>\n",
       "      <td>-0.046795</td>\n",
       "    </tr>\n",
       "    <tr>\n",
       "      <td>228</td>\n",
       "      <td>United Kingdom</td>\n",
       "      <td>2020-05-12</td>\n",
       "      <td>56</td>\n",
       "      <td>32692</td>\n",
       "      <td>627</td>\n",
       "      <td>402.863072</td>\n",
       "      <td>0.012323</td>\n",
       "      <td>-22.396359</td>\n",
       "      <td>-30.119887</td>\n",
       "      <td>-0.074765</td>\n",
       "      <td>-72.0</td>\n",
       "      <td>-28.0</td>\n",
       "      <td>2.0</td>\n",
       "      <td>-67.0</td>\n",
       "      <td>-67.0</td>\n",
       "      <td>26.0</td>\n",
       "      <td>-0.049131</td>\n",
       "    </tr>\n",
       "  </tbody>\n",
       "</table>\n",
       "<p>229 rows × 17 columns</p>\n",
       "</div>"
      ],
      "text/plain": [
       "            Country       Date  Day_100 Deaths  dDeaths  dDeaths_filtered  \\\n",
       "0            France 2020-03-17        2    148        0        -12.576797   \n",
       "1            France 2020-03-18        3    148        0         40.388189   \n",
       "2            France 2020-03-19        4    243       95         84.274528   \n",
       "3            France 2020-03-20        5    450      207        120.644940   \n",
       "4            France 2020-03-21        6    562      112        151.062145   \n",
       "..              ...        ...      ...    ...      ...               ...   \n",
       "224  United Kingdom 2020-05-08       52  31241      626        460.761729   \n",
       "225  United Kingdom 2020-05-09       53  31587      346        452.035431   \n",
       "226  United Kingdom 2020-05-10       54  31855      268        440.925774   \n",
       "227  United Kingdom 2020-05-11       55  32065      210        425.259430   \n",
       "228  United Kingdom 2020-05-12       56  32692      627        402.863072   \n",
       "\n",
       "    dDeaths_f/total  dd_Deaths  dd_Deaths_filtered  dd_Deaths_f/dDeaths_f  \\\n",
       "0        -0.0849784 -12.576797            0.030239              -0.002404   \n",
       "1          0.272893  52.964986           29.372007               0.727242   \n",
       "2          0.346809  43.886339           43.324128               0.514083   \n",
       "3            0.2681  36.370412           45.516678               0.377278   \n",
       "4          0.268794  30.417205           39.579730               0.262010   \n",
       "..              ...        ...                 ...                    ...   \n",
       "224       0.0147486  -8.516268          -16.246324              -0.035260   \n",
       "225       0.0143108  -8.726298           -5.596090              -0.012380   \n",
       "226       0.0138417 -11.109657           -1.335389              -0.003029   \n",
       "227       0.0132624 -15.666343           -7.998546              -0.018809   \n",
       "228        0.012323 -22.396359          -30.119887              -0.074765   \n",
       "\n",
       "     Retail and Recreation  Grocery and Pharmacy  Parks  Transit Stations  \\\n",
       "0                      1.0                   1.0   23.0              -3.0   \n",
       "1                     -5.0                  -2.0    9.0              -5.0   \n",
       "2                     -5.0                  -1.0    1.0              -5.0   \n",
       "3                     -1.0                   1.0   15.0               0.0   \n",
       "4                     -7.0                   1.0  -12.0               4.0   \n",
       "..                     ...                   ...    ...               ...   \n",
       "224                  -75.0                 -30.0  -33.0             -71.0   \n",
       "225                  -81.0                 -37.0  -47.0             -71.0   \n",
       "226                  -80.0                 -40.0  -12.0             -66.0   \n",
       "227                  -71.0                 -30.0   -2.0             -68.0   \n",
       "228                  -72.0                 -28.0    2.0             -67.0   \n",
       "\n",
       "     Workplaces  Residential  Prediction  \n",
       "0         -14.0          4.0    0.183233  \n",
       "1         -12.0          3.0    0.181704  \n",
       "2         -15.0          4.0    0.194412  \n",
       "3         -15.0          4.0    0.202564  \n",
       "4          -5.0          1.0    0.226726  \n",
       "..          ...          ...         ...  \n",
       "224       -68.0         29.0   -0.027865  \n",
       "225       -54.0         19.0   -0.036834  \n",
       "226       -49.0         14.0   -0.060935  \n",
       "227       -67.0         25.0   -0.046795  \n",
       "228       -67.0         26.0   -0.049131  \n",
       "\n",
       "[229 rows x 17 columns]"
      ]
     },
     "execution_count": 880,
     "metadata": {},
     "output_type": "execute_result"
    }
   ],
   "source": [
    "comparison = X_test_orig.copy()\n",
    "comparison['Prediction'] = predictions\n",
    "#comparison['Original'] = Y_test\n",
    "googleDataHeaders = [\"Retail and Recreation\", \"Grocery and Pharmacy\", \n",
    "                     \"Parks\", \"Transit Stations\", \"Workplaces\", \"Residential\"]\n",
    "\n",
    "df_output = pd.merge(df, comparison, on=(googleDataHeaders + [\"Country\"]))\n",
    "df_output"
   ]
  },
  {
   "cell_type": "markdown",
   "metadata": {},
   "source": [
    "Given the raw data is the number of new daily recorded deaths, it makes sense to compare the model to this input (not just the chosen input variable) so:"
   ]
  },
  {
   "cell_type": "code",
   "execution_count": 881,
   "metadata": {
    "scrolled": false
   },
   "outputs": [
    {
     "name": "stderr",
     "output_type": "stream",
     "text": [
      "/Applications/anaconda3/lib/python3.7/site-packages/pandas/core/indexing.py:205: SettingWithCopyWarning: \n",
      "A value is trying to be set on a copy of a slice from a DataFrame\n",
      "\n",
      "See the caveats in the documentation: http://pandas.pydata.org/pandas-docs/stable/user_guide/indexing.html#returning-a-view-versus-a-copy\n",
      "  self._setitem_with_indexer(indexer, value)\n"
     ]
    }
   ],
   "source": [
    "df_output.loc[:,'Prediction_N'] = np.nan\n",
    "df_output.loc[:,'Prediction_Total'] = np.nan\n",
    "\n",
    "\n",
    "for a in df_output['Country'].unique():\n",
    "    temp = df_output[df_output['Country'] == a].copy()\n",
    "\n",
    "    if feature == 'dd_Deaths_f/dDeaths_f':\n",
    "\n",
    "        temp.loc[:,'Prediction_dd'] = np.nan\n",
    "\n",
    "        temp.Prediction_Total.iloc[0] = temp.Deaths.iloc[0]\n",
    "        temp.Prediction_N.iloc[0] = temp.dDeaths_filtered.iloc[0]\n",
    "        temp.Prediction_dd = temp.Prediction * temp.dDeaths_filtered\n",
    "\n",
    "        for x in temp.index[1:]:\n",
    "            temp.loc[x,'Prediction_N'] = temp.loc[x,'Prediction_dd'] + temp.loc[x-1,'Prediction_N']\n",
    "            temp.loc[x,'Prediction_Total'] = temp.loc[x-1,'Prediction_Total'] + temp.loc[x-1, 'Prediction_N']\n",
    "\n",
    "\n",
    "    elif feature == 'dDeaths_f/total':\n",
    "\n",
    "        #Set deaths first day of the model\n",
    "        temp.Prediction_Total.iloc[0] = temp.Deaths.iloc[0]\n",
    "        temp.Prediction_N.iloc[0] = temp.Prediction.iloc[0] * temp.Deaths.iloc[0]\n",
    "\n",
    "        for x in range(1,len(temp)):\n",
    "            temp.Prediction_Total.iloc[x] = temp.Prediction_Total.iloc[x-1] + temp.Prediction_N.iloc[x-1]\n",
    "            temp.Prediction_N.iloc[x] = temp.Prediction.iloc[x] * temp.Deaths.iloc[x-1] #A bit of a fudge, but OKish\n",
    "\n",
    "    elif feature == 'dDeaths_filtered':\n",
    "\n",
    "        #Set Prediction_N to the predicted value\n",
    "        temp.Prediction_N = df_output['Prediction']\n",
    "\n",
    "        #NOT SURE THIS EQUATION WORKS HOW I'D LIKE IT TO... CHECK\n",
    "        temp.Prediction_Total.iloc[1:] = temp.Prediction_Total.iloc[:-1] + temp.Prediction_N.iloc[:-1]\n",
    "\n",
    "    #df_output = df_output.append(temp, sort=True)\n",
    "    df_output[df_output['Country'] == a] = temp"
   ]
  },
  {
   "cell_type": "markdown",
   "metadata": {},
   "source": [
    "## RMS\n",
    "\n",
    "The (RMS) error based on daily deaths, not the feature of the chosen model"
   ]
  },
  {
   "cell_type": "code",
   "execution_count": 882,
   "metadata": {},
   "outputs": [
    {
     "name": "stdout",
     "output_type": "stream",
     "text": [
      "161442.39521400403\n"
     ]
    }
   ],
   "source": [
    "print(mean_squared_error(df_output['dDeaths_filtered'], df_output['Prediction_N']))"
   ]
  },
  {
   "cell_type": "markdown",
   "metadata": {},
   "source": [
    "## Plot the model's prediction"
   ]
  },
  {
   "cell_type": "markdown",
   "metadata": {},
   "source": [
    "### Select a country to plot"
   ]
  },
  {
   "cell_type": "code",
   "execution_count": 883,
   "metadata": {},
   "outputs": [],
   "source": [
    "chosenCountry = 'United Kingdom'\n",
    "#If the chosen country isn't in test sample, then a random other country will be chosen\n",
    "if not chosenCountry in df_output['Country'].unique():    \n",
    "        chosenCountry = df_output['Country'].unique()[0]"
   ]
  },
  {
   "cell_type": "markdown",
   "metadata": {},
   "source": [
    "Extract the data for the chosen country"
   ]
  },
  {
   "cell_type": "code",
   "execution_count": 884,
   "metadata": {},
   "outputs": [],
   "source": [
    "#Convert 'Date' to a String (for the graphs)\n",
    "df_output['Date_S'] = df_output['Date'].dt.strftime(\"%d-%b\")\n",
    "toPrint = df_output[df_output['Country'] == chosenCountry]\n"
   ]
  },
  {
   "cell_type": "markdown",
   "metadata": {},
   "source": [
    "Define the style for the graphs..."
   ]
  },
  {
   "cell_type": "code",
   "execution_count": 885,
   "metadata": {},
   "outputs": [],
   "source": [
    "sns.set_style(\"whitegrid\")\n",
    "sns.set_context(\"notebook\")"
   ]
  },
  {
   "cell_type": "markdown",
   "metadata": {},
   "source": [
    "Plot a graph comparing the actual new recorded deaths (dDeaths), the filtered version (dDeaths_filtered), and the predicted"
   ]
  },
  {
   "cell_type": "code",
   "execution_count": 886,
   "metadata": {
    "scrolled": true
   },
   "outputs": [
    {
     "data": {
      "image/png": "[encoded data removed]",
      "text/plain": [
       "<Figure size 576x288 with 1 Axes>"
      ]
     },
     "metadata": {},
     "output_type": "display_data"
    }
   ],
   "source": [
    "g = sns.FacetGrid(toPrint, height=4, aspect=2)#, hue='Country')#, col=\"United Kingdom\")  legend_out = True,\n",
    "g = g.map(sns.barplot, 'Date', 'dDeaths', color='#4777CE', order=None)#, hue='Country'\n",
    "g = g.map(sns.pointplot, 'Date', 'dDeaths_filtered', markers=\"\", color='#4777CE', order=None)\n",
    "g = g.map(sns.pointplot, 'Date', 'Prediction_N', markers=\"\", color=\"#bb3f3f\", order=None)#.add_legend()\n",
    "#g.add_legend()\n",
    "\n",
    "#tickRange = range(0,max(toPrint['Day_0']),5)\n",
    "#g.set(xticks=tickRange,xticklabels=tickRange)\n",
    "\n",
    "tickRange = range(0,len(toPrint['Date_S']),7)\n",
    "g.set(xticks=tickRange,xticklabels=toPrint['Date_S'].iloc[tickRange])\n",
    "\n",
    "\n",
    "#Add vertical gridlines\n",
    "for x in range(1,len(tickRange)):\n",
    "    g.ax.axvline(g.ax.get_xticks()[x], alpha=0.25, color='grey')\n",
    "\n",
    "g.fig.suptitle(chosenCountry)\n",
    "custom_lines = [Line2D([0], [0], color='#4777CE', lw=6),\n",
    "                Line2D([0], [0], color='#4777CE', lw=2),\n",
    "                Line2D([0], [0], color=\"#bb3f3f\", lw=2)]\n",
    "plt.legend(custom_lines, ['Published new fatalities', 'New fatalities filtered', 'Model output'], \n",
    "           loc='center left', bbox_to_anchor=(1, 0.5))\n",
    "\n",
    "plt.show()"
   ]
  },
  {
   "cell_type": "code",
   "execution_count": 887,
   "metadata": {
    "scrolled": true
   },
   "outputs": [
    {
     "name": "stderr",
     "output_type": "stream",
     "text": [
      "/Applications/anaconda3/lib/python3.7/site-packages/seaborn/axisgrid.py:715: UserWarning: Using the pointplot function without specifying `order` is likely to produce an incorrect plot.\n",
      "  warnings.warn(warning)\n"
     ]
    },
    {
     "data": {
      "image/png": "[encoded data removed]",
      "text/plain": [
       "<Figure size 576x288 with 1 Axes>"
      ]
     },
     "metadata": {},
     "output_type": "display_data"
    }
   ],
   "source": [
    "g = sns.FacetGrid(toPrint, height=4, aspect=2)#, hue='Country')#, col=\"United Kingdom\")  legend_out = True,\n",
    "#g = g.map(sns.barplot, 'Day_0', 'dDeaths', color='#4777CE')#, hue='Country'\n",
    "g = g.map(sns.pointplot, 'Date', feature, markers=\"\", color='#4777CE')\n",
    "g = g.map(sns.pointplot, 'Date', 'Prediction', markers=\"\", color=\"#bb3f3f\")\n",
    "\n",
    "tickRange = range(0,len(toPrint['Date_S']),7)\n",
    "#tickRange = pd.date_range(min(toPrint['Date']),max(toPrint['Date']),freq='5D')\n",
    "g.set(xticks=tickRange,xticklabels=toPrint['Date_S'].iloc[tickRange])\n",
    "#g.ax.xaxis.set_major_locator(mdates.WeekdayLocator(byweekday=MO, interval=1))\n",
    "# Get only the month to show in the x-axis:\n",
    "#g.ax.xaxis.set_major_formatter(mdates.DateFormatter('%b'))\n",
    "\n",
    "#xtick_locator = mdates.AutoDateLocator()\n",
    "#xtick_formatter = mdates.AutoDateFormatter(xtick_locator)\n",
    "\n",
    "#g.ax.xaxis.set_major_locator(xtick_locator)\n",
    "#g.ax.xaxis.set_major_formatter(xtick_formatter)\n",
    "#g.ax.fmt_xdata = mdates.AutoDateFormatter('%Y-%m-%d')\n",
    "\n",
    "#plt.yticks(g.ax.get_yticks(), g.ax.get_yticks() * 100)\n",
    "\n",
    "g.set(ylim=(-.4, .4))\n",
    "g.set(yticklabels = (np.around(g.ax.get_yticks() * 100).astype(int)))\n",
    "plt.ylabel('Percentage Change in Daily Deeaths (%)')#, fontsize=16)\n",
    "\n",
    "#g.axes.xaxis.set_major_locator(ticker.MultipleLocator(5))\n",
    "for x in range(1,len(tickRange)):\n",
    "    g.ax.axvline(g.ax.get_xticks()[x], alpha=0.25, color='grey')\n",
    "\n",
    "plt.show()"
   ]
  },
  {
   "cell_type": "code",
   "execution_count": 888,
   "metadata": {},
   "outputs": [
    {
     "name": "stderr",
     "output_type": "stream",
     "text": [
      "/Applications/anaconda3/lib/python3.7/site-packages/pandas/core/indexing.py:1418: FutureWarning: \n",
      "Passing list-likes to .loc or [] with any missing label will raise\n",
      "KeyError in the future, you can use .reindex() as an alternative.\n",
      "\n",
      "See the documentation here:\n",
      "https://pandas.pydata.org/pandas-docs/stable/user_guide/indexing.html#deprecate-loc-reindex-listlike\n",
      "  return self._getitem_tuple(key)\n"
     ]
    }
   ],
   "source": [
    "G_features = [\"Retail and Recreation\", \"Grocery and Pharmacy\", \"Parks\", \"Transit Stations\", \"Workplaces\", \"Residential\"]\n",
    "core_features = ['Country', 'Date', 'Day_0']\n",
    "\n",
    "toPrintG = pd.DataFrame(columns = core_features)\n",
    "\n",
    "toPrintG['Google Mobility Indicator'] = np.nan\n",
    "toPrintG['% Change from baseline'] = np.nan\n",
    "\n",
    "#for x in G_features\n",
    "#toPrintG.loc[:,core_features] = toPrint.loc[:,core_features].reset_index(drop=True)#, inplace=True)\n",
    "for x in G_features:\n",
    "    \n",
    "    currentLen = len(toPrintG)\n",
    "    #print(toPrintG)\n",
    "    \n",
    "    toPrintG = toPrintG.append(df_output.loc[:,core_features].reset_index(drop=True), sort=False).reset_index(drop=True)\n",
    "    toPrintG.loc[currentLen:,'Google Mobility Indicator'] = x\n",
    "    toPrintG.loc[currentLen:,'% Change from baseline'] = df_output[x][:].values #toPrint.loc[:,x].reset_index(drop=True)\n",
    "\n",
    "#    toPrintG = toPrintG.append(toPrint, sort=False, ignore_index=True)\n",
    "#toPrint.loc[:,core_features].reset_index(drop=True)#, inplace=True)\n",
    "#toPrintG.loc[200,:]\n",
    "#toPrintG"
   ]
  },
  {
   "cell_type": "code",
   "execution_count": 889,
   "metadata": {
    "scrolled": true
   },
   "outputs": [
    {
     "data": {
      "text/plain": [
       "Text(0.5, 0.98, 'United Kingdom')"
      ]
     },
     "execution_count": 889,
     "metadata": {},
     "output_type": "execute_result"
    },
    {
     "data": {
      "image/png": "[encoded data removed]",
      "text/plain": [
       "<Figure size 881.35x360 with 1 Axes>"
      ]
     },
     "metadata": {},
     "output_type": "display_data"
    }
   ],
   "source": [
    "g = sns.relplot(x='Date', y='% Change from baseline', markers=\"\", hue='Google Mobility Indicator', kind='line', estimator=None, aspect = 2, data = toPrintG[toPrintG.Country == chosenCountry])\n",
    "g.fig.suptitle(chosenCountry)"
   ]
  },
  {
   "cell_type": "markdown",
   "metadata": {},
   "source": [
    "# Prediction"
   ]
  },
  {
   "cell_type": "code",
   "execution_count": 890,
   "metadata": {},
   "outputs": [
    {
     "name": "stdout",
     "output_type": "stream",
     "text": [
      "In the past 3 weeks, the average daily percentage percentage change in death is -3.4190790323817235%\n",
      "The ML model predicts -4.410479908310197%\n"
     ]
    }
   ],
   "source": [
    "a = df_output['dd_Deaths_f/dDeaths_f'][-dayOffset:].mean()*100\n",
    "print('In the past 3 weeks, the average daily percentage percentage change in death is ' + str(a) + '%')\n",
    "\n",
    "b = df_output['Prediction'][-dayOffset:].mean()*100\n",
    "print('The ML model predicts ' + str(b) + '%')"
   ]
  },
  {
   "cell_type": "code",
   "execution_count": 891,
   "metadata": {},
   "outputs": [],
   "source": [
    "googleCountryData = dfG_offset[dfG_offset['Country'] == chosenCountry].reset_index(drop=True)\n",
    "JHCountryData = df_output[df_output['Country'] == chosenCountry].reset_index(drop=True)\n",
    "\n",
    "\n",
    "Xp = scaler.transform(googleCountryData.drop(columns = ['Date', 'Country']))\n",
    "Yp = model.predict(Xp)"
   ]
  },
  {
   "cell_type": "code",
   "execution_count": 892,
   "metadata": {},
   "outputs": [],
   "source": [
    "Prediction = pd.DataFrame()#'Prediction', 'Date')\n",
    "Prediction['Prediction'] = Yp\n",
    "Prediction['Date'] = googleCountryData['Date']\n",
    "\n",
    "PredictionC = Prediction.copy()\n",
    "\n",
    "#Merging removes all dates not in both datasets (i.e. the prediction)\n",
    "Prediction = pd.merge(Prediction, JHCountryData[['dd_Deaths_f/dDeaths_f', 'Date']], on=['Date']) \n",
    "Prediction = Prediction.rename(columns={'dd_Deaths_f/dDeaths_f': \"Original\"})\n",
    "\n",
    "#So find the indexes of the future prediction\n",
    "indexVal = np.where(PredictionC['Date'].values > Prediction['Date'][-1:].values)\n",
    "#And append them back into the dataframe\n",
    "Prediction  = Prediction.append(PredictionC.loc[indexVal[0],:], sort=False, ignore_index=True)"
   ]
  },
  {
   "cell_type": "markdown",
   "metadata": {},
   "source": [
    "indexVal = np.where(googleCountryData['Date'].values > PredictionM['Date'][-1:].values)\n",
    "PredictionM.append(Prediction.loc[temp,:], )"
   ]
  },
  {
   "cell_type": "code",
   "execution_count": 893,
   "metadata": {},
   "outputs": [
    {
     "data": {
      "image/png": "[encoded data removed]",
      "text/plain": [
       "<Figure size 864x432 with 1 Axes>"
      ]
     },
     "metadata": {},
     "output_type": "display_data"
    }
   ],
   "source": [
    "Prediction['Date_S'] = Prediction['Date'].dt.strftime(\"%d-%b\")\n",
    "g = sns.FacetGrid(Prediction, height=6, aspect=2)\n",
    "g = g.map(sns.pointplot, 'Date', 'Original', markers=\"\", color='#4777CE', order=None)\n",
    "g = g.map(sns.pointplot, 'Date', 'Prediction', markers=\"\", color=\"#bb3f3f\", order=None)\n",
    "\n",
    "tickRange = range(0,len(Prediction['Date_S']),7)\n",
    "\n",
    "g.set(xticks=tickRange,xticklabels=Prediction['Date_S'].iloc[tickRange])\n",
    "\n",
    "g.set(ylim=(-.3, .3))\n",
    "g.set(yticklabels = (np.around(g.ax.get_yticks() * 100).astype(int)))\n",
    "plt.ylabel('Percentage Change in Daily Deaths (%)')#, fontsize=16)\n",
    "\n",
    "#Manually add vertical gridlines\n",
    "for x in range(1,len(tickRange)):\n",
    "    g.ax.axvline(g.ax.get_xticks()[x], alpha=0.25, color='grey')\n",
    "\n",
    "#Add a black line for y=0 to make it clearer\n",
    "x = np.where(g.ax.get_yticks() == 0)\n",
    "g.ax.axhline(g.ax.get_yticks()[x], alpha=0.5, color='black')\n",
    "\n",
    "\n",
    "#Add legend\n",
    "custom_lines = [Line2D([0], [0], color='#4777CE', lw=2),\n",
    "                Line2D([0], [0], color=\"#bb3f3f\", lw=2)]\n",
    "plt.legend(custom_lines, ['John Hopkins Data', \"ML Model's Prediction\"], loc='center left', bbox_to_anchor=(1, 0.5))\n",
    "\n",
    "plt.show()"
   ]
  },
  {
   "cell_type": "code",
   "execution_count": 894,
   "metadata": {},
   "outputs": [
    {
     "name": "stdout",
     "output_type": "stream",
     "text": [
      "The ML model predicts -4.410479908310197% since the most recent John Hopkins data point\n"
     ]
    }
   ],
   "source": [
    "#To calculate predicted average daily change of deaths, first calculate the index of the last JH datapoint \n",
    "latestJHDate = np.where(Prediction['Date'].values == JHCountryData['Date'][-1:].values)\n",
    "\n",
    "c = Prediction['Prediction'][latestJHDate[0][0]:].mean()*100\n",
    "print('The ML model predicts ' + str(b) + '% since the most recent John Hopkins data point')"
   ]
  },
  {
   "cell_type": "code",
   "execution_count": 895,
   "metadata": {
    "scrolled": true
   },
   "outputs": [],
   "source": [
    "Prediction.loc[:,'per Day'] = np.nan\n",
    "Prediction.loc[:,'Change per Day'] = np.nan\n",
    "\n",
    "#df_output.loc[:,'Prediction_Total'] = np.nan\n",
    "\n",
    "\n",
    "#for a in df_output['Country'].unique():\n",
    "temp = df_output[df_output['Country'] == chosenCountry].reset_index(drop=True)\n",
    "\n",
    "#    if feature == 'dd_Deaths_f/dDeaths_f':\n",
    "\n",
    "Prediction.loc[0, 'per Day'] = temp.dDeaths_filtered.iloc[0]\n",
    "Prediction.loc[0,'Change per Day'] = Prediction.loc[0, 'Prediction'] * Prediction.loc[0, 'per Day']\n",
    "\n",
    "calc = pd.DataFrame()\n",
    "\n",
    "for x in Prediction.index[1:]:\n",
    "   \n",
    "    Prediction.loc[x,'per Day'] = abs(Prediction.loc[x-1,'per Day'] / (1 - Prediction.loc[x,'Prediction']))\n",
    "\n",
    "#for x in Prediction.index[1:]:\n",
    "\n",
    "#    if x < dayOffset:\n",
    "#        Prediction.loc[x,'per Day'] = Prediction.loc[x-1,'per Day'] / (1 - Prediction.loc[x,'Prediction'])\n",
    "#    else:\n",
    "#        calc.loc[x-dayOffset, 'per Day'] = temp.dDeaths_filtered.iloc[x-dayOffset]\n",
    "\n",
    "#        for y in range(x-dayOffset+1,x+1):\n",
    "\n",
    "#            calc.loc[y,'per Day'] = calc.loc[y-1,'per Day'] / (1 - Prediction.loc[y,'Prediction'])\n",
    "\n",
    "        #x should equal y...\n",
    "#        Prediction.loc[x,'per Day'] = calc.loc[x,'per Day']"
   ]
  },
  {
   "cell_type": "code",
   "execution_count": 896,
   "metadata": {},
   "outputs": [],
   "source": [
    "Prediction['Raw per Day'] = temp['dDeaths']\n",
    "Prediction['Original per Day'] = temp['dDeaths_filtered']"
   ]
  },
  {
   "cell_type": "code",
   "execution_count": 897,
   "metadata": {},
   "outputs": [
    {
     "data": {
      "image/png": "[encoded data removed]",
      "text/plain": [
       "<Figure size 864x432 with 1 Axes>"
      ]
     },
     "metadata": {},
     "output_type": "display_data"
    }
   ],
   "source": [
    "g = sns.FacetGrid(Prediction, height=6, aspect=2)#, hue='Country')#, col=\"United Kingdom\")  legend_out = True,\n",
    "g = g.map(sns.barplot, 'Date', 'Raw per Day', color='#4777CE', order=None)#, hue='Country'\n",
    "g = g.map(sns.pointplot, 'Date', 'Original per Day', markers=\"\", color='#4777CE', order=None)\n",
    "g = g.map(sns.pointplot, 'Date', 'per Day', markers=\"\", color=\"#bb3f3f\", order=None)#.add_legend()\n",
    "#g.add_legend()\n",
    "\n",
    "#tickRange = range(0,max(toPrint['Day_0']),5)\n",
    "#g.set(xticks=tickRange,xticklabels=tickRange)\n",
    "\n",
    "tickRange = range(0,len(Prediction['Date_S']),7)\n",
    "g.set(xticks=tickRange,xticklabels=Prediction['Date_S'].iloc[tickRange])\n",
    "\n",
    "\n",
    "#Add vertical gridlines\n",
    "for x in range(1,len(tickRange)):\n",
    "    g.ax.axvline(g.ax.get_xticks()[x], alpha=0.25, color='grey')\n",
    "\n",
    "g.fig.suptitle(chosenCountry)\n",
    "custom_lines = [Line2D([0], [0], color='#4777CE', lw=6),\n",
    "                Line2D([0], [0], color='#4777CE', lw=2),\n",
    "                Line2D([0], [0], color=\"#bb3f3f\", lw=2)]\n",
    "plt.legend(custom_lines, ['Published daily fatalities', 'Daily fatalities filtered', 'Model Predictions'],\n",
    "           loc='center left', bbox_to_anchor=(1, 0.5))\n",
    "\n",
    "plt.show()"
   ]
  },
  {
   "cell_type": "code",
   "execution_count": 907,
   "metadata": {},
   "outputs": [
    {
     "data": {
      "text/plain": [
       "Text(32.94855000000001, 0.5, 'Deaths per day')"
      ]
     },
     "execution_count": 907,
     "metadata": {},
     "output_type": "execute_result"
    },
    {
     "data": {
      "image/png": "[encoded data removed]",
      "text/plain": [
       "<Figure size 837.975x360 with 1 Axes>"
      ]
     },
     "metadata": {},
     "output_type": "display_data"
    }
   ],
   "source": [
    "key = ['United Kingdom', 'USA', 'Spain', 'France', 'Italy' ,  'China']\n",
    "#China is included in this list as it was the first country to be effected by COVID-19 \n",
    "\n",
    "g = sns.relplot('Day_100', 'dDeaths_filtered', kind='line', estimator=None, hue = 'Country', hue_order = key, data = dfJ, aspect = 2, lw=2)# color='#4777CE', order=None)\n",
    "#plt.yscale('log')\n",
    "g.set(xlim=(0, 70))\n",
    "g.set(ylim=(1, 2500))\n",
    "plt.title('Deaths per day from some of the most affected countries')\n",
    "plt.xlabel('Days since 100th fatality')\n",
    "plt.ylabel('Deaths per day')"
   ]
  },
  {
   "cell_type": "code",
   "execution_count": 911,
   "metadata": {},
   "outputs": [
    {
     "data": {
      "text/plain": [
       "<matplotlib.lines.Line2D at 0x1c22cf3250>"
      ]
     },
     "execution_count": 911,
     "metadata": {},
     "output_type": "execute_result"
    },
    {
     "data": {
      "image/png": "[encoded data removed]",
      "text/plain": [
       "<Figure size 837.975x360 with 1 Axes>"
      ]
     },
     "metadata": {},
     "output_type": "display_data"
    }
   ],
   "source": [
    "key = ['United Kingdom', 'USA', 'Spain', 'France', 'Italy' ,  'China']\n",
    "#China is included in this list as it was the first country to be effected by COVID-19 \n",
    "\n",
    "g = sns.relplot('Day_100', 'dd_Deaths_f/dDeaths_f', kind='line', estimator=None, hue = 'Country', hue_order = key, data = dfJ, aspect = 2, lw=2)# color='#4777CE', order=None)\n",
    "#plt.yscale('log')\n",
    "g.set(xlim=(0, 70))\n",
    "g.set(ylim=(-.2, .3))\n",
    "plt.title('Deaths per day from some of the most affected countries')\n",
    "plt.xlabel('Days since 100th fatality')\n",
    "\n",
    "g.set(yticklabels = (np.around(g.ax.get_yticks() * 100).astype(int)))\n",
    "plt.ylabel('Percentage Change in Daily Deaths (%)')#, fontsize=16)\n",
    "\n",
    "#Add a black line for y=0 to make it clearer\n",
    "x = np.where(g.ax.get_yticks() == 0)\n",
    "g.ax.axhline(g.ax.get_yticks()[x], alpha=0.5, color='black')\n"
   ]
  },
  {
   "cell_type": "code",
   "execution_count": null,
   "metadata": {},
   "outputs": [],
   "source": []
  }
 ],
 "metadata": {
  "kernelspec": {
   "display_name": "Python 3",
   "language": "python",
   "name": "python3"
  },
  "language_info": {
   "codemirror_mode": {
    "name": "ipython",
    "version": 3
   },
   "file_extension": ".py",
   "mimetype": "text/x-python",
   "name": "python",
   "nbconvert_exporter": "python",
   "pygments_lexer": "ipython3",
   "version": "3.7.4"
  }
 },
 "nbformat": 4,
 "nbformat_minor": 2
}
